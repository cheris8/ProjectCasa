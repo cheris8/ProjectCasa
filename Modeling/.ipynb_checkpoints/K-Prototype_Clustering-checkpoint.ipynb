{
 "cells": [
  {
   "cell_type": "markdown",
   "metadata": {},
   "source": [
    "# 라이브러리"
   ]
  },
  {
   "cell_type": "code",
   "execution_count": 5,
   "metadata": {
    "ExecuteTime": {
     "end_time": "2020-06-02T15:52:00.793554Z",
     "start_time": "2020-06-02T15:52:00.127396Z"
    }
   },
   "outputs": [],
   "source": [
    "import psycopg2\n",
    "import pandas as pd\n",
    "import numpy as np\n",
    "import json\n",
    "import datetime\n",
    "import re\n",
    "\n",
    "import joblib\n",
    "from sklearn.preprocessing import MinMaxScaler\n",
    "from sklearn.preprocessing import LabelEncoder\n",
    "from kmodes.kprototypes import KPrototypes"
   ]
  },
  {
   "cell_type": "markdown",
   "metadata": {},
   "source": [
    "# 데이터 불러오기"
   ]
  },
  {
   "cell_type": "code",
   "execution_count": 6,
   "metadata": {
    "ExecuteTime": {
     "end_time": "2020-06-02T15:52:00.797547Z",
     "start_time": "2020-06-02T15:52:00.794558Z"
    }
   },
   "outputs": [],
   "source": [
    "def call_df(table_name):\n",
    "    with open('config.json', 'r') as f:\n",
    "        config = json.load(f)\n",
    "        \n",
    "    conn = psycopg2.connect(user = config['USER'],\n",
    "                              password = config['PASSWORD'],\n",
    "                              host = config['HOST'],\n",
    "                              port = config['PORT'],\n",
    "                              database = config['DATABASE'])\n",
    "    \n",
    "    sql = f'SELECT * FROM {table_name}'\n",
    "    df = pd.read_sql_query(sql, conn)\n",
    "    conn.close()\n",
    "    return df"
   ]
  },
  {
   "cell_type": "code",
   "execution_count": 7,
   "metadata": {
    "ExecuteTime": {
     "end_time": "2020-06-02T15:52:03.088070Z",
     "start_time": "2020-06-02T15:52:00.798548Z"
    }
   },
   "outputs": [],
   "source": [
    "district = call_df('crawling_db.district_table')\n",
    "apartment = call_df('crawling_db.apartment_table').drop(columns='table_id')\n",
    "price = call_df('crawling_db.price_table')"
   ]
  },
  {
   "cell_type": "markdown",
   "metadata": {},
   "source": [
    "# 데이터 전처리"
   ]
  },
  {
   "cell_type": "markdown",
   "metadata": {},
   "source": [
    "## 변수 생성"
   ]
  },
  {
   "cell_type": "markdown",
   "metadata": {},
   "source": [
    "### 단위 면적당 최고가(원/$m^2$)\n",
    "- 단위 면적당 최고가 변수를 클러스터링에 사용합니다. 집단 내 가격의 분산을 줄여주기 위한 변수입니다."
   ]
  },
  {
   "cell_type": "code",
   "execution_count": 4,
   "metadata": {
    "ExecuteTime": {
     "end_time": "2020-06-02T15:52:03.793229Z",
     "start_time": "2020-06-02T15:52:03.089070Z"
    }
   },
   "outputs": [],
   "source": [
    "# area(면적) 변수 전처리\n",
    "price['area'] = price['area'].apply(lambda x: int(re.split('\\D',x)[0]))\n",
    "\n",
    "# unit_price(단위 가격) 변수 생성\n",
    "price['unit_price'] = round(price['amount']/price['area'])\n",
    "\n",
    "# 아파트 ID별 최고가 변수 추출 \n",
    "max_price = price.groupby('apartment_id')['unit_price'].max()"
   ]
  },
  {
   "cell_type": "markdown",
   "metadata": {
    "ExecuteTime": {
     "end_time": "2020-06-02T15:11:49.486951Z",
     "start_time": "2020-06-02T15:11:49.483950Z"
    }
   },
   "source": [
    "## 데이터 병합"
   ]
  },
  {
   "cell_type": "code",
   "execution_count": 5,
   "metadata": {
    "ExecuteTime": {
     "end_time": "2020-06-02T15:52:03.816234Z",
     "start_time": "2020-06-02T15:52:03.794229Z"
    }
   },
   "outputs": [],
   "source": [
    "df = (apartment.\n",
    "      merge(district, how='left', on='district_id').\n",
    "      merge(school, how='left', on='apartment_id').\n",
    "      merge(subway, how='left', on='apartment_id').\n",
    "      merge(max_price, how='left', on='apartment_id'))"
   ]
  },
  {
   "cell_type": "markdown",
   "metadata": {},
   "source": [
    "## 숫자형 자료"
   ]
  },
  {
   "cell_type": "code",
   "execution_count": 6,
   "metadata": {
    "ExecuteTime": {
     "end_time": "2020-06-02T15:52:03.822236Z",
     "start_time": "2020-06-02T15:52:03.817235Z"
    }
   },
   "outputs": [],
   "source": [
    "df['school_students'] = pd.to_numeric(df['school_students'])"
   ]
  },
  {
   "cell_type": "code",
   "execution_count": 1,
   "metadata": {
    "ExecuteTime": {
     "end_time": "2020-06-02T15:52:03.836231Z",
     "start_time": "2020-06-02T15:52:03.823236Z"
    }
   },
   "outputs": [
    {
     "ename": "NameError",
     "evalue": "name 'apartment' is not defined",
     "output_type": "error",
     "traceback": [
      "\u001b[0;31m---------------------------------------------------------------------------\u001b[0m",
      "\u001b[0;31mNameError\u001b[0m                                 Traceback (most recent call last)",
      "\u001b[0;32m<ipython-input-1-bf8d5891c0c6>\u001b[0m in \u001b[0;36m<module>\u001b[0;34m\u001b[0m\n\u001b[0;32m----> 1\u001b[0;31m \u001b[0mapartment\u001b[0m\u001b[0;34m\u001b[0m\u001b[0;34m\u001b[0m\u001b[0m\n\u001b[0m",
      "\u001b[0;31mNameError\u001b[0m: name 'apartment' is not defined"
     ]
    }
   ],
   "source": [
    "apartment"
   ]
  },
  {
   "cell_type": "markdown",
   "metadata": {},
   "source": [
    "- 네이버에서 근처에 학교가 없을 경우, 학교가 없다고 인식하여 결측치가 발생합니다. 이를 0으로 대체하겠습니다.\n",
    "- 거래 기록이 아예 없는 데이터는 단위 가격이 존재하지 않습니다. 이를 0으로 대체하겠습니다."
   ]
  },
  {
   "cell_type": "code",
   "execution_count": 8,
   "metadata": {
    "ExecuteTime": {
     "end_time": "2020-06-02T15:52:03.841232Z",
     "start_time": "2020-06-02T15:52:03.837231Z"
    }
   },
   "outputs": [],
   "source": [
    "df['school_students'] = df['school_students'].fillna(0)\n",
    "df['unit_price'] = df['unit_price'].fillna(0)"
   ]
  },
  {
   "cell_type": "markdown",
   "metadata": {},
   "source": [
    "### 정규화\n",
    "- MinMaxScaler로 정규화합니다."
   ]
  },
  {
   "cell_type": "code",
   "execution_count": 9,
   "metadata": {
    "ExecuteTime": {
     "end_time": "2020-06-02T15:52:03.847233Z",
     "start_time": "2020-06-02T15:52:03.842232Z"
    }
   },
   "outputs": [],
   "source": [
    "def minmax_scaler_save(data, variable):\n",
    "    scaler = MinMaxScaler()\n",
    "    scaler.fit(data[variable].values.reshape(-1,1))\n",
    "    joblib.dump(scaler, f'./model/{variable}_scaler.pkl')\n",
    "\n",
    "def scaling(data, variable):\n",
    "    scaler = joblib.load(f'./model/{variable}_scaler.pkl')\n",
    "    output = scaler.transform(data[variable].values.reshape(-1,1))\n",
    "    return output\n",
    "\n",
    "def inverse_scaling(data, variable):\n",
    "    scaler = joblib.load(f'./model/{variable}_scaler.pkl')\n",
    "    output = scaler.inverse_transform(data[variable].values.reshape(-1,1))\n",
    "    return output "
   ]
  },
  {
   "cell_type": "code",
   "execution_count": 10,
   "metadata": {
    "ExecuteTime": {
     "end_time": "2020-06-02T15:52:03.861236Z",
     "start_time": "2020-06-02T15:52:03.848234Z"
    }
   },
   "outputs": [],
   "source": [
    "numericals = [\n",
    "    'school_students',\n",
    "    'st_dist',\n",
    "    'apartment_parking',\n",
    "    'unit_price'\n",
    "    ]\n",
    "\n",
    "for variable in numericals:\n",
    "    minmax_scaler_save(df, variable)\n",
    "    df[variable] = scaling(df, variable)"
   ]
  },
  {
   "cell_type": "markdown",
   "metadata": {},
   "source": [
    "## 범주형 자료"
   ]
  },
  {
   "cell_type": "code",
   "execution_count": 11,
   "metadata": {
    "ExecuteTime": {
     "end_time": "2020-06-02T15:52:03.864237Z",
     "start_time": "2020-06-02T15:52:03.862236Z"
    }
   },
   "outputs": [],
   "source": [
    "labels = [\n",
    "    'school_name',\n",
    "    'apartment_addr_town',\n",
    "    'st_name'\n",
    "    ]\n",
    "\n",
    "categoricals = [\n",
    "    'district_id',\n",
    "    'apartment_build_year',\n",
    "    'school_name',\n",
    "    'apartment_addr_town',\n",
    "    'st_name'\n",
    "    ]"
   ]
  },
  {
   "cell_type": "code",
   "execution_count": 12,
   "metadata": {
    "ExecuteTime": {
     "end_time": "2020-06-02T15:52:03.870238Z",
     "start_time": "2020-06-02T15:52:03.865237Z"
    }
   },
   "outputs": [],
   "source": [
    "def label_encoder_save(data, var_name):\n",
    "    encoder = LabelEncoder()\n",
    "    encoder.fit(data[var_name])\n",
    "    joblib.dump(encoder, f'./model/{var_name}_encoder.pkl')\n",
    "\n",
    "def label_encoding(data, variable):\n",
    "    encoder = joblib.load(f'./model/{variable}_encoder.pkl')\n",
    "    output = encoder.transform(data[variable])\n",
    "    return output\n",
    "\n",
    "def label_decoding(data, variable):\n",
    "    encoder = joblib.load(f'./model/{variable}_encoder.pkl')\n",
    "    output = encoder.inverse_transform(data[variable])\n",
    "    return output"
   ]
  },
  {
   "cell_type": "code",
   "execution_count": 13,
   "metadata": {
    "ExecuteTime": {
     "end_time": "2020-06-02T15:52:03.887242Z",
     "start_time": "2020-06-02T15:52:03.870238Z"
    }
   },
   "outputs": [],
   "source": [
    "for variable in labels:\n",
    "    label_encoder_save(df, variable)\n",
    "    df[variable] = label_encoding(df, variable)"
   ]
  },
  {
   "cell_type": "markdown",
   "metadata": {},
   "source": [
    "# Modeling"
   ]
  },
  {
   "cell_type": "markdown",
   "metadata": {},
   "source": [
    "## K-Prototypes Clustering\n",
    "- 클러스터링 모델에 사용할 변수는 다음과 같습니다.\n",
    "\n",
    "|Variable|Description|\n",
    "|---|------|\n",
    "|district_id|지역별 고유 ID|\n",
    "|apartment_build_year|아파트의 시공 연도|\n",
    "|school_name|아파트 주변에 있는 초등학교의 이름|\n",
    "|st_name|아파트 주변에 있는 지하철 역의 이름|\n",
    "|school_students|아파트 주변에 있는 초등학교의 학생 수|\n",
    "|st_dist|아파트 주변에 있는 지하철 역과의 거리|\n",
    "|apartment_parking|아파트의 주차 면적|\n",
    "|unit_price|역대 면적 단위 가격의 최고가|"
   ]
  },
  {
   "cell_type": "code",
   "execution_count": 14,
   "metadata": {
    "ExecuteTime": {
     "end_time": "2020-06-02T15:52:03.895244Z",
     "start_time": "2020-06-02T15:52:03.888243Z"
    }
   },
   "outputs": [
    {
     "name": "stdout",
     "output_type": "stream",
     "text": [
      "<class 'pandas.core.frame.DataFrame'>\n",
      "Int64Index: 8016 entries, 0 to 8015\n",
      "Data columns (total 9 columns):\n",
      " #   Column                Non-Null Count  Dtype  \n",
      "---  ------                --------------  -----  \n",
      " 0   district_id           8016 non-null   int64  \n",
      " 1   apartment_build_year  8016 non-null   int64  \n",
      " 2   school_name           8016 non-null   int32  \n",
      " 3   apartment_addr_town   8016 non-null   int32  \n",
      " 4   st_name               8016 non-null   int32  \n",
      " 5   school_students       8016 non-null   float64\n",
      " 6   st_dist               8016 non-null   float64\n",
      " 7   apartment_parking     8016 non-null   float64\n",
      " 8   unit_price            8016 non-null   float64\n",
      "dtypes: float64(4), int32(3), int64(2)\n",
      "memory usage: 532.3 KB\n",
      "None\n"
     ]
    }
   ],
   "source": [
    "train = df[categoricals + numericals].copy()\n",
    "print(train.info())"
   ]
  },
  {
   "cell_type": "code",
   "execution_count": 15,
   "metadata": {
    "ExecuteTime": {
     "end_time": "2020-06-02T15:52:29.669042Z",
     "start_time": "2020-06-02T15:52:03.896245Z"
    }
   },
   "outputs": [],
   "source": [
    "k = 20\n",
    "kproto = KPrototypes(n_clusters=k, verbose=0, init='Cao', random_state=0, n_jobs=-1)\n",
    "train['cluster'] = kproto.fit_predict(train, categorical=list(range(len(categoricals))))"
   ]
  },
  {
   "cell_type": "markdown",
   "metadata": {},
   "source": [
    "## Saving as Pickle"
   ]
  },
  {
   "cell_type": "code",
   "execution_count": 16,
   "metadata": {
    "ExecuteTime": {
     "end_time": "2020-06-02T15:52:29.677045Z",
     "start_time": "2020-06-02T15:52:29.670043Z"
    }
   },
   "outputs": [],
   "source": [
    "train['apartment_id'] = df['apartment_id']\n",
    "output = train[['apartment_id','cluster']].sort_values('apartment_id').reset_index(drop=True)\n",
    "output.to_pickle('./data/clustered_apartment.pkl')"
   ]
  }
 ],
 "metadata": {
  "kernelspec": {
   "display_name": "Python 3",
   "language": "python",
   "name": "python3"
  },
  "language_info": {
   "codemirror_mode": {
    "name": "ipython",
    "version": 3
   },
   "file_extension": ".py",
   "mimetype": "text/x-python",
   "name": "python",
   "nbconvert_exporter": "python",
   "pygments_lexer": "ipython3",
   "version": "3.7.4"
  },
  "toc": {
   "base_numbering": 1,
   "nav_menu": {},
   "number_sections": true,
   "sideBar": true,
   "skip_h1_title": false,
   "title_cell": "Table of Contents",
   "title_sidebar": "Contents",
   "toc_cell": false,
   "toc_position": {
    "height": "calc(100% - 180px)",
    "left": "10px",
    "top": "150px",
    "width": "165px"
   },
   "toc_section_display": true,
   "toc_window_display": true
  },
  "varInspector": {
   "cols": {
    "lenName": 16,
    "lenType": 16,
    "lenVar": 40
   },
   "kernels_config": {
    "python": {
     "delete_cmd_postfix": "",
     "delete_cmd_prefix": "del ",
     "library": "var_list.py",
     "varRefreshCmd": "print(var_dic_list())"
    },
    "r": {
     "delete_cmd_postfix": ") ",
     "delete_cmd_prefix": "rm(",
     "library": "var_list.r",
     "varRefreshCmd": "cat(var_dic_list()) "
    }
   },
   "position": {
    "height": "348px",
    "left": "1550px",
    "right": "20px",
    "top": "120px",
    "width": "350px"
   },
   "types_to_exclude": [
    "module",
    "function",
    "builtin_function_or_method",
    "instance",
    "_Feature"
   ],
   "window_display": false
  }
 },
 "nbformat": 4,
 "nbformat_minor": 2
}
