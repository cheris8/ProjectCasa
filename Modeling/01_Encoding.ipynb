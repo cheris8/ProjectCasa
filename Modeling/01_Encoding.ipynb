{
 "cells": [
  {
   "cell_type": "markdown",
   "metadata": {},
   "source": [
    "---\n",
    "EDA를 통해 사용할 변수 중 라벨 인코딩이 필요한 변수의 인코더를 별도로 저장합니다.\n",
    "# 데이터 불러오기"
   ]
  },
  {
   "cell_type": "code",
   "execution_count": null,
   "metadata": {
    "ExecuteTime": {
     "end_time": "2020-06-01T15:05:47.221849Z",
     "start_time": "2020-06-01T15:05:46.588699Z"
    }
   },
   "outputs": [],
   "source": [
    "import psycopg2\n",
    "import pandas as pd\n",
    "import json\n",
    "import re\n",
    "\n",
    "import joblib\n",
    "from sklearn.preprocessing import LabelEncoder\n",
    "from sklearn.preprocessing import StandardScaler"
   ]
  },
  {
   "cell_type": "code",
   "execution_count": null,
   "metadata": {
    "ExecuteTime": {
     "end_time": "2020-06-01T15:05:47.225850Z",
     "start_time": "2020-06-01T15:05:47.222849Z"
    }
   },
   "outputs": [],
   "source": [
    "def call_df(table_name):\n",
    "    with open('config.json', 'r') as f:\n",
    "        config = json.load(f)\n",
    "        \n",
    "    conn = psycopg2.connect(user = config['USER'],\n",
    "                              password = config['PASSWORD'],\n",
    "                              host = config['HOST'],\n",
    "                              port = config['PORT'],\n",
    "                              database = config['DATABASE'])\n",
    "    \n",
    "    sql = f'SELECT * FROM {table_name}'\n",
    "    df = pd.read_sql_query(sql, conn)\n",
    "    conn.close()\n",
    "    return df"
   ]
  },
  {
   "cell_type": "code",
   "execution_count": null,
   "metadata": {
    "ExecuteTime": {
     "end_time": "2020-06-01T15:05:48.962239Z",
     "start_time": "2020-06-01T15:05:47.226842Z"
    }
   },
   "outputs": [],
   "source": [
    "district = call_df('crawling_db.district_table')\n",
    "apartment = call_df('crawling_db.apartment_table').drop(columns='table_id')\n",
    "school = call_df('crawling_db.school_table').drop(columns='table_id')\n",
    "subway = call_df('crawling_db.subway_table').drop(columns='table_id')\n",
    "price = call_df('crawling_db.price_table')"
   ]
  },
  {
   "cell_type": "markdown",
   "metadata": {},
   "source": [
    "# 라벨 인코딩\n",
    "- 아파트 시공사, 주변 학교명, 주변 역명을 라벨 인코딩하여 저장"
   ]
  },
  {
   "cell_type": "code",
   "execution_count": null,
   "metadata": {
    "ExecuteTime": {
     "end_time": "2020-06-01T15:05:48.966241Z",
     "start_time": "2020-06-01T15:05:48.963240Z"
    }
   },
   "outputs": [],
   "source": [
    "def label_encoder_save(data, var_name):\n",
    "    encoder = LabelEncoder()\n",
    "    encoder.fit(data[var_name])\n",
    "    joblib.dump(encoder, f'./model/{var_name}_encoder.pkl')"
   ]
  },
  {
   "cell_type": "code",
   "execution_count": null,
   "metadata": {
    "ExecuteTime": {
     "end_time": "2020-06-01T15:05:48.978235Z",
     "start_time": "2020-06-01T15:05:48.967241Z"
    }
   },
   "outputs": [],
   "source": [
    "label_encoder_save(apartment, 'apartment_builder')\n",
    "label_encoder_save(school, 'school_name')\n",
    "label_encoder_save(subway, 'st_name')"
   ]
  }
 ],
 "metadata": {
  "kernelspec": {
   "display_name": "Python 3",
   "language": "python",
   "name": "python3"
  },
  "language_info": {
   "codemirror_mode": {
    "name": "ipython",
    "version": 3
   },
   "file_extension": ".py",
   "mimetype": "text/x-python",
   "name": "python",
   "nbconvert_exporter": "python",
   "pygments_lexer": "ipython3",
   "version": "3.7.6"
  },
  "toc": {
   "base_numbering": 1,
   "nav_menu": {},
   "number_sections": true,
   "sideBar": true,
   "skip_h1_title": false,
   "title_cell": "Table of Contents",
   "title_sidebar": "Contents",
   "toc_cell": false,
   "toc_position": {},
   "toc_section_display": true,
   "toc_window_display": false
  },
  "varInspector": {
   "cols": {
    "lenName": 16,
    "lenType": 16,
    "lenVar": 40
   },
   "kernels_config": {
    "python": {
     "delete_cmd_postfix": "",
     "delete_cmd_prefix": "del ",
     "library": "var_list.py",
     "varRefreshCmd": "print(var_dic_list())"
    },
    "r": {
     "delete_cmd_postfix": ") ",
     "delete_cmd_prefix": "rm(",
     "library": "var_list.r",
     "varRefreshCmd": "cat(var_dic_list()) "
    }
   },
   "types_to_exclude": [
    "module",
    "function",
    "builtin_function_or_method",
    "instance",
    "_Feature"
   ],
   "window_display": false
  }
 },
 "nbformat": 4,
 "nbformat_minor": 4
}
