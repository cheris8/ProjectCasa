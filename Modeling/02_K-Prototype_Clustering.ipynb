{
 "cells": [
  {
   "cell_type": "markdown",
   "metadata": {},
   "source": [
    "# 라이브러리"
   ]
  },
  {
   "cell_type": "code",
   "execution_count": null,
   "metadata": {},
   "outputs": [],
   "source": [
    "import psycopg2\n",
    "import pandas as pd\n",
    "import numpy as np\n",
    "import matplotlib.pyplot as plt\n",
    "import seaborn as sns\n",
    "import json\n",
    "import datetime\n",
    "import re\n",
    "import joblib\n",
    "\n",
    "from tqdm import tqdm\n",
    "from sklearn.preprocessing import LabelEncoder\n",
    "from kmodes.kprototypes import KPrototypes"
   ]
  },
  {
   "cell_type": "markdown",
   "metadata": {},
   "source": [
    "# 데이터 불러오기"
   ]
  },
  {
   "cell_type": "code",
   "execution_count": null,
   "metadata": {},
   "outputs": [],
   "source": [
    "def call_df(table_name):\n",
    "    with open('config.json', 'r') as f:\n",
    "        config = json.load(f)\n",
    "        \n",
    "    conn = psycopg2.connect(user = config['USER'],\n",
    "                              password = config['PASSWORD'],\n",
    "                              host = config['HOST'],\n",
    "                              port = config['PORT'],\n",
    "                              database = config['DATABASE'])\n",
    "    \n",
    "    sql = f'SELECT * FROM {table_name}'\n",
    "    df = pd.read_sql_query(sql, conn)\n",
    "    conn.close()\n",
    "    return df"
   ]
  },
  {
   "cell_type": "code",
   "execution_count": null,
   "metadata": {},
   "outputs": [],
   "source": [
    "district = call_df('crawling_db.district_table')\n",
    "apartment = call_df('crawling_db.apartment_table').drop(columns='table_id')\n",
    "school = call_df('crawling_db.school_table').drop(columns='table_id')\n",
    "subway = call_df('crawling_db.subway_table').drop(columns='table_id')\n",
    "price = call_df('crawling_db.price_table')"
   ]
  },
  {
   "cell_type": "code",
   "execution_count": null,
   "metadata": {},
   "outputs": [],
   "source": [
    "df = (apartment.\n",
    "      merge(district, how='left', on='district_id').\n",
    "      merge(school, how='left', on='apartment_id').\n",
    "      merge(subway, how='left',on='apartment_id'))"
   ]
  },
  {
   "cell_type": "markdown",
   "metadata": {},
   "source": [
    "# 데이터 전처리"
   ]
  },
  {
   "cell_type": "markdown",
   "metadata": {},
   "source": [
    "## 숫자형 자료"
   ]
  },
  {
   "cell_type": "code",
   "execution_count": null,
   "metadata": {},
   "outputs": [],
   "source": [
    "df['apartment_floor_min'] = pd.to_numeric(df['apartment_floor_min'])\n",
    "df['apartment_floor_max'] = pd.to_numeric(df['apartment_floor_max'])\n",
    "df['school_students'] = pd.to_numeric(df['school_students'])\n",
    "df['school_addr_town'] = df['school_addr_town'].apply(lambda x: re.split('\\d',x)[0])"
   ]
  },
  {
   "cell_type": "code",
   "execution_count": null,
   "metadata": {},
   "outputs": [],
   "source": [
    "print(df.isna().sum())"
   ]
  },
  {
   "cell_type": "markdown",
   "metadata": {},
   "source": [
    "- 네이버에서 근처에 학교가 없을 경우, 학교가 없다고 인식하여 결측치가 발생합니다. 이를 0으로 대체하겠습니다."
   ]
  },
  {
   "cell_type": "code",
   "execution_count": null,
   "metadata": {},
   "outputs": [],
   "source": [
    "df['school_students'] = df['school_students'].fillna(0)"
   ]
  },
  {
   "cell_type": "markdown",
   "metadata": {},
   "source": [
    "### 정규화\n",
    "- 표준정규분포 정규화"
   ]
  },
  {
   "cell_type": "code",
   "execution_count": null,
   "metadata": {},
   "outputs": [],
   "source": [
    "from sklearn.preprocessing import StandardScaler\n",
    "\n",
    "def standard_scaler(data, variable):\n",
    "    scaler = StandardScaler()\n",
    "    scaler.fit(data[variable].values.reshape(-1,1))\n",
    "    joblib.dump(scaler, f'./model/{variable}_scaler.pkl')\n",
    "\n",
    "def scaling(data, variable):\n",
    "    scaler = joblib.load(f'./model/{variable}_scaler.pkl')\n",
    "    output = scaler.transform(data[variable].values.reshape(-1,1))\n",
    "    return output\n",
    "\n",
    "def inverse_scaling(data, variable):\n",
    "    scaler = joblib.load(f'./model/{variable}_scaler.pkl')\n",
    "    output = scaler.inverse_transform(data[variable].values.reshape(-1,1))\n",
    "    return output "
   ]
  },
  {
   "cell_type": "code",
   "execution_count": null,
   "metadata": {},
   "outputs": [],
   "source": [
    "numericals = [\n",
    "    'apartment_floor_min',\n",
    "    'apartment_floor_max',\n",
    "    'apartment_parking',\n",
    "    'school_students',\n",
    "    'st_dist',\n",
    "    'st_volume'\n",
    "    ]\n",
    "\n",
    "for variable in numericals:\n",
    "    standard_scaler(df, variable)\n",
    "    df[variable] = scaling(df, variable)"
   ]
  },
  {
   "cell_type": "markdown",
   "metadata": {},
   "source": [
    "## 범주형 자료"
   ]
  },
  {
   "cell_type": "code",
   "execution_count": null,
   "metadata": {},
   "outputs": [],
   "source": [
    "labels = [\n",
    "    'apartment_addr_town',\n",
    "    'apartment_builder',\n",
    "    'school_name',\n",
    "    'school_addr_town',\n",
    "    'st_name'\n",
    "    ]\n",
    "\n",
    "categoricals = [\n",
    "    'district_id',\n",
    "    'apartment_addr_town',\n",
    "    'apartment_builder',\n",
    "    'apartment_build_year',\n",
    "    'apartment_build_month',\n",
    "    'school_name',\n",
    "    'school_addr_district',\n",
    "    'school_addr_town',\n",
    "    'st_name'\n",
    "    ]"
   ]
  },
  {
   "cell_type": "code",
   "execution_count": null,
   "metadata": {},
   "outputs": [],
   "source": [
    "def label_encoding(data, variable):\n",
    "    encoder = joblib.load(f'./model/{variable}_encoder.pkl')\n",
    "    output = encoder.transform(data[variable])\n",
    "    return output\n",
    "\n",
    "def label_decoding(data, variable):\n",
    "    encoder = joblib.load(f'./model/{variable}_encoder.pkl')\n",
    "    output = encoder.inverse_transform(data[variable])\n",
    "    return output"
   ]
  },
  {
   "cell_type": "code",
   "execution_count": null,
   "metadata": {},
   "outputs": [],
   "source": [
    "for variable in labels:\n",
    "    df[variable] = label_encoding(df, variable)"
   ]
  },
  {
   "cell_type": "markdown",
   "metadata": {},
   "source": [
    "# Modeling "
   ]
  },
  {
   "cell_type": "markdown",
   "metadata": {},
   "source": [
    "## K-Prototypes Clustering"
   ]
  },
  {
   "cell_type": "code",
   "execution_count": null,
   "metadata": {},
   "outputs": [],
   "source": [
    "train = df[categoricals + numericals].copy()\n",
    "print(len(categoricals))"
   ]
  },
  {
   "cell_type": "code",
   "execution_count": null,
   "metadata": {},
   "outputs": [],
   "source": [
    "train.info()"
   ]
  },
  {
   "cell_type": "code",
   "execution_count": null,
   "metadata": {},
   "outputs": [],
   "source": [
    "n_pseudo = range(1,21) \n",
    "cost = []\n",
    "for i in tqdm(n_pseudo):\n",
    "    kproto = KPrototypes(n_clusters=i, verbose=0, random_state=0, n_jobs=-1)\n",
    "    kproto.fit_predict(train, categorical=list(range(len(categoricals))))\n",
    "    cost.append(kproto.cost_)\n",
    "cost_table = pd.DataFrame({'n':n_pseudo, 'cost':cost})"
   ]
  },
  {
   "cell_type": "code",
   "execution_count": null,
   "metadata": {},
   "outputs": [],
   "source": [
    "def cost_visualize(data, x, y):\n",
    "    sns.pointplot(data=data, x=x, y=y)\n",
    "    plt.title('Cost Visualization')\n",
    "    plt.show()\n",
    "cost_visualize(cost_table, 'n', 'cost')"
   ]
  },
  {
   "cell_type": "markdown",
   "metadata": {},
   "source": [
    "- 적당한 k를 찾기 위해 Elbow Method를 사용합니다. Cost가 줄어드는 비율이 확연하게 줄어드는 지점이 유의미한 k라고 가정합니다. 위의 Cost 시각화 그래프에서 기울기의 절대값이 변동하는 비율이 0.05 이하로 떨어지는 시점을 적당한 k라고 정의하겠습니다.   "
   ]
  },
  {
   "cell_type": "code",
   "execution_count": null,
   "metadata": {},
   "outputs": [],
   "source": [
    "cost_table['coef'] = abs(cost_table['cost'] - cost_table['cost'].shift(1))\n",
    "cost_table['ratio'] =  abs((cost_table['coef'].shift(1) - cost_table['coef'])/cost_table['coef'])"
   ]
  },
  {
   "cell_type": "code",
   "execution_count": null,
   "metadata": {},
   "outputs": [],
   "source": [
    "cost_table"
   ]
  },
  {
   "cell_type": "code",
   "execution_count": null,
   "metadata": {},
   "outputs": [],
   "source": [
    "kproto = KPrototypes(n_clusters=8, verbose=0, random_state=0, n_jobs=-1)\n",
    "train['cluster'] = kproto.fit_predict(train, categorical=list(range(len(categoricals))))\n",
    "joblib.dump(kproto, './model/kprototype_model.pkl')"
   ]
  },
  {
   "cell_type": "markdown",
   "metadata": {},
   "source": [
    "## Decoding Into Original"
   ]
  },
  {
   "cell_type": "code",
   "execution_count": null,
   "metadata": {},
   "outputs": [],
   "source": [
    "train['apartment_id'] = df['apartment_id']\n",
    "train['aparmtent_name'] = df['apartment_name']\n",
    "train['district_name'] = df['district_name']\n",
    "\n",
    "for variable in numericals:\n",
    "    train[variable] = inverse_scaling(train, variable)\n",
    "for variable in labels:\n",
    "    train[variable] = label_decoding(train, variable)  "
   ]
  },
  {
   "cell_type": "markdown",
   "metadata": {},
   "source": [
    "# Visualization"
   ]
  }
 ],
 "metadata": {
  "kernelspec": {
   "display_name": "Python 3",
   "language": "python",
   "name": "python3"
  },
  "language_info": {
   "codemirror_mode": {
    "name": "ipython",
    "version": 3
   },
   "file_extension": ".py",
   "mimetype": "text/x-python",
   "name": "python",
   "nbconvert_exporter": "python",
   "pygments_lexer": "ipython3",
   "version": "3.7.6"
  },
  "toc": {
   "base_numbering": 1,
   "nav_menu": {},
   "number_sections": true,
   "sideBar": true,
   "skip_h1_title": false,
   "title_cell": "Table of Contents",
   "title_sidebar": "Contents",
   "toc_cell": false,
   "toc_position": {
    "height": "calc(100% - 180px)",
    "left": "10px",
    "top": "150px",
    "width": "165px"
   },
   "toc_section_display": true,
   "toc_window_display": true
  },
  "varInspector": {
   "cols": {
    "lenName": 16,
    "lenType": 16,
    "lenVar": 40
   },
   "kernels_config": {
    "python": {
     "delete_cmd_postfix": "",
     "delete_cmd_prefix": "del ",
     "library": "var_list.py",
     "varRefreshCmd": "print(var_dic_list())"
    },
    "r": {
     "delete_cmd_postfix": ") ",
     "delete_cmd_prefix": "rm(",
     "library": "var_list.r",
     "varRefreshCmd": "cat(var_dic_list()) "
    }
   },
   "position": {
    "height": "348px",
    "left": "1550px",
    "right": "20px",
    "top": "120px",
    "width": "350px"
   },
   "types_to_exclude": [
    "module",
    "function",
    "builtin_function_or_method",
    "instance",
    "_Feature"
   ],
   "window_display": false
  }
 },
 "nbformat": 4,
 "nbformat_minor": 2
}
