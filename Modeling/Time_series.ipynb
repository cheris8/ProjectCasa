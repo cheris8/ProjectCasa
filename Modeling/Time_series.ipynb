{
 "cells": [
  {
   "cell_type": "markdown",
   "metadata": {},
   "source": [
    "# 라이브러리"
   ]
  },
  {
   "cell_type": "code",
   "execution_count": 1,
   "metadata": {},
   "outputs": [],
   "source": [
    "# 데이터 불러오기\n",
    "import psycopg2\n",
    "import json\n",
    "\n",
    "# 데이터 전처리\n",
    "import pandas as pd\n",
    "import numpy as np\n",
    "import re\n",
    "import datetime\n",
    "\n",
    "# 데이터 시각화\n",
    "import matplotlib.pyplot as plt\n",
    "import seaborn as sns\n",
    "\n",
    "from matplotlib import font_manager, rc\n",
    "import platform\n",
    "\n",
    "if platform.system() == 'Windows':\n",
    "    font_name = font_manager.FontProperties(fname=\"c:/Windows/Fonts/malgun.ttf\").get_name()\n",
    "    rc('font', family=font_name)\n",
    "else:    \n",
    "    rc('font', family='AppleGothic')\n",
    "\n",
    "# 기타\n",
    "import warnings\n",
    "warnings.filterwarnings(\"ignore\")"
   ]
  },
  {
   "cell_type": "markdown",
   "metadata": {},
   "source": [
    "# 데이터 불러오기"
   ]
  },
  {
   "cell_type": "code",
   "execution_count": 2,
   "metadata": {},
   "outputs": [
    {
     "data": {
      "text/html": [
       "<div>\n",
       "<style scoped>\n",
       "    .dataframe tbody tr th:only-of-type {\n",
       "        vertical-align: middle;\n",
       "    }\n",
       "\n",
       "    .dataframe tbody tr th {\n",
       "        vertical-align: top;\n",
       "    }\n",
       "\n",
       "    .dataframe thead th {\n",
       "        text-align: right;\n",
       "    }\n",
       "</style>\n",
       "<table border=\"1\" class=\"dataframe\">\n",
       "  <thead>\n",
       "    <tr style=\"text-align: right;\">\n",
       "      <th></th>\n",
       "      <th>apartment_id</th>\n",
       "      <th>cluster</th>\n",
       "    </tr>\n",
       "  </thead>\n",
       "  <tbody>\n",
       "    <tr>\n",
       "      <td>0</td>\n",
       "      <td>1</td>\n",
       "      <td>1</td>\n",
       "    </tr>\n",
       "    <tr>\n",
       "      <td>1</td>\n",
       "      <td>3</td>\n",
       "      <td>1</td>\n",
       "    </tr>\n",
       "    <tr>\n",
       "      <td>2</td>\n",
       "      <td>4</td>\n",
       "      <td>2</td>\n",
       "    </tr>\n",
       "    <tr>\n",
       "      <td>3</td>\n",
       "      <td>5</td>\n",
       "      <td>0</td>\n",
       "    </tr>\n",
       "    <tr>\n",
       "      <td>4</td>\n",
       "      <td>6</td>\n",
       "      <td>2</td>\n",
       "    </tr>\n",
       "  </tbody>\n",
       "</table>\n",
       "</div>"
      ],
      "text/plain": [
       "   apartment_id  cluster\n",
       "0             1        1\n",
       "1             3        1\n",
       "2             4        2\n",
       "3             5        0\n",
       "4             6        2"
      ]
     },
     "execution_count": 2,
     "metadata": {},
     "output_type": "execute_result"
    }
   ],
   "source": [
    "#Cluster된 데이터 불러오기\n",
    "import pickle\n",
    "clustered = pd.read_pickle(\"./data/clustered_apartment.pkl\")\n",
    "clustered.head(5)"
   ]
  },
  {
   "cell_type": "code",
   "execution_count": 3,
   "metadata": {},
   "outputs": [],
   "source": [
    "def call_df(table_name):\n",
    "    with open('config.json', 'r') as f:\n",
    "        config = json.load(f)\n",
    "        \n",
    "    conn = psycopg2.connect(user = config['USER'],\n",
    "                              password = config['PASSWORD'],\n",
    "                              host = config['HOST'],\n",
    "                              port = config['PORT'],\n",
    "                              database = config['DATABASE'])\n",
    "    \n",
    "    sql = f'SELECT * FROM {table_name}'\n",
    "    df = pd.read_sql_query(sql, conn)\n",
    "    conn.close()\n",
    "    return df"
   ]
  },
  {
   "cell_type": "code",
   "execution_count": 5,
   "metadata": {},
   "outputs": [],
   "source": [
    "price = call_df('crawling_db.price_table')\n",
    "price['area'] = price['area'].apply(lambda x: int(re.split('\\D',x)[0]))\n",
    "apartment = call_df('crawling_db.apartment_table')\n",
    "apartment = apartment[['apartment_id','apartment_name']]"
   ]
  },
  {
   "cell_type": "code",
   "execution_count": 6,
   "metadata": {},
   "outputs": [],
   "source": [
    "df = (apartment.\n",
    "      merge(clustered, how='left', on='apartment_id').\n",
    "      merge(price, how='left', on='apartment_id'))"
   ]
  },
  {
   "cell_type": "code",
   "execution_count": 7,
   "metadata": {},
   "outputs": [],
   "source": [
    "df['period'] = pd.to_datetime(df['period'], format='%Y.%m')"
   ]
  },
  {
   "cell_type": "code",
   "execution_count": 8,
   "metadata": {},
   "outputs": [
    {
     "data": {
      "text/html": [
       "<div>\n",
       "<style scoped>\n",
       "    .dataframe tbody tr th:only-of-type {\n",
       "        vertical-align: middle;\n",
       "    }\n",
       "\n",
       "    .dataframe tbody tr th {\n",
       "        vertical-align: top;\n",
       "    }\n",
       "\n",
       "    .dataframe thead th {\n",
       "        text-align: right;\n",
       "    }\n",
       "</style>\n",
       "<table border=\"1\" class=\"dataframe\">\n",
       "  <thead>\n",
       "    <tr style=\"text-align: right;\">\n",
       "      <th></th>\n",
       "      <th>period</th>\n",
       "      <th>apartment_name</th>\n",
       "      <th>area</th>\n",
       "      <th>amount</th>\n",
       "      <th>cluster</th>\n",
       "    </tr>\n",
       "  </thead>\n",
       "  <tbody>\n",
       "    <tr>\n",
       "      <td>0</td>\n",
       "      <td>2020-03-01</td>\n",
       "      <td>상수두산위브</td>\n",
       "      <td>104.0</td>\n",
       "      <td>1.200000e+09</td>\n",
       "      <td>2</td>\n",
       "    </tr>\n",
       "    <tr>\n",
       "      <td>1</td>\n",
       "      <td>2020-02-01</td>\n",
       "      <td>상수두산위브</td>\n",
       "      <td>104.0</td>\n",
       "      <td>1.200000e+09</td>\n",
       "      <td>2</td>\n",
       "    </tr>\n",
       "    <tr>\n",
       "      <td>2</td>\n",
       "      <td>2019-12-01</td>\n",
       "      <td>상수두산위브</td>\n",
       "      <td>104.0</td>\n",
       "      <td>1.035000e+09</td>\n",
       "      <td>2</td>\n",
       "    </tr>\n",
       "    <tr>\n",
       "      <td>3</td>\n",
       "      <td>2019-11-01</td>\n",
       "      <td>상수두산위브</td>\n",
       "      <td>104.0</td>\n",
       "      <td>1.025000e+09</td>\n",
       "      <td>2</td>\n",
       "    </tr>\n",
       "    <tr>\n",
       "      <td>4</td>\n",
       "      <td>2019-10-01</td>\n",
       "      <td>상수두산위브</td>\n",
       "      <td>104.0</td>\n",
       "      <td>9.600000e+08</td>\n",
       "      <td>2</td>\n",
       "    </tr>\n",
       "  </tbody>\n",
       "</table>\n",
       "</div>"
      ],
      "text/plain": [
       "      period apartment_name   area        amount  cluster\n",
       "0 2020-03-01         상수두산위브  104.0  1.200000e+09        2\n",
       "1 2020-02-01         상수두산위브  104.0  1.200000e+09        2\n",
       "2 2019-12-01         상수두산위브  104.0  1.035000e+09        2\n",
       "3 2019-11-01         상수두산위브  104.0  1.025000e+09        2\n",
       "4 2019-10-01         상수두산위브  104.0  9.600000e+08        2"
      ]
     },
     "execution_count": 8,
     "metadata": {},
     "output_type": "execute_result"
    }
   ],
   "source": [
    "df = df[['period','apartment_name','area','amount','cluster']]\n",
    "df.head(5)"
   ]
  },
  {
   "cell_type": "markdown",
   "metadata": {},
   "source": [
    "# 데이터 전처리"
   ]
  },
  {
   "cell_type": "code",
   "execution_count": 9,
   "metadata": {},
   "outputs": [],
   "source": [
    "#사용자 옵션\n",
    "user_option = {\n",
    "    'apartment_name':'상수두산위브', # 검색하고 싶은 아파트의 이름\n",
    "    'apartment_area':104, # 그 아파트의 면적\n",
    "}"
   ]
  },
  {
   "cell_type": "code",
   "execution_count": 10,
   "metadata": {},
   "outputs": [
    {
     "name": "stdout",
     "output_type": "stream",
     "text": [
      "상수두산위브 아파트의 그룹은 2입니다.\n"
     ]
    }
   ],
   "source": [
    "#해당 cluster 찾기\n",
    "group_name = df.loc[df['apartment_name'] == user_option['apartment_name'],'cluster'].values[0]\n",
    "print(f\"{user_option['apartment_name']} 아파트의 그룹은 {group_name}입니다.\")"
   ]
  },
  {
   "cell_type": "code",
   "execution_count": 11,
   "metadata": {},
   "outputs": [
    {
     "data": {
      "text/html": [
       "<div>\n",
       "<style scoped>\n",
       "    .dataframe tbody tr th:only-of-type {\n",
       "        vertical-align: middle;\n",
       "    }\n",
       "\n",
       "    .dataframe tbody tr th {\n",
       "        vertical-align: top;\n",
       "    }\n",
       "\n",
       "    .dataframe thead th {\n",
       "        text-align: right;\n",
       "    }\n",
       "</style>\n",
       "<table border=\"1\" class=\"dataframe\">\n",
       "  <thead>\n",
       "    <tr style=\"text-align: right;\">\n",
       "      <th></th>\n",
       "      <th>period</th>\n",
       "      <th>apartment_name</th>\n",
       "      <th>area</th>\n",
       "      <th>amount</th>\n",
       "      <th>cluster</th>\n",
       "    </tr>\n",
       "  </thead>\n",
       "  <tbody>\n",
       "    <tr>\n",
       "      <td>0</td>\n",
       "      <td>2020-03-01</td>\n",
       "      <td>상수두산위브</td>\n",
       "      <td>104.0</td>\n",
       "      <td>1.200000e+09</td>\n",
       "      <td>2</td>\n",
       "    </tr>\n",
       "    <tr>\n",
       "      <td>1</td>\n",
       "      <td>2020-02-01</td>\n",
       "      <td>상수두산위브</td>\n",
       "      <td>104.0</td>\n",
       "      <td>1.200000e+09</td>\n",
       "      <td>2</td>\n",
       "    </tr>\n",
       "    <tr>\n",
       "      <td>2</td>\n",
       "      <td>2019-12-01</td>\n",
       "      <td>상수두산위브</td>\n",
       "      <td>104.0</td>\n",
       "      <td>1.035000e+09</td>\n",
       "      <td>2</td>\n",
       "    </tr>\n",
       "    <tr>\n",
       "      <td>3</td>\n",
       "      <td>2019-11-01</td>\n",
       "      <td>상수두산위브</td>\n",
       "      <td>104.0</td>\n",
       "      <td>1.025000e+09</td>\n",
       "      <td>2</td>\n",
       "    </tr>\n",
       "    <tr>\n",
       "      <td>4</td>\n",
       "      <td>2019-10-01</td>\n",
       "      <td>상수두산위브</td>\n",
       "      <td>104.0</td>\n",
       "      <td>9.600000e+08</td>\n",
       "      <td>2</td>\n",
       "    </tr>\n",
       "    <tr>\n",
       "      <td>...</td>\n",
       "      <td>...</td>\n",
       "      <td>...</td>\n",
       "      <td>...</td>\n",
       "      <td>...</td>\n",
       "      <td>...</td>\n",
       "    </tr>\n",
       "    <tr>\n",
       "      <td>460157</td>\n",
       "      <td>2006-09-01</td>\n",
       "      <td>우남푸르미아</td>\n",
       "      <td>102.0</td>\n",
       "      <td>2.500000e+08</td>\n",
       "      <td>2</td>\n",
       "    </tr>\n",
       "    <tr>\n",
       "      <td>460158</td>\n",
       "      <td>2006-08-01</td>\n",
       "      <td>우남푸르미아</td>\n",
       "      <td>102.0</td>\n",
       "      <td>2.360000e+08</td>\n",
       "      <td>2</td>\n",
       "    </tr>\n",
       "    <tr>\n",
       "      <td>460159</td>\n",
       "      <td>2006-06-01</td>\n",
       "      <td>우남푸르미아</td>\n",
       "      <td>102.0</td>\n",
       "      <td>2.380000e+08</td>\n",
       "      <td>2</td>\n",
       "    </tr>\n",
       "    <tr>\n",
       "      <td>460160</td>\n",
       "      <td>2006-05-01</td>\n",
       "      <td>우남푸르미아</td>\n",
       "      <td>102.0</td>\n",
       "      <td>2.198000e+08</td>\n",
       "      <td>2</td>\n",
       "    </tr>\n",
       "    <tr>\n",
       "      <td>460161</td>\n",
       "      <td>NaT</td>\n",
       "      <td>조호그레이스(492-5)</td>\n",
       "      <td>NaN</td>\n",
       "      <td>NaN</td>\n",
       "      <td>2</td>\n",
       "    </tr>\n",
       "  </tbody>\n",
       "</table>\n",
       "<p>178039 rows × 5 columns</p>\n",
       "</div>"
      ],
      "text/plain": [
       "           period apartment_name   area        amount  cluster\n",
       "0      2020-03-01         상수두산위브  104.0  1.200000e+09        2\n",
       "1      2020-02-01         상수두산위브  104.0  1.200000e+09        2\n",
       "2      2019-12-01         상수두산위브  104.0  1.035000e+09        2\n",
       "3      2019-11-01         상수두산위브  104.0  1.025000e+09        2\n",
       "4      2019-10-01         상수두산위브  104.0  9.600000e+08        2\n",
       "...           ...            ...    ...           ...      ...\n",
       "460157 2006-09-01         우남푸르미아  102.0  2.500000e+08        2\n",
       "460158 2006-08-01         우남푸르미아  102.0  2.360000e+08        2\n",
       "460159 2006-06-01         우남푸르미아  102.0  2.380000e+08        2\n",
       "460160 2006-05-01         우남푸르미아  102.0  2.198000e+08        2\n",
       "460161        NaT  조호그레이스(492-5)    NaN           NaN        2\n",
       "\n",
       "[178039 rows x 5 columns]"
      ]
     },
     "execution_count": 11,
     "metadata": {},
     "output_type": "execute_result"
    }
   ],
   "source": [
    "#cluster에 해당 되는 모든 아파트를 담은 dataframe\n",
    "chosen_cl = df[df['cluster']==group_name]\n",
    "chosen_cl"
   ]
  },
  {
   "cell_type": "code",
   "execution_count": 12,
   "metadata": {},
   "outputs": [],
   "source": [
    "#날짜만 있는 빈 dataframe\n",
    "empty = df['period'].sort_values().reset_index()\n",
    "empty = empty.dropna(axis=0).drop_duplicates(['period'])"
   ]
  },
  {
   "cell_type": "code",
   "execution_count": 13,
   "metadata": {},
   "outputs": [],
   "source": [
    "#사용자 옵션에 해당 하는 아파트와 면적을 지닌 dataframe\n",
    "chosen = df[(df['apartment_name'] == user_option['apartment_name']) &\n",
    "            (df['area'] <= user_option['apartment_area']+3) &\n",
    "            (df['area'] >= user_option['apartment_area']-3)]"
   ]
  },
  {
   "cell_type": "code",
   "execution_count": 36,
   "metadata": {},
   "outputs": [],
   "source": [
    "#빈 dataframe에 해당 옵션에 해당하는 dataframe을 합치면 값이 없는 곳에 na로 채워지게 된다.\n",
    "temp = empty.merge(chosen,how='left',on='period')\n",
    "temp.groupby(temp['period']).mean()\n",
    "temp = temp.reset_index()\n",
    "temp = temp[['period','amount']]"
   ]
  },
  {
   "cell_type": "code",
   "execution_count": 37,
   "metadata": {},
   "outputs": [
    {
     "data": {
      "text/html": [
       "<div>\n",
       "<style scoped>\n",
       "    .dataframe tbody tr th:only-of-type {\n",
       "        vertical-align: middle;\n",
       "    }\n",
       "\n",
       "    .dataframe tbody tr th {\n",
       "        vertical-align: top;\n",
       "    }\n",
       "\n",
       "    .dataframe thead th {\n",
       "        text-align: right;\n",
       "    }\n",
       "</style>\n",
       "<table border=\"1\" class=\"dataframe\">\n",
       "  <thead>\n",
       "    <tr style=\"text-align: right;\">\n",
       "      <th></th>\n",
       "      <th>period</th>\n",
       "      <th>amount</th>\n",
       "    </tr>\n",
       "  </thead>\n",
       "  <tbody>\n",
       "    <tr>\n",
       "      <td>0</td>\n",
       "      <td>2006-01-01</td>\n",
       "      <td>390000000.0</td>\n",
       "    </tr>\n",
       "    <tr>\n",
       "      <td>1</td>\n",
       "      <td>2006-02-01</td>\n",
       "      <td>NaN</td>\n",
       "    </tr>\n",
       "    <tr>\n",
       "      <td>2</td>\n",
       "      <td>2006-03-01</td>\n",
       "      <td>NaN</td>\n",
       "    </tr>\n",
       "    <tr>\n",
       "      <td>3</td>\n",
       "      <td>2006-04-01</td>\n",
       "      <td>550000000.0</td>\n",
       "    </tr>\n",
       "    <tr>\n",
       "      <td>4</td>\n",
       "      <td>2006-05-01</td>\n",
       "      <td>NaN</td>\n",
       "    </tr>\n",
       "    <tr>\n",
       "      <td>5</td>\n",
       "      <td>2006-06-01</td>\n",
       "      <td>501999999.0</td>\n",
       "    </tr>\n",
       "    <tr>\n",
       "      <td>6</td>\n",
       "      <td>2006-07-01</td>\n",
       "      <td>NaN</td>\n",
       "    </tr>\n",
       "    <tr>\n",
       "      <td>7</td>\n",
       "      <td>2006-08-01</td>\n",
       "      <td>NaN</td>\n",
       "    </tr>\n",
       "    <tr>\n",
       "      <td>8</td>\n",
       "      <td>2006-09-01</td>\n",
       "      <td>NaN</td>\n",
       "    </tr>\n",
       "    <tr>\n",
       "      <td>9</td>\n",
       "      <td>2006-10-01</td>\n",
       "      <td>520000000.0</td>\n",
       "    </tr>\n",
       "  </tbody>\n",
       "</table>\n",
       "</div>"
      ],
      "text/plain": [
       "      period       amount\n",
       "0 2006-01-01  390000000.0\n",
       "1 2006-02-01          NaN\n",
       "2 2006-03-01          NaN\n",
       "3 2006-04-01  550000000.0\n",
       "4 2006-05-01          NaN\n",
       "5 2006-06-01  501999999.0\n",
       "6 2006-07-01          NaN\n",
       "7 2006-08-01          NaN\n",
       "8 2006-09-01          NaN\n",
       "9 2006-10-01  520000000.0"
      ]
     },
     "execution_count": 37,
     "metadata": {},
     "output_type": "execute_result"
    }
   ],
   "source": [
    "#처음 거래된 날짜로 부터 시작을 해본다\n",
    "starting_point = temp[temp['amount'].notnull()].index[0]\n",
    "ending_point = temp[temp['amount'].notnull()].index[-1]\n",
    "temp = temp[starting_point:ending_point+1].reset_index()\n",
    "temp = temp[['period','amount']]\n",
    "temp.head(10)"
   ]
  },
  {
   "cell_type": "code",
   "execution_count": 38,
   "metadata": {},
   "outputs": [],
   "source": [
    "# na 값 채워주기 \n",
    "stopping = True\n",
    "for index, row in temp.iterrows():\n",
    "    if np.isnan(temp['amount'][index]):\n",
    "        new_index = index\n",
    "        starts = temp['amount'][index-1]\n",
    "        \n",
    "        while stopping:\n",
    "            if np.isnan(temp['amount'][new_index+1]):\n",
    "                new_index += 1\n",
    "            else:\n",
    "                ends = temp['amount'][new_index+1]\n",
    "                stopping = False\n",
    "        \n",
    "        new = chosen_cl[chosen_cl['period']==temp['period'][index]]\n",
    "        \n",
    "        if starts > ends :\n",
    "            groups = new[(new['amount'] <= starts) & (new['amount'] >= ends)]\n",
    "        else:\n",
    "            groups = new[(new['amount'] <= ends) & (new['amount'] >= starts)]\n",
    "        \n",
    "        if groups.empty:\n",
    "            temp['amount'][index] = (starts+ends)/2\n",
    "        else:\n",
    "            temp['amount'][index] = groups['amount'].max()   "
   ]
  },
  {
   "cell_type": "code",
   "execution_count": 39,
   "metadata": {},
   "outputs": [
    {
     "data": {
      "text/html": [
       "<div>\n",
       "<style scoped>\n",
       "    .dataframe tbody tr th:only-of-type {\n",
       "        vertical-align: middle;\n",
       "    }\n",
       "\n",
       "    .dataframe tbody tr th {\n",
       "        vertical-align: top;\n",
       "    }\n",
       "\n",
       "    .dataframe thead th {\n",
       "        text-align: right;\n",
       "    }\n",
       "</style>\n",
       "<table border=\"1\" class=\"dataframe\">\n",
       "  <thead>\n",
       "    <tr style=\"text-align: right;\">\n",
       "      <th></th>\n",
       "      <th>amount</th>\n",
       "    </tr>\n",
       "    <tr>\n",
       "      <th>period</th>\n",
       "      <th></th>\n",
       "    </tr>\n",
       "  </thead>\n",
       "  <tbody>\n",
       "    <tr>\n",
       "      <td>2006-01-01</td>\n",
       "      <td>3.900000e+08</td>\n",
       "    </tr>\n",
       "    <tr>\n",
       "      <td>2006-02-01</td>\n",
       "      <td>5.450000e+08</td>\n",
       "    </tr>\n",
       "    <tr>\n",
       "      <td>2006-03-01</td>\n",
       "      <td>5.500000e+08</td>\n",
       "    </tr>\n",
       "    <tr>\n",
       "      <td>2006-04-01</td>\n",
       "      <td>5.500000e+08</td>\n",
       "    </tr>\n",
       "    <tr>\n",
       "      <td>2006-05-01</td>\n",
       "      <td>5.500000e+08</td>\n",
       "    </tr>\n",
       "    <tr>\n",
       "      <td>...</td>\n",
       "      <td>...</td>\n",
       "    </tr>\n",
       "    <tr>\n",
       "      <td>2019-11-01</td>\n",
       "      <td>1.025000e+09</td>\n",
       "    </tr>\n",
       "    <tr>\n",
       "      <td>2019-12-01</td>\n",
       "      <td>1.035000e+09</td>\n",
       "    </tr>\n",
       "    <tr>\n",
       "      <td>2020-01-01</td>\n",
       "      <td>1.030000e+09</td>\n",
       "    </tr>\n",
       "    <tr>\n",
       "      <td>2020-02-01</td>\n",
       "      <td>1.200000e+09</td>\n",
       "    </tr>\n",
       "    <tr>\n",
       "      <td>2020-03-01</td>\n",
       "      <td>1.200000e+09</td>\n",
       "    </tr>\n",
       "  </tbody>\n",
       "</table>\n",
       "<p>171 rows × 1 columns</p>\n",
       "</div>"
      ],
      "text/plain": [
       "                  amount\n",
       "period                  \n",
       "2006-01-01  3.900000e+08\n",
       "2006-02-01  5.450000e+08\n",
       "2006-03-01  5.500000e+08\n",
       "2006-04-01  5.500000e+08\n",
       "2006-05-01  5.500000e+08\n",
       "...                  ...\n",
       "2019-11-01  1.025000e+09\n",
       "2019-12-01  1.035000e+09\n",
       "2020-01-01  1.030000e+09\n",
       "2020-02-01  1.200000e+09\n",
       "2020-03-01  1.200000e+09\n",
       "\n",
       "[171 rows x 1 columns]"
      ]
     },
     "execution_count": 39,
     "metadata": {},
     "output_type": "execute_result"
    }
   ],
   "source": [
    "temp = temp.set_index('period')\n",
    "temp"
   ]
  },
  {
   "cell_type": "markdown",
   "metadata": {},
   "source": [
    "# 모델링"
   ]
  },
  {
   "cell_type": "code",
   "execution_count": 40,
   "metadata": {},
   "outputs": [],
   "source": [
    "## 19년 12월까지의 데이터만 train하고, 나머지 20년 1~4월까지는 test하기 위해 쪼갠다\n",
    "temp_for_train = temp[0:len(temp)-4]\n",
    "temp_for_test = temp[len(temp)-4:len(temp)]"
   ]
  },
  {
   "cell_type": "code",
   "execution_count": 41,
   "metadata": {},
   "outputs": [
    {
     "data": {
      "image/png": "[encoded data removed]",
      "text/plain": [
       "<Figure size 432x288 with 1 Axes>"
      ]
     },
     "metadata": {
      "needs_background": "light"
     },
     "output_type": "display_data"
    },
    {
     "data": {
      "image/png": "[encoded data removed]",
      "text/plain": [
       "<Figure size 432x288 with 1 Axes>"
      ]
     },
     "metadata": {
      "needs_background": "light"
     },
     "output_type": "display_data"
    }
   ],
   "source": [
    "from statsmodels.graphics.tsaplots import plot_acf, plot_pacf\n",
    "plot_acf(temp_for_train)\n",
    "plot_pacf(temp_for_train)\n",
    "plt.show()"
   ]
  },
  {
   "cell_type": "code",
   "execution_count": 42,
   "metadata": {},
   "outputs": [
    {
     "name": "stdout",
     "output_type": "stream",
     "text": [
      "                             ARIMA Model Results                              \n",
      "==============================================================================\n",
      "Dep. Variable:               D.amount   No. Observations:                  170\n",
      "Model:                 ARIMA(0, 1, 1)   Log Likelihood               -3233.002\n",
      "Method:                       css-mle   S.D. of innovations       43943303.150\n",
      "Date:                Thu, 04 Jun 2020   AIC                           6472.003\n",
      "Time:                        10:42:55   BIC                           6481.411\n",
      "Sample:                    02-01-2006   HQIC                          6475.821\n",
      "                         - 03-01-2020                                         \n",
      "==================================================================================\n",
      "                     coef    std err          z      P>|z|      [0.025      0.975]\n",
      "----------------------------------------------------------------------------------\n",
      "const           4.765e+06   2.33e+06      2.046      0.042       2e+05    9.33e+06\n",
      "ma.L1.D.amount    -0.3151      0.101     -3.107      0.002      -0.514      -0.116\n",
      "                                    Roots                                    \n",
      "=============================================================================\n",
      "                  Real          Imaginary           Modulus         Frequency\n",
      "-----------------------------------------------------------------------------\n",
      "MA.1            3.1738           +0.0000j            3.1738            0.0000\n",
      "-----------------------------------------------------------------------------\n"
     ]
    }
   ],
   "source": [
    "#혹시나 하여 돌려보겠습니다\n",
    "from statsmodels.tsa.arima_model import ARIMA\n",
    "model = ARIMA(temp, order=(0,1,1))\n",
    "model_fit = model.fit(trend='c',full_output=True, disp=1)\n",
    "print(model_fit.summary())"
   ]
  },
  {
   "cell_type": "code",
   "execution_count": 43,
   "metadata": {},
   "outputs": [
    {
     "data": {
      "image/png": "[encoded data removed]",
      "text/plain": [
       "<Figure size 432x288 with 1 Axes>"
      ]
     },
     "execution_count": 43,
     "metadata": {},
     "output_type": "execute_result"
    },
    {
     "data": {
      "image/png": "[encoded data removed]",
      "text/plain": [
       "<Figure size 432x288 with 1 Axes>"
      ]
     },
     "metadata": {
      "needs_background": "light"
     },
     "output_type": "display_data"
    }
   ],
   "source": [
    "model_fit.plot_predict()"
   ]
  },
  {
   "cell_type": "code",
   "execution_count": 44,
   "metadata": {},
   "outputs": [],
   "source": [
    "fore = model_fit.forecast(steps=4)\n",
    "arima = pd.DataFrame(fore[0])\n",
    "arima.columns = ['arima']\n",
    "arima.index = temp_for_test.index"
   ]
  },
  {
   "cell_type": "code",
   "execution_count": 45,
   "metadata": {},
   "outputs": [
    {
     "data": {
      "text/html": [
       "<div>\n",
       "<style scoped>\n",
       "    .dataframe tbody tr th:only-of-type {\n",
       "        vertical-align: middle;\n",
       "    }\n",
       "\n",
       "    .dataframe tbody tr th {\n",
       "        vertical-align: top;\n",
       "    }\n",
       "\n",
       "    .dataframe thead th {\n",
       "        text-align: right;\n",
       "    }\n",
       "</style>\n",
       "<table border=\"1\" class=\"dataframe\">\n",
       "  <thead>\n",
       "    <tr style=\"text-align: right;\">\n",
       "      <th></th>\n",
       "      <th>real</th>\n",
       "      <th>model</th>\n",
       "    </tr>\n",
       "    <tr>\n",
       "      <th>period</th>\n",
       "      <th></th>\n",
       "      <th></th>\n",
       "    </tr>\n",
       "  </thead>\n",
       "  <tbody>\n",
       "    <tr>\n",
       "      <td>2019-12-01</td>\n",
       "      <td>1.035000e+09</td>\n",
       "      <td>1.189890e+09</td>\n",
       "    </tr>\n",
       "    <tr>\n",
       "      <td>2020-01-01</td>\n",
       "      <td>1.030000e+09</td>\n",
       "      <td>1.194655e+09</td>\n",
       "    </tr>\n",
       "    <tr>\n",
       "      <td>2020-02-01</td>\n",
       "      <td>1.200000e+09</td>\n",
       "      <td>1.199420e+09</td>\n",
       "    </tr>\n",
       "    <tr>\n",
       "      <td>2020-03-01</td>\n",
       "      <td>1.200000e+09</td>\n",
       "      <td>1.204184e+09</td>\n",
       "    </tr>\n",
       "  </tbody>\n",
       "</table>\n",
       "</div>"
      ],
      "text/plain": [
       "                    real         model\n",
       "period                                \n",
       "2019-12-01  1.035000e+09  1.189890e+09\n",
       "2020-01-01  1.030000e+09  1.194655e+09\n",
       "2020-02-01  1.200000e+09  1.199420e+09\n",
       "2020-03-01  1.200000e+09  1.204184e+09"
      ]
     },
     "execution_count": 45,
     "metadata": {},
     "output_type": "execute_result"
    }
   ],
   "source": [
    "result = pd.concat([temp_for_test,arima],axis=1)\n",
    "result.columns = ['real','model']\n",
    "result"
   ]
  },
  {
   "cell_type": "markdown",
   "metadata": {},
   "source": [
    "결론: 결과가 좀 괜찮네요. 더 손봐야겠습니다."
   ]
  },
  {
   "cell_type": "code",
   "execution_count": null,
   "metadata": {},
   "outputs": [],
   "source": []
  }
 ],
 "metadata": {
  "kernelspec": {
   "display_name": "Python 3",
   "language": "python",
   "name": "python3"
  },
  "language_info": {
   "codemirror_mode": {
    "name": "ipython",
    "version": 3
   },
   "file_extension": ".py",
   "mimetype": "text/x-python",
   "name": "python",
   "nbconvert_exporter": "python",
   "pygments_lexer": "ipython3",
   "version": "3.7.4"
  }
 },
 "nbformat": 4,
 "nbformat_minor": 2
}
