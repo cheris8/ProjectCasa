{
 "cells": [
  {
   "cell_type": "markdown",
   "metadata": {},
   "source": [
    "# 라이브러리"
   ]
  },
  {
   "cell_type": "code",
   "execution_count": 1,
   "metadata": {},
   "outputs": [],
   "source": [
    "# 데이터 불러오기\n",
    "import psycopg2\n",
    "import json\n",
    "\n",
    "# 데이터 전처리\n",
    "import pandas as pd\n",
    "import numpy as np\n",
    "import re\n",
    "import datetime\n",
    "\n",
    "# 데이터 시각화\n",
    "import matplotlib.pyplot as plt\n",
    "import seaborn as sns\n",
    "\n",
    "from matplotlib import font_manager, rc\n",
    "import platform\n",
    "\n",
    "if platform.system() == 'Windows':\n",
    "    font_name = font_manager.FontProperties(fname=\"c:/Windows/Fonts/malgun.ttf\").get_name()\n",
    "    rc('font', family=font_name)\n",
    "else:    \n",
    "    rc('font', family='AppleGothic')\n",
    "\n",
    "# 기타\n",
    "import warnings\n",
    "warnings.filterwarnings(\"ignore\")"
   ]
  },
  {
   "cell_type": "markdown",
   "metadata": {},
   "source": [
    "# 데이터 불러오기"
   ]
  },
  {
   "cell_type": "code",
   "execution_count": 2,
   "metadata": {},
   "outputs": [
    {
     "data": {
      "text/html": [
       "<div>\n",
       "<style scoped>\n",
       "    .dataframe tbody tr th:only-of-type {\n",
       "        vertical-align: middle;\n",
       "    }\n",
       "\n",
       "    .dataframe tbody tr th {\n",
       "        vertical-align: top;\n",
       "    }\n",
       "\n",
       "    .dataframe thead th {\n",
       "        text-align: right;\n",
       "    }\n",
       "</style>\n",
       "<table border=\"1\" class=\"dataframe\">\n",
       "  <thead>\n",
       "    <tr style=\"text-align: right;\">\n",
       "      <th></th>\n",
       "      <th>apartment_id</th>\n",
       "      <th>cluster</th>\n",
       "    </tr>\n",
       "  </thead>\n",
       "  <tbody>\n",
       "    <tr>\n",
       "      <td>0</td>\n",
       "      <td>1</td>\n",
       "      <td>3</td>\n",
       "    </tr>\n",
       "    <tr>\n",
       "      <td>1</td>\n",
       "      <td>3</td>\n",
       "      <td>3</td>\n",
       "    </tr>\n",
       "    <tr>\n",
       "      <td>2</td>\n",
       "      <td>4</td>\n",
       "      <td>5</td>\n",
       "    </tr>\n",
       "    <tr>\n",
       "      <td>3</td>\n",
       "      <td>5</td>\n",
       "      <td>5</td>\n",
       "    </tr>\n",
       "    <tr>\n",
       "      <td>4</td>\n",
       "      <td>6</td>\n",
       "      <td>5</td>\n",
       "    </tr>\n",
       "  </tbody>\n",
       "</table>\n",
       "</div>"
      ],
      "text/plain": [
       "   apartment_id  cluster\n",
       "0             1        3\n",
       "1             3        3\n",
       "2             4        5\n",
       "3             5        5\n",
       "4             6        5"
      ]
     },
     "execution_count": 2,
     "metadata": {},
     "output_type": "execute_result"
    }
   ],
   "source": [
    "#Cluster된 데이터 불러오기\n",
    "import pickle\n",
    "clustered = pd.read_pickle(\"./data/clustered_apartment.pkl\")\n",
    "clustered.head(5)"
   ]
  },
  {
   "cell_type": "code",
   "execution_count": 3,
   "metadata": {},
   "outputs": [],
   "source": [
    "def call_df(table_name):\n",
    "    with open('config.json', 'r') as f:\n",
    "        config = json.load(f)\n",
    "        \n",
    "    conn = psycopg2.connect(user = config['USER'],\n",
    "                              password = config['PASSWORD'],\n",
    "                              host = config['HOST'],\n",
    "                              port = config['PORT'],\n",
    "                              database = config['DATABASE'])\n",
    "    \n",
    "    sql = f'SELECT * FROM {table_name}'\n",
    "    df = pd.read_sql_query(sql, conn)\n",
    "    conn.close()\n",
    "    return df"
   ]
  },
  {
   "cell_type": "code",
   "execution_count": 4,
   "metadata": {},
   "outputs": [],
   "source": [
    "price = call_df('crawling_db.price_table')\n",
    "price['area'] = price['area'].apply(lambda x: int(re.split('\\D',x)[0]))\n",
    "apartment = call_df('crawling_db.apartment_table')\n",
    "apartment = apartment[['apartment_id','apartment_name']]"
   ]
  },
  {
   "cell_type": "code",
   "execution_count": 5,
   "metadata": {},
   "outputs": [],
   "source": [
    "df = (apartment.\n",
    "      merge(clustered, how='left', on='apartment_id').\n",
    "      merge(price, how='left', on='apartment_id'))"
   ]
  },
  {
   "cell_type": "code",
   "execution_count": 6,
   "metadata": {},
   "outputs": [],
   "source": [
    "df['period'] = pd.to_datetime(df['period'], format='%Y.%m')"
   ]
  },
  {
   "cell_type": "code",
   "execution_count": 85,
   "metadata": {},
   "outputs": [
    {
     "data": {
      "text/html": [
       "<div>\n",
       "<style scoped>\n",
       "    .dataframe tbody tr th:only-of-type {\n",
       "        vertical-align: middle;\n",
       "    }\n",
       "\n",
       "    .dataframe tbody tr th {\n",
       "        vertical-align: top;\n",
       "    }\n",
       "\n",
       "    .dataframe thead th {\n",
       "        text-align: right;\n",
       "    }\n",
       "</style>\n",
       "<table border=\"1\" class=\"dataframe\">\n",
       "  <thead>\n",
       "    <tr style=\"text-align: right;\">\n",
       "      <th></th>\n",
       "      <th>period</th>\n",
       "      <th>apartment_name</th>\n",
       "      <th>area</th>\n",
       "      <th>amount</th>\n",
       "      <th>cluster</th>\n",
       "    </tr>\n",
       "  </thead>\n",
       "  <tbody>\n",
       "    <tr>\n",
       "      <td>0</td>\n",
       "      <td>2020-03-01</td>\n",
       "      <td>상수두산위브</td>\n",
       "      <td>104.0</td>\n",
       "      <td>1.200000e+09</td>\n",
       "      <td>3</td>\n",
       "    </tr>\n",
       "    <tr>\n",
       "      <td>1</td>\n",
       "      <td>2020-02-01</td>\n",
       "      <td>상수두산위브</td>\n",
       "      <td>104.0</td>\n",
       "      <td>1.200000e+09</td>\n",
       "      <td>3</td>\n",
       "    </tr>\n",
       "    <tr>\n",
       "      <td>2</td>\n",
       "      <td>2019-12-01</td>\n",
       "      <td>상수두산위브</td>\n",
       "      <td>104.0</td>\n",
       "      <td>1.035000e+09</td>\n",
       "      <td>3</td>\n",
       "    </tr>\n",
       "    <tr>\n",
       "      <td>3</td>\n",
       "      <td>2019-11-01</td>\n",
       "      <td>상수두산위브</td>\n",
       "      <td>104.0</td>\n",
       "      <td>1.025000e+09</td>\n",
       "      <td>3</td>\n",
       "    </tr>\n",
       "    <tr>\n",
       "      <td>4</td>\n",
       "      <td>2019-10-01</td>\n",
       "      <td>상수두산위브</td>\n",
       "      <td>104.0</td>\n",
       "      <td>9.600000e+08</td>\n",
       "      <td>3</td>\n",
       "    </tr>\n",
       "    <tr>\n",
       "      <td>5</td>\n",
       "      <td>2019-08-01</td>\n",
       "      <td>상수두산위브</td>\n",
       "      <td>104.0</td>\n",
       "      <td>9.200000e+08</td>\n",
       "      <td>3</td>\n",
       "    </tr>\n",
       "    <tr>\n",
       "      <td>6</td>\n",
       "      <td>2019-06-01</td>\n",
       "      <td>상수두산위브</td>\n",
       "      <td>104.0</td>\n",
       "      <td>8.650000e+08</td>\n",
       "      <td>3</td>\n",
       "    </tr>\n",
       "    <tr>\n",
       "      <td>7</td>\n",
       "      <td>2019-02-01</td>\n",
       "      <td>상수두산위브</td>\n",
       "      <td>104.0</td>\n",
       "      <td>7.900000e+08</td>\n",
       "      <td>3</td>\n",
       "    </tr>\n",
       "    <tr>\n",
       "      <td>8</td>\n",
       "      <td>2018-12-01</td>\n",
       "      <td>상수두산위브</td>\n",
       "      <td>104.0</td>\n",
       "      <td>9.750000e+08</td>\n",
       "      <td>3</td>\n",
       "    </tr>\n",
       "    <tr>\n",
       "      <td>9</td>\n",
       "      <td>2018-08-01</td>\n",
       "      <td>상수두산위브</td>\n",
       "      <td>104.0</td>\n",
       "      <td>8.050000e+08</td>\n",
       "      <td>3</td>\n",
       "    </tr>\n",
       "  </tbody>\n",
       "</table>\n",
       "</div>"
      ],
      "text/plain": [
       "      period apartment_name   area        amount  cluster\n",
       "0 2020-03-01         상수두산위브  104.0  1.200000e+09        3\n",
       "1 2020-02-01         상수두산위브  104.0  1.200000e+09        3\n",
       "2 2019-12-01         상수두산위브  104.0  1.035000e+09        3\n",
       "3 2019-11-01         상수두산위브  104.0  1.025000e+09        3\n",
       "4 2019-10-01         상수두산위브  104.0  9.600000e+08        3\n",
       "5 2019-08-01         상수두산위브  104.0  9.200000e+08        3\n",
       "6 2019-06-01         상수두산위브  104.0  8.650000e+08        3\n",
       "7 2019-02-01         상수두산위브  104.0  7.900000e+08        3\n",
       "8 2018-12-01         상수두산위브  104.0  9.750000e+08        3\n",
       "9 2018-08-01         상수두산위브  104.0  8.050000e+08        3"
      ]
     },
     "execution_count": 85,
     "metadata": {},
     "output_type": "execute_result"
    }
   ],
   "source": [
    "df = df[['period','apartment_name','area','amount','cluster']]\n",
    "df.head(10)"
   ]
  },
  {
   "cell_type": "markdown",
   "metadata": {},
   "source": [
    "# 데이터 전처리"
   ]
  },
  {
   "cell_type": "code",
   "execution_count": 62,
   "metadata": {},
   "outputs": [],
   "source": [
    "#사용자 옵션\n",
    "user_option = {\n",
    "    'apartment_name':'우남푸르미아', # 검색하고 싶은 아파트의 이름\n",
    "    'apartment_area':102, # 그 아파트의 면적\n",
    "}"
   ]
  },
  {
   "cell_type": "code",
   "execution_count": 63,
   "metadata": {},
   "outputs": [
    {
     "name": "stdout",
     "output_type": "stream",
     "text": [
      "우남푸르미아 아파트의 그룹은 9입니다.\n"
     ]
    }
   ],
   "source": [
    "#해당 cluster 찾기\n",
    "group_name = df.loc[df['apartment_name'] == user_option['apartment_name'],'cluster'].values[0]\n",
    "print(f\"{user_option['apartment_name']} 아파트의 그룹은 {group_name}입니다.\")"
   ]
  },
  {
   "cell_type": "code",
   "execution_count": 64,
   "metadata": {},
   "outputs": [
    {
     "data": {
      "text/html": [
       "<div>\n",
       "<style scoped>\n",
       "    .dataframe tbody tr th:only-of-type {\n",
       "        vertical-align: middle;\n",
       "    }\n",
       "\n",
       "    .dataframe tbody tr th {\n",
       "        vertical-align: top;\n",
       "    }\n",
       "\n",
       "    .dataframe thead th {\n",
       "        text-align: right;\n",
       "    }\n",
       "</style>\n",
       "<table border=\"1\" class=\"dataframe\">\n",
       "  <thead>\n",
       "    <tr style=\"text-align: right;\">\n",
       "      <th></th>\n",
       "      <th>period</th>\n",
       "      <th>apartment_name</th>\n",
       "      <th>area</th>\n",
       "      <th>amount</th>\n",
       "      <th>cluster</th>\n",
       "    </tr>\n",
       "  </thead>\n",
       "  <tbody>\n",
       "    <tr>\n",
       "      <td>2201</td>\n",
       "      <td>2015-10-01</td>\n",
       "      <td>뉴현대파크빌</td>\n",
       "      <td>79.0</td>\n",
       "      <td>380000000.0</td>\n",
       "      <td>9</td>\n",
       "    </tr>\n",
       "    <tr>\n",
       "      <td>2202</td>\n",
       "      <td>2006-11-01</td>\n",
       "      <td>뉴현대파크빌</td>\n",
       "      <td>79.0</td>\n",
       "      <td>283000000.0</td>\n",
       "      <td>9</td>\n",
       "    </tr>\n",
       "    <tr>\n",
       "      <td>2203</td>\n",
       "      <td>2015-03-01</td>\n",
       "      <td>뉴현대파크빌</td>\n",
       "      <td>80.0</td>\n",
       "      <td>358000000.0</td>\n",
       "      <td>9</td>\n",
       "    </tr>\n",
       "    <tr>\n",
       "      <td>2204</td>\n",
       "      <td>2006-08-01</td>\n",
       "      <td>뉴현대파크빌</td>\n",
       "      <td>80.0</td>\n",
       "      <td>294000000.0</td>\n",
       "      <td>9</td>\n",
       "    </tr>\n",
       "    <tr>\n",
       "      <td>2205</td>\n",
       "      <td>2019-10-01</td>\n",
       "      <td>뉴현대파크빌</td>\n",
       "      <td>80.0</td>\n",
       "      <td>607000000.0</td>\n",
       "      <td>9</td>\n",
       "    </tr>\n",
       "    <tr>\n",
       "      <td>...</td>\n",
       "      <td>...</td>\n",
       "      <td>...</td>\n",
       "      <td>...</td>\n",
       "      <td>...</td>\n",
       "      <td>...</td>\n",
       "    </tr>\n",
       "    <tr>\n",
       "      <td>460231</td>\n",
       "      <td>2019-11-01</td>\n",
       "      <td>중화동양엔파트</td>\n",
       "      <td>105.0</td>\n",
       "      <td>595000000.0</td>\n",
       "      <td>9</td>\n",
       "    </tr>\n",
       "    <tr>\n",
       "      <td>460232</td>\n",
       "      <td>2015-03-01</td>\n",
       "      <td>중화동양엔파트</td>\n",
       "      <td>105.0</td>\n",
       "      <td>367000000.0</td>\n",
       "      <td>9</td>\n",
       "    </tr>\n",
       "    <tr>\n",
       "      <td>460233</td>\n",
       "      <td>2015-01-01</td>\n",
       "      <td>중화동양엔파트</td>\n",
       "      <td>105.0</td>\n",
       "      <td>367000000.0</td>\n",
       "      <td>9</td>\n",
       "    </tr>\n",
       "    <tr>\n",
       "      <td>460234</td>\n",
       "      <td>2014-11-01</td>\n",
       "      <td>중화동양엔파트</td>\n",
       "      <td>105.0</td>\n",
       "      <td>367000000.0</td>\n",
       "      <td>9</td>\n",
       "    </tr>\n",
       "    <tr>\n",
       "      <td>460235</td>\n",
       "      <td>2011-09-01</td>\n",
       "      <td>중화동양엔파트</td>\n",
       "      <td>105.0</td>\n",
       "      <td>390000000.0</td>\n",
       "      <td>9</td>\n",
       "    </tr>\n",
       "  </tbody>\n",
       "</table>\n",
       "<p>67182 rows × 5 columns</p>\n",
       "</div>"
      ],
      "text/plain": [
       "           period apartment_name   area       amount  cluster\n",
       "2201   2015-10-01         뉴현대파크빌   79.0  380000000.0        9\n",
       "2202   2006-11-01         뉴현대파크빌   79.0  283000000.0        9\n",
       "2203   2015-03-01         뉴현대파크빌   80.0  358000000.0        9\n",
       "2204   2006-08-01         뉴현대파크빌   80.0  294000000.0        9\n",
       "2205   2019-10-01         뉴현대파크빌   80.0  607000000.0        9\n",
       "...           ...            ...    ...          ...      ...\n",
       "460231 2019-11-01        중화동양엔파트  105.0  595000000.0        9\n",
       "460232 2015-03-01        중화동양엔파트  105.0  367000000.0        9\n",
       "460233 2015-01-01        중화동양엔파트  105.0  367000000.0        9\n",
       "460234 2014-11-01        중화동양엔파트  105.0  367000000.0        9\n",
       "460235 2011-09-01        중화동양엔파트  105.0  390000000.0        9\n",
       "\n",
       "[67182 rows x 5 columns]"
      ]
     },
     "execution_count": 64,
     "metadata": {},
     "output_type": "execute_result"
    }
   ],
   "source": [
    "#cluster에 해당 되는 모든 아파트를 담은 dataframe\n",
    "chosen_cl = df[df['cluster']==group_name]\n",
    "chosen_cl"
   ]
  },
  {
   "cell_type": "code",
   "execution_count": 65,
   "metadata": {},
   "outputs": [],
   "source": [
    "#날짜만 있는 빈 dataframe\n",
    "empty = df['period'].sort_values().reset_index()\n",
    "empty = empty.dropna(axis=0).drop_duplicates(['period'])"
   ]
  },
  {
   "cell_type": "code",
   "execution_count": 66,
   "metadata": {},
   "outputs": [],
   "source": [
    "#사용자 옵션에 해당 하는 아파트와 면적을 지닌 dataframe\n",
    "chosen = df[(df['apartment_name'] == user_option['apartment_name']) &\n",
    "            (df['area'] <= user_option['apartment_area']+3) &\n",
    "            (df['area'] >= user_option['apartment_area']-3)]"
   ]
  },
  {
   "cell_type": "code",
   "execution_count": 67,
   "metadata": {},
   "outputs": [],
   "source": [
    "#빈 dataframe에 해당 옵션에 해당하는 dataframe을 합치면 값이 없는 곳에 na로 채워지게 된다.\n",
    "temp = empty.merge(chosen,how='left',on='period')\n",
    "temp.groupby(temp['period']).mean()\n",
    "temp = temp.reset_index()\n",
    "temp = temp[['period','amount']]"
   ]
  },
  {
   "cell_type": "code",
   "execution_count": 68,
   "metadata": {},
   "outputs": [
    {
     "data": {
      "text/html": [
       "<div>\n",
       "<style scoped>\n",
       "    .dataframe tbody tr th:only-of-type {\n",
       "        vertical-align: middle;\n",
       "    }\n",
       "\n",
       "    .dataframe tbody tr th {\n",
       "        vertical-align: top;\n",
       "    }\n",
       "\n",
       "    .dataframe thead th {\n",
       "        text-align: right;\n",
       "    }\n",
       "</style>\n",
       "<table border=\"1\" class=\"dataframe\">\n",
       "  <thead>\n",
       "    <tr style=\"text-align: right;\">\n",
       "      <th></th>\n",
       "      <th>period</th>\n",
       "      <th>amount</th>\n",
       "    </tr>\n",
       "  </thead>\n",
       "  <tbody>\n",
       "    <tr>\n",
       "      <td>167</td>\n",
       "      <td>2019-01-01</td>\n",
       "      <td>NaN</td>\n",
       "    </tr>\n",
       "    <tr>\n",
       "      <td>168</td>\n",
       "      <td>2019-02-01</td>\n",
       "      <td>NaN</td>\n",
       "    </tr>\n",
       "    <tr>\n",
       "      <td>169</td>\n",
       "      <td>2019-03-01</td>\n",
       "      <td>NaN</td>\n",
       "    </tr>\n",
       "    <tr>\n",
       "      <td>170</td>\n",
       "      <td>2019-04-01</td>\n",
       "      <td>473000000.0</td>\n",
       "    </tr>\n",
       "    <tr>\n",
       "      <td>171</td>\n",
       "      <td>2019-05-01</td>\n",
       "      <td>455000000.0</td>\n",
       "    </tr>\n",
       "    <tr>\n",
       "      <td>172</td>\n",
       "      <td>2019-06-01</td>\n",
       "      <td>NaN</td>\n",
       "    </tr>\n",
       "    <tr>\n",
       "      <td>173</td>\n",
       "      <td>2019-07-01</td>\n",
       "      <td>NaN</td>\n",
       "    </tr>\n",
       "    <tr>\n",
       "      <td>174</td>\n",
       "      <td>2019-08-01</td>\n",
       "      <td>495000000.0</td>\n",
       "    </tr>\n",
       "    <tr>\n",
       "      <td>175</td>\n",
       "      <td>2019-09-01</td>\n",
       "      <td>NaN</td>\n",
       "    </tr>\n",
       "    <tr>\n",
       "      <td>176</td>\n",
       "      <td>2019-10-01</td>\n",
       "      <td>NaN</td>\n",
       "    </tr>\n",
       "    <tr>\n",
       "      <td>177</td>\n",
       "      <td>2019-11-01</td>\n",
       "      <td>NaN</td>\n",
       "    </tr>\n",
       "    <tr>\n",
       "      <td>178</td>\n",
       "      <td>2019-12-01</td>\n",
       "      <td>509999999.0</td>\n",
       "    </tr>\n",
       "    <tr>\n",
       "      <td>179</td>\n",
       "      <td>2020-01-01</td>\n",
       "      <td>NaN</td>\n",
       "    </tr>\n",
       "    <tr>\n",
       "      <td>180</td>\n",
       "      <td>2020-02-01</td>\n",
       "      <td>NaN</td>\n",
       "    </tr>\n",
       "    <tr>\n",
       "      <td>181</td>\n",
       "      <td>2020-03-01</td>\n",
       "      <td>542000000.0</td>\n",
       "    </tr>\n",
       "  </tbody>\n",
       "</table>\n",
       "</div>"
      ],
      "text/plain": [
       "        period       amount\n",
       "167 2019-01-01          NaN\n",
       "168 2019-02-01          NaN\n",
       "169 2019-03-01          NaN\n",
       "170 2019-04-01  473000000.0\n",
       "171 2019-05-01  455000000.0\n",
       "172 2019-06-01          NaN\n",
       "173 2019-07-01          NaN\n",
       "174 2019-08-01  495000000.0\n",
       "175 2019-09-01          NaN\n",
       "176 2019-10-01          NaN\n",
       "177 2019-11-01          NaN\n",
       "178 2019-12-01  509999999.0\n",
       "179 2020-01-01          NaN\n",
       "180 2020-02-01          NaN\n",
       "181 2020-03-01  542000000.0"
      ]
     },
     "execution_count": 68,
     "metadata": {},
     "output_type": "execute_result"
    }
   ],
   "source": [
    "#처음 거래된 날짜로 부터 시작을 해본다\n",
    "starting_point = temp[temp['amount'].notnull()].index[0]\n",
    "ending_point = temp[temp['amount'].notnull()].index[-1]\n",
    "temp = temp[starting_point:ending_point+1].reset_index()\n",
    "temp = temp[['period','amount']]\n",
    "temp.tail(15)"
   ]
  },
  {
   "cell_type": "code",
   "execution_count": 69,
   "metadata": {},
   "outputs": [],
   "source": [
    "# na 값 채워주기 \n",
    "for index, row in temp.iterrows():\n",
    "    if np.isnan(temp['amount'][index]):\n",
    "        starts = temp['amount'][index-1]\n",
    "        new_index = index\n",
    "        stopping = True\n",
    "        while stopping:\n",
    "            if np.isnan(temp['amount'][new_index+1]):\n",
    "                new_index = new_index + 1\n",
    "            else:\n",
    "                ends = temp['amount'][new_index+1]\n",
    "                stopping = False\n",
    "        \n",
    "        new = chosen_cl[chosen_cl['period']==temp['period'][index]]\n",
    "        \n",
    "        \n",
    "        if starts > ends :\n",
    "            groups = new[(new['amount'] <= starts) & (new['amount'] >= ends)]\n",
    "        else:\n",
    "            groups = new[(new['amount'] <= ends) & (new['amount'] >= starts)]\n",
    "        \n",
    "        if groups.empty:\n",
    "            temp['amount'][index] = (starts+ends)/2\n",
    "        else:\n",
    "            temp['amount'][index] = groups['amount'].quantile(0.75)\n",
    "        \n",
    "        "
   ]
  },
  {
   "cell_type": "code",
   "execution_count": 70,
   "metadata": {},
   "outputs": [
    {
     "data": {
      "text/html": [
       "<div>\n",
       "<style scoped>\n",
       "    .dataframe tbody tr th:only-of-type {\n",
       "        vertical-align: middle;\n",
       "    }\n",
       "\n",
       "    .dataframe tbody tr th {\n",
       "        vertical-align: top;\n",
       "    }\n",
       "\n",
       "    .dataframe thead th {\n",
       "        text-align: right;\n",
       "    }\n",
       "</style>\n",
       "<table border=\"1\" class=\"dataframe\">\n",
       "  <thead>\n",
       "    <tr style=\"text-align: right;\">\n",
       "      <th></th>\n",
       "      <th>amount</th>\n",
       "    </tr>\n",
       "    <tr>\n",
       "      <th>period</th>\n",
       "      <th></th>\n",
       "    </tr>\n",
       "  </thead>\n",
       "  <tbody>\n",
       "    <tr>\n",
       "      <td>2019-01-01</td>\n",
       "      <td>4.722500e+08</td>\n",
       "    </tr>\n",
       "    <tr>\n",
       "      <td>2019-02-01</td>\n",
       "      <td>4.726250e+08</td>\n",
       "    </tr>\n",
       "    <tr>\n",
       "      <td>2019-03-01</td>\n",
       "      <td>4.728125e+08</td>\n",
       "    </tr>\n",
       "    <tr>\n",
       "      <td>2019-04-01</td>\n",
       "      <td>4.730000e+08</td>\n",
       "    </tr>\n",
       "    <tr>\n",
       "      <td>2019-05-01</td>\n",
       "      <td>4.550000e+08</td>\n",
       "    </tr>\n",
       "    <tr>\n",
       "      <td>2019-06-01</td>\n",
       "      <td>4.872500e+08</td>\n",
       "    </tr>\n",
       "    <tr>\n",
       "      <td>2019-07-01</td>\n",
       "      <td>4.945000e+08</td>\n",
       "    </tr>\n",
       "    <tr>\n",
       "      <td>2019-08-01</td>\n",
       "      <td>4.950000e+08</td>\n",
       "    </tr>\n",
       "    <tr>\n",
       "      <td>2019-09-01</td>\n",
       "      <td>5.085000e+08</td>\n",
       "    </tr>\n",
       "    <tr>\n",
       "      <td>2019-10-01</td>\n",
       "      <td>5.100000e+08</td>\n",
       "    </tr>\n",
       "    <tr>\n",
       "      <td>2019-11-01</td>\n",
       "      <td>5.100000e+08</td>\n",
       "    </tr>\n",
       "    <tr>\n",
       "      <td>2019-12-01</td>\n",
       "      <td>5.100000e+08</td>\n",
       "    </tr>\n",
       "    <tr>\n",
       "      <td>2020-01-01</td>\n",
       "      <td>5.300000e+08</td>\n",
       "    </tr>\n",
       "    <tr>\n",
       "      <td>2020-02-01</td>\n",
       "      <td>5.400000e+08</td>\n",
       "    </tr>\n",
       "    <tr>\n",
       "      <td>2020-03-01</td>\n",
       "      <td>5.420000e+08</td>\n",
       "    </tr>\n",
       "  </tbody>\n",
       "</table>\n",
       "</div>"
      ],
      "text/plain": [
       "                  amount\n",
       "period                  \n",
       "2019-01-01  4.722500e+08\n",
       "2019-02-01  4.726250e+08\n",
       "2019-03-01  4.728125e+08\n",
       "2019-04-01  4.730000e+08\n",
       "2019-05-01  4.550000e+08\n",
       "2019-06-01  4.872500e+08\n",
       "2019-07-01  4.945000e+08\n",
       "2019-08-01  4.950000e+08\n",
       "2019-09-01  5.085000e+08\n",
       "2019-10-01  5.100000e+08\n",
       "2019-11-01  5.100000e+08\n",
       "2019-12-01  5.100000e+08\n",
       "2020-01-01  5.300000e+08\n",
       "2020-02-01  5.400000e+08\n",
       "2020-03-01  5.420000e+08"
      ]
     },
     "execution_count": 70,
     "metadata": {},
     "output_type": "execute_result"
    }
   ],
   "source": [
    "temp = temp.set_index('period')\n",
    "temp.tail(15)"
   ]
  },
  {
   "cell_type": "markdown",
   "metadata": {},
   "source": [
    "# 모델링"
   ]
  },
  {
   "cell_type": "markdown",
   "metadata": {},
   "source": [
    "# Arima"
   ]
  },
  {
   "cell_type": "code",
   "execution_count": 71,
   "metadata": {},
   "outputs": [],
   "source": [
    "## 최근 4개월을 test로 설정하고, 그 외 나머지는 train으로 설정한다 (Data Split)\n",
    "temp_for_train = temp[0:len(temp)-4]\n",
    "temp_for_test = temp[len(temp)-4:len(temp)]"
   ]
  },
  {
   "cell_type": "code",
   "execution_count": 72,
   "metadata": {},
   "outputs": [],
   "source": [
    "from pandas.plotting import autocorrelation_plot\n",
    "%matplotlib inline"
   ]
  },
  {
   "cell_type": "code",
   "execution_count": 73,
   "metadata": {},
   "outputs": [
    {
     "data": {
      "image/png": "[encoded data removed]",
      "text/plain": [
       "<Figure size 432x288 with 1 Axes>"
      ]
     },
     "metadata": {
      "needs_background": "light"
     },
     "output_type": "display_data"
    },
    {
     "data": {
      "image/png": "[encoded data removed]",
      "text/plain": [
       "<Figure size 432x288 with 1 Axes>"
      ]
     },
     "metadata": {
      "needs_background": "light"
     },
     "output_type": "display_data"
    }
   ],
   "source": [
    "from statsmodels.graphics.tsaplots import plot_acf, plot_pacf\n",
    "plot_acf(temp_for_train)\n",
    "plot_pacf(temp_for_train)\n",
    "plt.show()"
   ]
  },
  {
   "cell_type": "markdown",
   "metadata": {},
   "source": [
    "AR의 경우에는 lag가 갑자기 낮아지는 경우가 없기 때문에 p=0, MA의 경우는 1 이후에 갑자기 낮아지기 때문에 q=1로 parameter를 설정"
   ]
  },
  {
   "cell_type": "code",
   "execution_count": 74,
   "metadata": {},
   "outputs": [
    {
     "data": {
      "image/png": "[encoded data removed]",
      "text/plain": [
       "<Figure size 432x288 with 1 Axes>"
      ]
     },
     "metadata": {
      "needs_background": "light"
     },
     "output_type": "display_data"
    },
    {
     "data": {
      "image/png": "[encoded data removed]",
      "text/plain": [
       "<Figure size 432x288 with 1 Axes>"
      ]
     },
     "metadata": {
      "needs_background": "light"
     },
     "output_type": "display_data"
    },
    {
     "data": {
      "image/png": "[encoded data removed]",
      "text/plain": [
       "<Figure size 432x288 with 1 Axes>"
      ]
     },
     "metadata": {
      "needs_background": "light"
     },
     "output_type": "display_data"
    }
   ],
   "source": [
    "import matplotlib.pyplot as plt\n",
    "import pandas as pd\n",
    "from statsmodels.graphics.tsaplots import plot_acf, plot_pacf\n",
    "\n",
    "diff_1=temp_for_train.diff(periods=1).iloc[1:]\n",
    "diff_1.plot()\n",
    "plot_acf(diff_1)\n",
    "plot_pacf(diff_1)\n",
    "plt.show()"
   ]
  },
  {
   "cell_type": "markdown",
   "metadata": {},
   "source": [
    "차분 역시 1번 차분한 뒤에 파란색 띄에 점들이 그려지는 것으로 보아 d=1로 설정"
   ]
  },
  {
   "cell_type": "code",
   "execution_count": 75,
   "metadata": {},
   "outputs": [
    {
     "name": "stdout",
     "output_type": "stream",
     "text": [
      "                             ARIMA Model Results                              \n",
      "==============================================================================\n",
      "Dep. Variable:               D.amount   No. Observations:                  177\n",
      "Model:                 ARIMA(0, 1, 1)   Log Likelihood               -3193.670\n",
      "Method:                       css-mle   S.D. of innovations       16584210.366\n",
      "Date:                Tue, 23 Jun 2020   AIC                           6393.339\n",
      "Time:                        03:33:34   BIC                           6402.868\n",
      "Sample:                             1   HQIC                          6397.204\n",
      "                                                                              \n",
      "==================================================================================\n",
      "                     coef    std err          z      P>|z|      [0.025      0.975]\n",
      "----------------------------------------------------------------------------------\n",
      "const            1.61e+06    7.8e+05      2.064      0.039    8.08e+04    3.14e+06\n",
      "ma.L1.D.amount    -0.3762      0.068     -5.498      0.000      -0.510      -0.242\n",
      "                                    Roots                                    \n",
      "=============================================================================\n",
      "                  Real          Imaginary           Modulus         Frequency\n",
      "-----------------------------------------------------------------------------\n",
      "MA.1            2.6583           +0.0000j            2.6583            0.0000\n",
      "-----------------------------------------------------------------------------\n"
     ]
    }
   ],
   "source": [
    "from statsmodels.tsa.arima_model import ARIMA\n",
    "model = ARIMA(temp_for_train, order=(0,1,1))\n",
    "model_fit = model.fit(trend='c',full_output=True, disp=False)\n",
    "print(model_fit.summary())"
   ]
  },
  {
   "cell_type": "code",
   "execution_count": 76,
   "metadata": {},
   "outputs": [
    {
     "data": {
      "image/png": "[encoded data removed]",
      "text/plain": [
       "<Figure size 432x288 with 1 Axes>"
      ]
     },
     "execution_count": 76,
     "metadata": {},
     "output_type": "execute_result"
    },
    {
     "data": {
      "image/png": "[encoded data removed]",
      "text/plain": [
       "<Figure size 432x288 with 1 Axes>"
      ]
     },
     "metadata": {
      "needs_background": "light"
     },
     "output_type": "display_data"
    }
   ],
   "source": [
    "model_fit.plot_predict()"
   ]
  },
  {
   "cell_type": "code",
   "execution_count": 77,
   "metadata": {},
   "outputs": [
    {
     "name": "stdout",
     "output_type": "stream",
     "text": [
      "몇 개월 앞을 예측하십니까?4\n"
     ]
    }
   ],
   "source": [
    "predict_month = int(input(\"몇 개월 앞을 예측하십니까?\"))"
   ]
  },
  {
   "cell_type": "code",
   "execution_count": 78,
   "metadata": {},
   "outputs": [
    {
     "data": {
      "text/html": [
       "<div>\n",
       "<style scoped>\n",
       "    .dataframe tbody tr th:only-of-type {\n",
       "        vertical-align: middle;\n",
       "    }\n",
       "\n",
       "    .dataframe tbody tr th {\n",
       "        vertical-align: top;\n",
       "    }\n",
       "\n",
       "    .dataframe thead th {\n",
       "        text-align: right;\n",
       "    }\n",
       "</style>\n",
       "<table border=\"1\" class=\"dataframe\">\n",
       "  <thead>\n",
       "    <tr style=\"text-align: right;\">\n",
       "      <th></th>\n",
       "      <th>real</th>\n",
       "      <th>model</th>\n",
       "    </tr>\n",
       "    <tr>\n",
       "      <th>period</th>\n",
       "      <th></th>\n",
       "      <th></th>\n",
       "    </tr>\n",
       "  </thead>\n",
       "  <tbody>\n",
       "    <tr>\n",
       "      <td>2019-12-01</td>\n",
       "      <td>509999999.0</td>\n",
       "      <td>5.115132e+08</td>\n",
       "    </tr>\n",
       "    <tr>\n",
       "      <td>2020-01-01</td>\n",
       "      <td>530000000.0</td>\n",
       "      <td>5.131234e+08</td>\n",
       "    </tr>\n",
       "    <tr>\n",
       "      <td>2020-02-01</td>\n",
       "      <td>540000000.0</td>\n",
       "      <td>5.147335e+08</td>\n",
       "    </tr>\n",
       "    <tr>\n",
       "      <td>2020-03-01</td>\n",
       "      <td>542000000.0</td>\n",
       "      <td>5.163437e+08</td>\n",
       "    </tr>\n",
       "  </tbody>\n",
       "</table>\n",
       "</div>"
      ],
      "text/plain": [
       "                   real         model\n",
       "period                               \n",
       "2019-12-01  509999999.0  5.115132e+08\n",
       "2020-01-01  530000000.0  5.131234e+08\n",
       "2020-02-01  540000000.0  5.147335e+08\n",
       "2020-03-01  542000000.0  5.163437e+08"
      ]
     },
     "execution_count": 78,
     "metadata": {},
     "output_type": "execute_result"
    }
   ],
   "source": [
    "fore = model_fit.forecast(steps=predict_month)\n",
    "arima = pd.DataFrame(fore[0])\n",
    "arima.index = temp_for_test.index\n",
    "result = pd.concat([temp_for_test,arima],axis=1)\n",
    "result.columns = ['real','model']\n",
    "result"
   ]
  },
  {
   "cell_type": "markdown",
   "metadata": {},
   "source": [
    "성능면에서 보았을 때 모델링 부분에서 개선해야할 점이 많다. 예측 월 수가 많아질수록 실제 데이터와 예측한 값의 괴리가 커지는 것을 확인할 수 있다.\n",
    "우선 아파트의 경우에는 random 하게 결측치가 존재하고, 이를 다른 sample로 부터 채워넣는 방식을 채택했기 때문에, train/test 데이터를 정확하게 나누고 검증을 하는 데 있어서 모델링이 정교하지 못하였다.\n",
    "또한, 각 아파트마다 변수들과 속성이 다르기 때문에 절대적인 p,q,d 값을 설정할 수 없다. 앞선 아파트의 경우에는 p=0,q=1,d=1로 설정하였지만, 다른 아파트도 이와 같은 parameter를 갖는다고 단정할 수 없다. 이와 같은 이유 때문에 auto_arima라는 모델링을 고안하였다."
   ]
  },
  {
   "cell_type": "markdown",
   "metadata": {},
   "source": [
    "# Auto_Arima"
   ]
  },
  {
   "cell_type": "code",
   "execution_count": 88,
   "metadata": {},
   "outputs": [],
   "source": [
    "import pmdarima as pm"
   ]
  },
  {
   "cell_type": "code",
   "execution_count": 89,
   "metadata": {},
   "outputs": [],
   "source": [
    "model = pm.auto_arima(temp_for_train,seasonal=True,m=12)"
   ]
  },
  {
   "cell_type": "code",
   "execution_count": 90,
   "metadata": {},
   "outputs": [],
   "source": [
    "forecasts = model.predict(temp_for_test.shape[0])"
   ]
  },
  {
   "cell_type": "code",
   "execution_count": 91,
   "metadata": {},
   "outputs": [
    {
     "data": {
      "text/html": [
       "<div>\n",
       "<style scoped>\n",
       "    .dataframe tbody tr th:only-of-type {\n",
       "        vertical-align: middle;\n",
       "    }\n",
       "\n",
       "    .dataframe tbody tr th {\n",
       "        vertical-align: top;\n",
       "    }\n",
       "\n",
       "    .dataframe thead th {\n",
       "        text-align: right;\n",
       "    }\n",
       "</style>\n",
       "<table border=\"1\" class=\"dataframe\">\n",
       "  <thead>\n",
       "    <tr style=\"text-align: right;\">\n",
       "      <th></th>\n",
       "      <th>real</th>\n",
       "      <th>model</th>\n",
       "    </tr>\n",
       "    <tr>\n",
       "      <th>period</th>\n",
       "      <th></th>\n",
       "      <th></th>\n",
       "    </tr>\n",
       "  </thead>\n",
       "  <tbody>\n",
       "    <tr>\n",
       "      <td>2019-12-01</td>\n",
       "      <td>509999999.0</td>\n",
       "      <td>5.122137e+08</td>\n",
       "    </tr>\n",
       "    <tr>\n",
       "      <td>2020-01-01</td>\n",
       "      <td>530000000.0</td>\n",
       "      <td>5.139872e+08</td>\n",
       "    </tr>\n",
       "    <tr>\n",
       "      <td>2020-02-01</td>\n",
       "      <td>540000000.0</td>\n",
       "      <td>5.158482e+08</td>\n",
       "    </tr>\n",
       "    <tr>\n",
       "      <td>2020-03-01</td>\n",
       "      <td>542000000.0</td>\n",
       "      <td>5.176918e+08</td>\n",
       "    </tr>\n",
       "  </tbody>\n",
       "</table>\n",
       "</div>"
      ],
      "text/plain": [
       "                   real         model\n",
       "period                               \n",
       "2019-12-01  509999999.0  5.122137e+08\n",
       "2020-01-01  530000000.0  5.139872e+08\n",
       "2020-02-01  540000000.0  5.158482e+08\n",
       "2020-03-01  542000000.0  5.176918e+08"
      ]
     },
     "execution_count": 91,
     "metadata": {},
     "output_type": "execute_result"
    }
   ],
   "source": [
    "arima = pd.DataFrame(forecasts)\n",
    "arima.columns = ['arima']\n",
    "arima.index = temp_for_test.index\n",
    "result = pd.concat([temp_for_test,arima],axis=1)\n",
    "result.columns = ['real','model']\n",
    "result"
   ]
  },
  {
   "cell_type": "markdown",
   "metadata": {},
   "source": [
    "Auto_arima 모델링을 진행하였을 때, 따로 parameter를 설정하지 않아도 자동으로 처리가 되어 앞선 arima 모델에서 야기되었던 문제점을 어느정도 해결할 수 있었다. 실제로 성능이 조금 좋아진 것 역시 확인할 수 있다.\n",
    "본래는 이와 같은 Auto_arima 모델을 사용하려고 했지만, 다음의 이유로 인해 이전 방법인 ARIMA 모델을 다시 사용하게 되었다.\n",
    "몇개월 후의 아파트 가격을 예측하기로 사용자가 설정을 하고 shell을 실행하였을 때, auto arima의 경우에는 시간이 상당히 많이 소요되는 것을 확인할 수 있었다. 이와 같은 이유로 성능과 속도의 tradeoff가 발생하여, 조원끼리 상의하여 속도를 선택하는 쪽으로 진행하기로 결정하였다."
   ]
  },
  {
   "cell_type": "code",
   "execution_count": 92,
   "metadata": {},
   "outputs": [],
   "source": [
    "#최종적으로 parameter (0,1,1) 을 가지는 ARIMA 모델을 최종 결정하였고\n",
    "#실제 데이터 전체를 fit 한다\n",
    "model = ARIMA(temp, order=(0,1,1))\n",
    "model_fit = model.fit(trend='c',full_output=True, disp=False)\n",
    "fore = model_fit.forecast(steps=predict_month)\n",
    "arima = pd.DataFrame(fore[0])"
   ]
  },
  {
   "cell_type": "code",
   "execution_count": 93,
   "metadata": {},
   "outputs": [
    {
     "data": {
      "text/html": [
       "<div>\n",
       "<style scoped>\n",
       "    .dataframe tbody tr th:only-of-type {\n",
       "        vertical-align: middle;\n",
       "    }\n",
       "\n",
       "    .dataframe tbody tr th {\n",
       "        vertical-align: top;\n",
       "    }\n",
       "\n",
       "    .dataframe thead th {\n",
       "        text-align: right;\n",
       "    }\n",
       "</style>\n",
       "<table border=\"1\" class=\"dataframe\">\n",
       "  <thead>\n",
       "    <tr style=\"text-align: right;\">\n",
       "      <th></th>\n",
       "      <th>0</th>\n",
       "    </tr>\n",
       "  </thead>\n",
       "  <tbody>\n",
       "    <tr>\n",
       "      <td>1</td>\n",
       "      <td>5.416434e+08</td>\n",
       "    </tr>\n",
       "    <tr>\n",
       "      <td>2</td>\n",
       "      <td>5.433948e+08</td>\n",
       "    </tr>\n",
       "    <tr>\n",
       "      <td>3</td>\n",
       "      <td>5.451462e+08</td>\n",
       "    </tr>\n",
       "    <tr>\n",
       "      <td>4</td>\n",
       "      <td>5.468976e+08</td>\n",
       "    </tr>\n",
       "  </tbody>\n",
       "</table>\n",
       "</div>"
      ],
      "text/plain": [
       "              0\n",
       "1  5.416434e+08\n",
       "2  5.433948e+08\n",
       "3  5.451462e+08\n",
       "4  5.468976e+08"
      ]
     },
     "execution_count": 93,
     "metadata": {},
     "output_type": "execute_result"
    }
   ],
   "source": [
    "#최종 예측 모형\n",
    "p = []\n",
    "for i in range(1,predict_month+1):\n",
    "    p.append(i)\n",
    "    \n",
    "arima.index = p\n",
    "arima"
   ]
  },
  {
   "cell_type": "code",
   "execution_count": null,
   "metadata": {},
   "outputs": [],
   "source": []
  }
 ],
 "metadata": {
  "kernelspec": {
   "display_name": "Python 3",
   "language": "python",
   "name": "python3"
  },
  "language_info": {
   "codemirror_mode": {
    "name": "ipython",
    "version": 3
   },
   "file_extension": ".py",
   "mimetype": "text/x-python",
   "name": "python",
   "nbconvert_exporter": "python",
   "pygments_lexer": "ipython3",
   "version": "3.7.4"
  }
 },
 "nbformat": 4,
 "nbformat_minor": 2
}
