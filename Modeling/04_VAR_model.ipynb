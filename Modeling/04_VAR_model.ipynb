{
 "cells": [
  {
   "cell_type": "markdown",
   "metadata": {},
   "source": [
    "# 라이브러리"
   ]
  },
  {
   "cell_type": "code",
   "execution_count": 1,
   "metadata": {
    "ExecuteTime": {
     "end_time": "2020-05-22T15:16:41.400172Z",
     "start_time": "2020-05-22T15:16:40.526967Z"
    }
   },
   "outputs": [],
   "source": [
    "# 데이터 불러오기\n",
    "import psycopg2\n",
    "import json\n",
    "\n",
    "# 데이터 전처리\n",
    "import pandas as pd\n",
    "import numpy as np\n",
    "import re\n",
    "import datetime\n",
    "\n",
    "# 데이터 시각화\n",
    "import matplotlib.pyplot as plt\n",
    "import seaborn as sns\n",
    "\n",
    "# 기타\n",
    "import warnings\n",
    "warnings.filterwarnings(\"ignore\")"
   ]
  },
  {
   "cell_type": "markdown",
   "metadata": {},
   "source": [
    "# 데이터 불러오기"
   ]
  },
  {
   "cell_type": "code",
   "execution_count": 2,
   "metadata": {
    "ExecuteTime": {
     "end_time": "2020-05-22T15:16:41.405175Z",
     "start_time": "2020-05-22T15:16:41.401172Z"
    }
   },
   "outputs": [],
   "source": [
    "def call_df(table_name):\n",
    "    with open('config.json', 'r') as f:\n",
    "        config = json.load(f)\n",
    "        \n",
    "    conn = psycopg2.connect(user = config['USER'],\n",
    "                              password = config['PASSWORD'],\n",
    "                              host = config['HOST'],\n",
    "                              port = config['PORT'],\n",
    "                              database = config['DATABASE'])\n",
    "    \n",
    "    sql = f'SELECT * FROM {table_name}'\n",
    "    df = pd.read_sql_query(sql, conn)\n",
    "    conn.close()\n",
    "    return df"
   ]
  },
  {
   "cell_type": "code",
   "execution_count": 3,
   "metadata": {
    "ExecuteTime": {
     "end_time": "2020-05-22T15:16:43.151881Z",
     "start_time": "2020-05-22T15:16:41.406167Z"
    }
   },
   "outputs": [],
   "source": [
    "price = call_df('crawling_db.price_table')\n",
    "clustered = pd.read_pickle('./data/clustered_apartment.pkl')\n",
    "df = price.merge(clustered, how='left', on='apartment_id')"
   ]
  },
  {
   "cell_type": "markdown",
   "metadata": {},
   "source": [
    "# 데이터 전처리"
   ]
  },
  {
   "cell_type": "code",
   "execution_count": 4,
   "metadata": {
    "ExecuteTime": {
     "end_time": "2020-05-22T15:16:43.843038Z",
     "start_time": "2020-05-22T15:16:43.152882Z"
    }
   },
   "outputs": [],
   "source": [
    "# area => 숫자가 아닌 무언가가 처음 나오는 것 기준으로 앞의 내용\n",
    "df['area'] = df['area'].apply(lambda x: int(re.split('\\D',x)[0]))\n",
    "df['period'] = pd.to_datetime(df['period'], format='%Y.%m')"
   ]
  },
  {
   "cell_type": "markdown",
   "metadata": {},
   "source": [
    "# 사용자 환경 설정"
   ]
  },
  {
   "cell_type": "code",
   "execution_count": 5,
   "metadata": {
    "ExecuteTime": {
     "end_time": "2020-05-22T15:16:43.846039Z",
     "start_time": "2020-05-22T15:16:43.844038Z"
    }
   },
   "outputs": [],
   "source": [
    "user_option = {\n",
    "    'apartment_name':'당산반도유보라팰리스', # 검색하고 싶은 아파트의 이름\n",
    "    'apartment_area':108, # 그 아파트의 면적\n",
    "}"
   ]
  },
  {
   "cell_type": "code",
   "execution_count": 6,
   "metadata": {
    "ExecuteTime": {
     "end_time": "2020-05-22T15:16:43.856033Z",
     "start_time": "2020-05-22T15:16:43.847031Z"
    }
   },
   "outputs": [
    {
     "name": "stdout",
     "output_type": "stream",
     "text": [
      "당산반도유보라팰리스 아파트의 그룹은 8입니다.\n"
     ]
    }
   ],
   "source": [
    "# 클러스터 찾기\n",
    "group_name = clustered.loc[clustered['apartment_name'] == user_option['apartment_name'],'cluster'].values[0]\n",
    "print(f\"{user_option['apartment_name']} 아파트의 그룹은 {group_name}입니다.\")"
   ]
  },
  {
   "cell_type": "markdown",
   "metadata": {},
   "source": [
    "# 아파트 찾기"
   ]
  },
  {
   "cell_type": "code",
   "execution_count": 7,
   "metadata": {
    "ExecuteTime": {
     "end_time": "2020-05-22T15:16:43.948062Z",
     "start_time": "2020-05-22T15:16:43.858034Z"
    }
   },
   "outputs": [],
   "source": [
    "# 면적이 +- 3인 아파트 찾기\n",
    "temp = df[(df['cluster'] == group_name) &\n",
    "          (df['area'] <= user_option['apartment_area']+3) &\n",
    "          (df['area'] >= user_option['apartment_area']-3)]"
   ]
  },
  {
   "cell_type": "code",
   "execution_count": 8,
   "metadata": {
    "ExecuteTime": {
     "end_time": "2020-05-22T15:16:43.951063Z",
     "start_time": "2020-05-22T15:16:43.949062Z"
    }
   },
   "outputs": [],
   "source": [
    "def Q1(x): \n",
    "    return np.percentile(x, 0.25)\n",
    "def Q2(x): \n",
    "    return np.percentile(x, 0.5)\n",
    "def Q3(x): \n",
    "    return np.percentile(x, 0.75)"
   ]
  },
  {
   "cell_type": "code",
   "execution_count": 9,
   "metadata": {
    "ExecuteTime": {
     "end_time": "2020-05-22T15:16:44.036082Z",
     "start_time": "2020-05-22T15:16:43.951063Z"
    }
   },
   "outputs": [],
   "source": [
    "# 날짜의 범위\n",
    "date_range = pd.date_range(start = temp.loc[temp['apartment_name'] == user_option['apartment_name'],'period'].min(), # 가장 빠른 월\n",
    "                           end = temp['period'].max(), # 가장 늦은 월\n",
    "                           freq='MS')\n",
    "\n",
    "# 기존 데이터를 최대한 활용하기\n",
    "exist = (temp.loc[temp['apartment_name'] == user_option['apartment_name']].\n",
    "         groupby('period')['amount'].\n",
    "         agg([Q1,Q2,Q3],).\n",
    "         reset_index())\n",
    "\n",
    "# 비어있는 날짜\n",
    "empty_date = date_range[~date_range.isin(exist['period'])]\n",
    "\n",
    "# 빈 곳을 채워넣을 데이터\n",
    "supply = (temp.groupby('period')['amount'].\n",
    "          agg([Q1,Q2,Q3]).\n",
    "          reset_index())\n",
    "\n",
    "# 병합 후 재정렬\n",
    "total = (pd.concat([exist,\n",
    "                    supply.loc[supply['period'].isin(empty_date)]],\n",
    "                   axis = 0).\n",
    "         sort_values('period').\n",
    "         set_index(keys='period')/10000000) # 천만원 단위"
   ]
  },
  {
   "cell_type": "markdown",
   "metadata": {},
   "source": [
    "# VAR 모델링"
   ]
  },
  {
   "cell_type": "markdown",
   "metadata": {},
   "source": [
    "## 평가\n",
    "- 가지고 있는 데이터의 마지막 4개월을 제외한 이전 시점의 데이터로 학습하여, 마지막 4개월치와 비교하겠습니다."
   ]
  },
  {
   "cell_type": "code",
   "execution_count": 10,
   "metadata": {
    "ExecuteTime": {
     "end_time": "2020-05-22T15:16:44.040076Z",
     "start_time": "2020-05-22T15:16:44.036082Z"
    }
   },
   "outputs": [],
   "source": [
    "train = total[:-4]\n",
    "test = total[-4:]"
   ]
  },
  {
   "cell_type": "code",
   "execution_count": 11,
   "metadata": {
    "ExecuteTime": {
     "end_time": "2020-05-22T15:16:44.122094Z",
     "start_time": "2020-05-22T15:16:44.041083Z"
    }
   },
   "outputs": [],
   "source": [
    "from statsmodels.tsa.vector_ar.var_model import VAR\n",
    "model = VAR(train)\n",
    "model_fit = model.fit()"
   ]
  },
  {
   "cell_type": "code",
   "execution_count": 12,
   "metadata": {
    "ExecuteTime": {
     "end_time": "2020-05-22T15:16:44.126094Z",
     "start_time": "2020-05-22T15:16:44.123093Z"
    }
   },
   "outputs": [],
   "source": [
    "yhat = model_fit.forecast(y = train.values, steps=4)\n",
    "var = pd.DataFrame(yhat,\n",
    "                   columns=['Q1_hat','Q2_hat','Q3_hat'],\n",
    "                   index=test.index)"
   ]
  },
  {
   "cell_type": "code",
   "execution_count": 13,
   "metadata": {
    "ExecuteTime": {
     "end_time": "2020-05-22T15:16:44.242120Z",
     "start_time": "2020-05-22T15:16:44.127094Z"
    }
   },
   "outputs": [
    {
     "name": "stdout",
     "output_type": "stream",
     "text": [
      "                   Q1        Q2         Q3     Q1_hat     Q2_hat     Q3_hat\n",
      "period                                                                     \n",
      "2020-01-01  118.50000  118.5000  118.50000  62.660019  63.165478  63.526307\n",
      "2020-02-01   33.37900   35.7580   37.61550  50.035403  50.596816  50.980060\n",
      "2020-03-01   38.46725   40.1345   41.80175  46.736980  47.321332  47.713097\n",
      "2020-04-01   40.42275   40.8455   41.26825  45.910523  46.500572  46.893793\n"
     ]
    },
    {
     "data": {
      "image/png": "[encoded data removed]",
      "text/plain": [
       "<Figure size 432x288 with 1 Axes>"
      ]
     },
     "metadata": {
      "needs_background": "light"
     },
     "output_type": "display_data"
    }
   ],
   "source": [
    "result = pd.concat([test,var],axis=1)\n",
    "print(result)\n",
    "result.plot(kind='line',\n",
    "            color=['black','black','black','red','red','red'])\n",
    "plt.show()"
   ]
  },
  {
   "cell_type": "markdown",
   "metadata": {
    "ExecuteTime": {
     "end_time": "2020-05-22T14:35:44.979402Z",
     "start_time": "2020-05-22T14:35:44.975403Z"
    }
   },
   "source": [
    "- 그다지 나쁜 결과는 아닌 것 같습니다..?"
   ]
  },
  {
   "cell_type": "markdown",
   "metadata": {},
   "source": [
    "## 실제 활용 (용우 주목)"
   ]
  },
  {
   "cell_type": "code",
   "execution_count": 14,
   "metadata": {
    "ExecuteTime": {
     "end_time": "2020-05-22T15:16:44.253123Z",
     "start_time": "2020-05-22T15:16:44.243120Z"
    }
   },
   "outputs": [],
   "source": [
    "from statsmodels.tsa.vector_ar.var_model import VAR\n",
    "\n",
    "n = 4 # 몇 달 앞까지 볼 것인가\n",
    "new_index = pd.date_range(start = total.index[-1], periods = n+1, freq='MS')[1:] # 예측할 월의 리스트\n",
    "\n",
    "model = VAR(total)\n",
    "model_fit = model.fit()\n",
    "pred = model_fit.forecast(y = total.values, steps=n)\n",
    "pred = pd.DataFrame(pred,\n",
    "                    columns=['Q1','Q2','Q3'],\n",
    "                    index=new_index)\n",
    "result = pd.concat([total,pred],axis=0)"
   ]
  },
  {
   "cell_type": "code",
   "execution_count": 15,
   "metadata": {
    "ExecuteTime": {
     "end_time": "2020-05-22T15:16:44.352147Z",
     "start_time": "2020-05-22T15:16:44.254123Z"
    }
   },
   "outputs": [
    {
     "name": "stdout",
     "output_type": "stream",
     "text": [
      "                   Q1         Q2         Q3\n",
      "2020-05-01  43.260771  43.857799  44.281288\n",
      "2020-06-01  44.953627  45.560704  45.973423\n",
      "2020-07-01  45.532723  46.142275  46.554834\n",
      "2020-08-01  45.720177  46.330081  46.743036\n"
     ]
    },
    {
     "data": {
      "image/png": "[encoded data removed]",
      "text/plain": [
       "<Figure size 432x288 with 1 Axes>"
      ]
     },
     "metadata": {
      "needs_background": "light"
     },
     "output_type": "display_data"
    }
   ],
   "source": [
    "print(result.loc[new_index])\n",
    "result[-(n+6):].plot(kind='line') # 결과물은 이전과 비교하기 위해 6개월 전부터 시각화\n",
    "plt.show()"
   ]
  }
 ],
 "metadata": {
  "kernelspec": {
   "display_name": "Python 3",
   "language": "python",
   "name": "python3"
  },
  "language_info": {
   "codemirror_mode": {
    "name": "ipython",
    "version": 3
   },
   "file_extension": ".py",
   "mimetype": "text/x-python",
   "name": "python",
   "nbconvert_exporter": "python",
   "pygments_lexer": "ipython3",
   "version": "3.7.6"
  },
  "toc": {
   "base_numbering": 1,
   "nav_menu": {},
   "number_sections": true,
   "sideBar": true,
   "skip_h1_title": false,
   "title_cell": "Table of Contents",
   "title_sidebar": "Contents",
   "toc_cell": false,
   "toc_position": {
    "height": "calc(100% - 180px)",
    "left": "10px",
    "top": "150px",
    "width": "254.6px"
   },
   "toc_section_display": true,
   "toc_window_display": true
  },
  "varInspector": {
   "cols": {
    "lenName": 16,
    "lenType": 16,
    "lenVar": 40
   },
   "kernels_config": {
    "python": {
     "delete_cmd_postfix": "",
     "delete_cmd_prefix": "del ",
     "library": "var_list.py",
     "varRefreshCmd": "print(var_dic_list())"
    },
    "r": {
     "delete_cmd_postfix": ") ",
     "delete_cmd_prefix": "rm(",
     "library": "var_list.r",
     "varRefreshCmd": "cat(var_dic_list()) "
    }
   },
   "oldHeight": 189.8,
   "position": {
    "height": "40px",
    "left": "1266px",
    "right": "20px",
    "top": "120px",
    "width": "250px"
   },
   "types_to_exclude": [
    "module",
    "function",
    "builtin_function_or_method",
    "instance",
    "_Feature"
   ],
   "varInspector_section_display": "none",
   "window_display": true
  }
 },
 "nbformat": 4,
 "nbformat_minor": 2
}
