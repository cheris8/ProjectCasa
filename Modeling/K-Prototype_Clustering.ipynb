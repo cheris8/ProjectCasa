{
 "cells": [
  {
   "cell_type": "markdown",
   "metadata": {},
   "source": [
    "# 라이브러리"
   ]
  },
  {
   "cell_type": "code",
   "execution_count": 5,
   "metadata": {
    "ExecuteTime": {
     "end_time": "2020-06-03T15:06:18.914259Z",
     "start_time": "2020-06-03T15:06:16.949817Z"
    }
   },
   "outputs": [],
   "source": [
    "import psycopg2\n",
    "import pandas as pd\n",
    "import numpy as np\n",
    "import json\n",
    "import datetime\n",
    "import re\n",
    "\n",
    "import joblib\n",
    "from tqdm import tqdm\n",
    "from sklearn.preprocessing import MinMaxScaler\n",
    "from sklearn.preprocessing import LabelEncoder\n",
    "from kmodes.kprototypes import KPrototypes\n",
    "\n",
    "import matplotlib.pyplot as plt\n",
    "import seaborn as sns\n",
    "from matplotlib import font_manager, rc\n",
    "import platform\n",
    "\n",
    "if platform.system() == 'Windows':\n",
    "    font_name = font_manager.FontProperties(fname=\"c:/Windows/Fonts/malgun.ttf\").get_name()\n",
    "    rc('font', family=font_name)\n",
    "else:\n",
    "    rc('font', family='AppleGothic')"
   ]
  },
  {
   "cell_type": "markdown",
   "metadata": {},
   "source": [
    "# 데이터 불러오기"
   ]
  },
  {
   "cell_type": "code",
   "execution_count": 6,
   "metadata": {
    "ExecuteTime": {
     "end_time": "2020-06-03T15:06:18.919261Z",
     "start_time": "2020-06-03T15:06:18.915260Z"
    }
   },
   "outputs": [],
   "source": [
    "def call_df(table_name):\n",
    "    with open('config.json', 'r') as f:\n",
    "        config = json.load(f)\n",
    "        \n",
    "    conn = psycopg2.connect(user = config['USER'],\n",
    "                              password = config['PASSWORD'],\n",
    "                              host = config['HOST'],\n",
    "                              port = config['PORT'],\n",
    "                              database = config['DATABASE'])\n",
    "    \n",
    "    sql = f'SELECT * FROM {table_name}'\n",
    "    df = pd.read_sql_query(sql, conn)\n",
    "    conn.close()\n",
    "    return df"
   ]
  },
  {
   "cell_type": "code",
   "execution_count": 7,
   "metadata": {
    "ExecuteTime": {
     "end_time": "2020-06-03T15:06:21.189796Z",
     "start_time": "2020-06-03T15:06:18.920262Z"
    }
   },
   "outputs": [],
   "source": [
    "district = call_df('crawling_db.district_table')\n",
    "apartment = call_df('crawling_db.apartment_table').drop(columns='table_id')\n",
    "price = call_df('crawling_db.price_table')"
   ]
  },
  {
   "cell_type": "code",
   "execution_count": 4,
   "metadata": {
    "ExecuteTime": {
     "end_time": "2020-06-03T15:06:21.208792Z",
     "start_time": "2020-06-03T15:06:21.190796Z"
    }
   },
   "outputs": [],
   "source": [
    "df = (apartment.\n",
    "      merge(district, how='left', on='district_id').\n",
    "      merge(school, how='left', on='apartment_id').\n",
    "      merge(subway, how='left',on='apartment_id'))"
   ]
  },
  {
   "cell_type": "markdown",
   "metadata": {},
   "source": [
    "# 데이터 전처리"
   ]
  },
  {
   "cell_type": "markdown",
   "metadata": {},
   "source": [
    "## 변수 생성"
   ]
  },
  {
   "cell_type": "markdown",
   "metadata": {},
   "source": [
    "### 단위 면적당 최고가(원/$m^2$)\n",
    "- 단위 면적당 최고가 변수를 클러스터링에 사용합니다. 집단 내 가격의 분산을 줄여주기 위한 변수입니다."
   ]
  },
  {
   "cell_type": "code",
   "execution_count": 5,
   "metadata": {
    "ExecuteTime": {
     "end_time": "2020-06-03T15:06:21.932955Z",
     "start_time": "2020-06-03T15:06:21.209792Z"
    }
   },
   "outputs": [],
   "source": [
    "# area(면적) 변수 전처리\n",
    "price['area'] = price['area'].apply(lambda x: int(re.split('\\D',x)[0]))\n",
    "\n",
    "# unit_price(단위 가격) 변수 생성\n",
    "price['unit_price'] = round(price['amount']/price['area'])\n",
    "\n",
    "# 아파트 ID별 최고가 변수 추출 \n",
    "max_price = price.groupby('apartment_id')['unit_price'].max()"
   ]
  },
  {
   "cell_type": "markdown",
   "metadata": {
    "ExecuteTime": {
     "end_time": "2020-06-02T15:11:49.486951Z",
     "start_time": "2020-06-02T15:11:49.483950Z"
    }
   },
   "source": [
    "## 데이터 병합"
   ]
  },
  {
   "cell_type": "code",
   "execution_count": 6,
   "metadata": {
    "ExecuteTime": {
     "end_time": "2020-06-03T15:06:21.959960Z",
     "start_time": "2020-06-03T15:06:21.933955Z"
    }
   },
   "outputs": [],
   "source": [
    "df = (apartment.\n",
    "      merge(district, how='left', on='district_id').\n",
    "      merge(school, how='left', on='apartment_id').\n",
    "      merge(subway, how='left', on='apartment_id').\n",
    "      merge(max_price, how='left', on='apartment_id'))"
   ]
  },
  {
   "cell_type": "markdown",
   "metadata": {},
   "source": [
    "## 숫자형 자료"
   ]
  },
  {
   "cell_type": "code",
   "execution_count": 7,
   "metadata": {
    "ExecuteTime": {
     "end_time": "2020-06-03T15:06:21.966963Z",
     "start_time": "2020-06-03T15:06:21.960961Z"
    }
   },
   "outputs": [],
   "source": [
    "df['school_students'] = pd.to_numeric(df['school_students'])"
   ]
  },
  {
<<<<<<< HEAD
=======
   "cell_type": "code",
   "execution_count": 8,
   "metadata": {
    "ExecuteTime": {
     "end_time": "2020-06-03T15:06:21.979966Z",
     "start_time": "2020-06-03T15:06:21.967962Z"
    }
   },
   "outputs": [
    {
     "name": "stdout",
     "output_type": "stream",
     "text": [
      "district_id                 0\n",
      "apartment_id                0\n",
      "apartment_addr_town         0\n",
      "apartment_builder           0\n",
      "apartment_build_year        0\n",
      "apartment_build_month       0\n",
      "apartment_floor_min         0\n",
      "apartment_floor_max         0\n",
      "apartment_parking           0\n",
      "apartment_name              0\n",
      "district_name               0\n",
      "school_name                 0\n",
      "school_dist                 0\n",
      "school_addr_district        0\n",
      "school_addr_town            0\n",
      "school_students           840\n",
      "st_name                     0\n",
      "st_dist                     0\n",
      "st_volume                   0\n",
      "unit_price               2333\n",
      "dtype: int64\n"
     ]
    }
   ],
   "source": [
    "print(df.isna().sum())"
   ]
  },
  {
>>>>>>> upstream/master
   "cell_type": "markdown",
   "metadata": {},
   "source": [
    "- 네이버에서 근처에 학교가 없을 경우, 학교가 없다고 인식하여 결측치가 발생합니다. 이를 0으로 대체하겠습니다.\n",
    "- 거래 기록이 아예 없는 데이터는 단위 가격이 존재하지 않습니다. 이를 0으로 대체하겠습니다."
   ]
  },
  {
   "cell_type": "code",
   "execution_count": 9,
   "metadata": {
    "ExecuteTime": {
     "end_time": "2020-06-03T15:06:21.984967Z",
     "start_time": "2020-06-03T15:06:21.980966Z"
    }
   },
   "outputs": [],
   "source": [
    "df['school_students'] = df['school_students'].fillna(0)\n",
    "df['unit_price'] = df['unit_price'].fillna(0)"
   ]
  },
  {
   "cell_type": "markdown",
   "metadata": {},
   "source": [
    "### 정규화\n",
    "- MinMaxScaler로 정규화합니다."
   ]
  },
  {
   "cell_type": "code",
   "execution_count": 10,
   "metadata": {
    "ExecuteTime": {
     "end_time": "2020-06-03T15:06:21.989969Z",
     "start_time": "2020-06-03T15:06:21.985967Z"
    }
   },
   "outputs": [],
   "source": [
    "def minmax_scaler_save(data, variable):\n",
    "    scaler = MinMaxScaler()\n",
    "    scaler.fit(data[variable].values.reshape(-1,1))\n",
    "    joblib.dump(scaler, f'./model/{variable}_scaler.pkl')\n",
    "\n",
    "def scaling(data, variable):\n",
    "    scaler = joblib.load(f'./model/{variable}_scaler.pkl')\n",
    "    output = scaler.transform(data[variable].values.reshape(-1,1))\n",
    "    return output\n",
    "\n",
    "def inverse_scaling(data, variable):\n",
    "    scaler = joblib.load(f'./model/{variable}_scaler.pkl')\n",
    "    output = scaler.inverse_transform(data[variable].values.reshape(-1,1))\n",
    "    return output "
   ]
  },
  {
   "cell_type": "code",
   "execution_count": 11,
   "metadata": {
    "ExecuteTime": {
     "end_time": "2020-06-03T15:06:22.005971Z",
     "start_time": "2020-06-03T15:06:21.990967Z"
    }
   },
   "outputs": [],
   "source": [
    "numericals = [\n",
    "    'school_students',\n",
    "    'st_dist',\n",
    "    'apartment_parking',\n",
    "    'unit_price'\n",
    "    ]\n",
    "\n",
    "for variable in numericals:\n",
    "    minmax_scaler_save(df, variable)\n",
    "    df[variable] = scaling(df, variable)"
   ]
  },
  {
   "cell_type": "markdown",
   "metadata": {},
   "source": [
    "## 범주형 자료"
   ]
  },
  {
   "cell_type": "code",
   "execution_count": 12,
   "metadata": {
    "ExecuteTime": {
     "end_time": "2020-06-03T15:06:22.008973Z",
     "start_time": "2020-06-03T15:06:22.006972Z"
    }
   },
   "outputs": [],
   "source": [
    "labels = [\n",
    "    'school_name',\n",
    "    'apartment_addr_town',\n",
    "    'st_name'\n",
    "    ]\n",
    "\n",
    "categoricals = [\n",
    "    'district_id',\n",
    "    'apartment_build_year',\n",
    "    'school_name',\n",
    "    'apartment_addr_town',\n",
    "    'st_name'\n",
    "    ]"
   ]
  },
  {
   "cell_type": "code",
   "execution_count": 13,
   "metadata": {
    "ExecuteTime": {
     "end_time": "2020-06-03T15:06:22.015973Z",
     "start_time": "2020-06-03T15:06:22.009973Z"
    }
   },
   "outputs": [],
   "source": [
    "def label_encoder_save(data, var_name):\n",
    "    encoder = LabelEncoder()\n",
    "    encoder.fit(data[var_name])\n",
    "    joblib.dump(encoder, f'./model/{var_name}_encoder.pkl')\n",
    "\n",
    "def label_encoding(data, variable):\n",
    "    encoder = joblib.load(f'./model/{variable}_encoder.pkl')\n",
    "    output = encoder.transform(data[variable])\n",
    "    return output\n",
    "\n",
    "def label_decoding(data, variable):\n",
    "    encoder = joblib.load(f'./model/{variable}_encoder.pkl')\n",
    "    output = encoder.inverse_transform(data[variable])\n",
    "    return output"
   ]
  },
  {
   "cell_type": "code",
   "execution_count": 14,
   "metadata": {
    "ExecuteTime": {
     "end_time": "2020-06-03T15:06:22.032978Z",
     "start_time": "2020-06-03T15:06:22.016974Z"
    }
   },
   "outputs": [],
   "source": [
    "for variable in labels:\n",
    "    label_encoder_save(df, variable)\n",
    "    df[variable] = label_encoding(df, variable)"
   ]
  },
  {
   "cell_type": "markdown",
   "metadata": {},
   "source": [
    "# Modeling "
   ]
  },
  {
   "cell_type": "markdown",
   "metadata": {},
   "source": [
    "## K-Prototypes Clustering"
   ]
  },
  {
   "cell_type": "code",
   "execution_count": 15,
   "metadata": {
    "ExecuteTime": {
     "end_time": "2020-06-03T15:06:22.038979Z",
     "start_time": "2020-06-03T15:06:22.033978Z"
    }
   },
   "outputs": [
    {
     "name": "stdout",
     "output_type": "stream",
     "text": [
      "5\n"
     ]
    }
   ],
   "source": [
    "train = df[categoricals + numericals].copy()\n",
    "print(len(categoricals))"
   ]
  },
  {
   "cell_type": "code",
   "execution_count": 16,
   "metadata": {
    "ExecuteTime": {
     "end_time": "2020-06-03T15:06:22.046980Z",
     "start_time": "2020-06-03T15:06:22.039979Z"
    }
   },
   "outputs": [
    {
     "name": "stdout",
     "output_type": "stream",
     "text": [
      "<class 'pandas.core.frame.DataFrame'>\n",
      "Int64Index: 8016 entries, 0 to 8015\n",
      "Data columns (total 9 columns):\n",
      " #   Column                Non-Null Count  Dtype  \n",
      "---  ------                --------------  -----  \n",
      " 0   district_id           8016 non-null   int64  \n",
      " 1   apartment_build_year  8016 non-null   int64  \n",
      " 2   school_name           8016 non-null   int32  \n",
      " 3   apartment_addr_town   8016 non-null   int32  \n",
      " 4   st_name               8016 non-null   int32  \n",
      " 5   school_students       8016 non-null   float64\n",
      " 6   st_dist               8016 non-null   float64\n",
      " 7   apartment_parking     8016 non-null   float64\n",
      " 8   unit_price            8016 non-null   float64\n",
      "dtypes: float64(4), int32(3), int64(2)\n",
      "memory usage: 532.3 KB\n"
     ]
    }
   ],
   "source": [
    "train.info()"
   ]
  },
  {
   "cell_type": "code",
   "execution_count": 17,
   "metadata": {
    "ExecuteTime": {
     "end_time": "2020-06-03T15:11:28.499063Z",
     "start_time": "2020-06-03T15:06:22.047981Z"
    }
   },
   "outputs": [
    {
     "name": "stderr",
     "output_type": "stream",
     "text": [
      "100%|██████████████████████████████████████████████████████████████████████████████████| 19/19 [05:06<00:00, 16.13s/it]\n"
     ]
    }
   ],
   "source": [
    "pseudo_k = range(1,20)\n",
    "cost = []\n",
    "for i in tqdm(pseudo_k):\n",
    "    kproto = KPrototypes(n_clusters=i, verbose=0, init='Cao', random_state=0, n_jobs=-1)\n",
    "    kproto.fit_predict(train, categorical=list(range(len(categoricals))))\n",
    "    cost.append(kproto.cost_)\n",
    "cost_table = pd.DataFrame({'k':pseudo_k, 'cost':cost})"
   ]
  },
  {
   "cell_type": "code",
   "execution_count": 18,
   "metadata": {
    "ExecuteTime": {
     "end_time": "2020-06-03T15:11:28.635086Z",
     "start_time": "2020-06-03T15:11:28.500063Z"
    }
   },
   "outputs": [
    {
     "data": {
      "image/png": "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\n",
      "text/plain": [
       "<Figure size 432x288 with 1 Axes>"
      ]
     },
     "metadata": {
      "needs_background": "light"
     },
     "output_type": "display_data"
    }
   ],
   "source": [
    "def cost_visualize(data, x, y):\n",
    "    sns.pointplot(data=data, x=x, y=y)\n",
    "    plt.title('Cost Visualization')\n",
    "    plt.show()\n",
    "cost_visualize(cost_table, 'k', 'cost')"
   ]
  },
  {
   "cell_type": "markdown",
   "metadata": {},
   "source": [
    "- 적당한 k를 찾기 위해 Elbow Method를 사용합니다. Cost가 줄어드는 비율이 확연하게 줄어드는 지점이 유의미한 k라고 가정합니다. 위의 Cost 시각화 그래프에서 기울기의 변동 비율이 0.1 이하로 떨어지며 클러스터 수가 작은 값을 적당한 k라고 정의하겠습니다."
   ]
  },
  {
   "cell_type": "code",
   "execution_count": 19,
   "metadata": {
    "ExecuteTime": {
     "end_time": "2020-06-03T15:11:28.642087Z",
     "start_time": "2020-06-03T15:11:28.636086Z"
    }
   },
   "outputs": [
    {
     "name": "stdout",
     "output_type": "stream",
     "text": [
      "가장 적당한 k는 4입니다.\n"
     ]
    }
   ],
   "source": [
    "cost_table['coef'] = abs(cost_table['cost'] - cost_table['cost'].shift(1))\n",
    "cost_table['ratio'] =  abs((cost_table['coef'].shift(1) - cost_table['coef'])/cost_table['coef'])\n",
    "optimal_k = cost_table.loc[cost_table['ratio'] <= 0.1]['k'].min()\n",
    "print(f'가장 적당한 k는 {optimal_k}입니다.')"
   ]
  },
  {
   "cell_type": "code",
   "execution_count": 20,
   "metadata": {
    "ExecuteTime": {
     "end_time": "2020-06-03T15:11:38.288269Z",
     "start_time": "2020-06-03T15:11:28.643087Z"
    }
   },
   "outputs": [],
   "source": [
    "kproto = KPrototypes(n_clusters=optimal_k, verbose=0, random_state=0, n_jobs=-1)\n",
    "train['cluster'] = kproto.fit_predict(train, categorical=list(range(len(categoricals))))"
   ]
  },
  {
   "cell_type": "markdown",
   "metadata": {},
   "source": [
    "## Saving as Pickle"
   ]
  },
  {
   "cell_type": "code",
   "execution_count": 21,
   "metadata": {
    "ExecuteTime": {
     "end_time": "2020-06-03T15:11:38.296264Z",
     "start_time": "2020-06-03T15:11:38.289270Z"
    }
   },
   "outputs": [],
   "source": [
    "train['apartment_id'] = df['apartment_id']\n",
    "output = train[['apartment_id','cluster']].sort_values('apartment_id').reset_index(drop=True)\n",
    "output.to_pickle('./data/clustered_apartment.pkl')"
   ]
  }
 ],
 "metadata": {
  "kernelspec": {
   "display_name": "Python 3",
   "language": "python",
   "name": "python3"
  },
  "language_info": {
   "codemirror_mode": {
    "name": "ipython",
    "version": 3
   },
   "file_extension": ".py",
   "mimetype": "text/x-python",
   "name": "python",
   "nbconvert_exporter": "python",
   "pygments_lexer": "ipython3",
   "version": "3.7.4"
  },
  "toc": {
   "base_numbering": 1,
   "nav_menu": {},
   "number_sections": true,
   "sideBar": true,
   "skip_h1_title": false,
   "title_cell": "Table of Contents",
   "title_sidebar": "Contents",
   "toc_cell": false,
   "toc_position": {
    "height": "calc(100% - 180px)",
    "left": "10px",
    "top": "150px",
    "width": "165px"
   },
   "toc_section_display": true,
   "toc_window_display": true
  },
  "varInspector": {
   "cols": {
    "lenName": 16,
    "lenType": 16,
    "lenVar": 40
   },
   "kernels_config": {
    "python": {
     "delete_cmd_postfix": "",
     "delete_cmd_prefix": "del ",
     "library": "var_list.py",
     "varRefreshCmd": "print(var_dic_list())"
    },
    "r": {
     "delete_cmd_postfix": ") ",
     "delete_cmd_prefix": "rm(",
     "library": "var_list.r",
     "varRefreshCmd": "cat(var_dic_list()) "
    }
   },
   "position": {
    "height": "348px",
    "left": "1550px",
    "right": "20px",
    "top": "120px",
    "width": "350px"
   },
   "types_to_exclude": [
    "module",
    "function",
    "builtin_function_or_method",
    "instance",
    "_Feature"
   ],
   "window_display": false
  }
 },
 "nbformat": 4,
 "nbformat_minor": 2
}
