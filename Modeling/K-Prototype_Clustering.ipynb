{
 "cells": [
  {
   "cell_type": "markdown",
   "metadata": {},
   "source": [
    "# 라이브러리"
   ]
  },
  {
   "cell_type": "code",
   "execution_count": 1,
   "metadata": {
    "ExecuteTime": {
     "end_time": "2020-06-03T15:06:18.914259Z",
     "start_time": "2020-06-03T15:06:16.949817Z"
    }
   },
   "outputs": [],
   "source": [
    "import psycopg2\n",
    "import pandas as pd\n",
    "import numpy as np\n",
    "import json\n",
    "import datetime\n",
    "import re\n",
    "\n",
    "import joblib\n",
    "from tqdm import tqdm\n",
    "from sklearn.preprocessing import StandardScaler\n",
    "from sklearn.preprocessing import LabelEncoder\n",
    "from kmodes.kprototypes import KPrototypes\n",
    "\n",
    "import matplotlib.pyplot as plt\n",
    "import seaborn as sns\n",
    "from matplotlib import font_manager, rc\n",
    "import platform\n",
    "\n",
    "if platform.system() == 'Windows':\n",
    "    font_name = font_manager.FontProperties(fname=\"c:/Windows/Fonts/malgun.ttf\").get_name()\n",
    "    rc('font', family=font_name)\n",
    "else:\n",
    "    rc('font', family='AppleGothic')"
   ]
  },
  {
   "cell_type": "markdown",
   "metadata": {},
   "source": [
    "# 데이터 불러오기"
   ]
  },
  {
   "cell_type": "code",
   "execution_count": 2,
   "metadata": {
    "ExecuteTime": {
     "end_time": "2020-06-03T15:06:18.919261Z",
     "start_time": "2020-06-03T15:06:18.915260Z"
    }
   },
   "outputs": [],
   "source": [
    "def call_df(table_name):\n",
    "    with open('config.json', 'r') as f:\n",
    "        config = json.load(f)\n",
    "        \n",
    "    conn = psycopg2.connect(user = config['USER'],\n",
    "                              password = config['PASSWORD'],\n",
    "                              host = config['HOST'],\n",
    "                              port = config['PORT'],\n",
    "                              database = config['DATABASE'])\n",
    "    \n",
    "    sql = f'SELECT * FROM {table_name}'\n",
    "    df = pd.read_sql_query(sql, conn)\n",
    "    conn.close()\n",
    "    return df"
   ]
  },
  {
   "cell_type": "code",
   "execution_count": 3,
   "metadata": {
    "ExecuteTime": {
     "end_time": "2020-06-03T15:06:21.189796Z",
     "start_time": "2020-06-03T15:06:18.920262Z"
    }
   },
   "outputs": [],
   "source": [
    "district = call_df('crawling_db.district_table')\n",
    "apartment = call_df('crawling_db.apartment_table').drop(columns='table_id')\n",
    "school = call_df('crawling_db.school_table').drop(columns='table_id')\n",
    "subway = call_df('crawling_db.subway_table').drop(columns='table_id')\n",
    "price = call_df('crawling_db.price_table')"
   ]
  },
  {
   "cell_type": "code",
   "execution_count": 4,
   "metadata": {
    "ExecuteTime": {
     "end_time": "2020-06-03T15:06:21.208792Z",
     "start_time": "2020-06-03T15:06:21.190796Z"
    }
   },
   "outputs": [],
   "source": [
    "df = (apartment.\n",
    "      merge(district, how='left', on='district_id').\n",
    "      merge(school, how='left', on='apartment_id').\n",
    "      merge(subway, how='left',on='apartment_id'))"
   ]
  },
  {
   "cell_type": "markdown",
   "metadata": {},
   "source": [
    "# 데이터 전처리"
   ]
  },
  {
   "cell_type": "markdown",
   "metadata": {},
   "source": [
    "## 변수 생성"
   ]
  },
  {
   "cell_type": "markdown",
   "metadata": {},
   "source": [
    "### 단위 면적당 최고가(원/$m^2$)\n",
    "- 단위 면적당 최고가 변수를 클러스터링에 사용합니다. 집단 내 가격의 분산을 줄여주기 위한 변수입니다."
   ]
  },
  {
   "cell_type": "code",
   "execution_count": 5,
   "metadata": {
    "ExecuteTime": {
     "end_time": "2020-06-03T15:06:21.932955Z",
     "start_time": "2020-06-03T15:06:21.209792Z"
    }
   },
   "outputs": [],
   "source": [
    "# area(면적) 변수 전처리\n",
    "price['area'] = price['area'].apply(lambda x: int(re.split('\\D',x)[0]))\n",
    "\n",
    "# unit_price(단위 가격) 변수 생성\n",
    "price['unit_price'] = round(price['amount']/price['area'])\n",
    "\n",
    "# 아파트 ID별 최고가 변수 추출 \n",
    "max_price = price.groupby('apartment_id')['unit_price'].max()"
   ]
  },
  {
   "cell_type": "markdown",
   "metadata": {
    "ExecuteTime": {
     "end_time": "2020-06-02T15:11:49.486951Z",
     "start_time": "2020-06-02T15:11:49.483950Z"
    }
   },
   "source": [
    "## 데이터 병합"
   ]
  },
  {
   "cell_type": "code",
   "execution_count": 6,
   "metadata": {
    "ExecuteTime": {
     "end_time": "2020-06-03T15:06:21.959960Z",
     "start_time": "2020-06-03T15:06:21.933955Z"
    }
   },
   "outputs": [],
   "source": [
    "df = (apartment.\n",
    "      merge(district, how='left', on='district_id').\n",
    "      merge(school, how='left', on='apartment_id').\n",
    "      merge(subway, how='left', on='apartment_id').\n",
    "      merge(max_price, how='left', on='apartment_id'))"
   ]
  },
  {
   "cell_type": "markdown",
   "metadata": {},
   "source": [
    "## 숫자형 자료"
   ]
  },
  {
   "cell_type": "code",
   "execution_count": 7,
   "metadata": {
    "ExecuteTime": {
     "end_time": "2020-06-03T15:06:21.966963Z",
     "start_time": "2020-06-03T15:06:21.960961Z"
    }
   },
   "outputs": [],
   "source": [
    "df['school_students'] = pd.to_numeric(df['school_students'])"
   ]
  },
  {
   "cell_type": "code",
   "execution_count": 8,
   "metadata": {
    "ExecuteTime": {
     "end_time": "2020-06-03T15:06:21.979966Z",
     "start_time": "2020-06-03T15:06:21.967962Z"
    }
   },
   "outputs": [
    {
     "name": "stdout",
     "output_type": "stream",
     "text": [
      "district_id                 0\n",
      "apartment_id                0\n",
      "apartment_addr_town         0\n",
      "apartment_builder           0\n",
      "apartment_build_year        0\n",
      "apartment_build_month       0\n",
      "apartment_floor_min         0\n",
      "apartment_floor_max         0\n",
      "apartment_parking           0\n",
      "apartment_name              0\n",
      "district_name               0\n",
      "school_name                 0\n",
      "school_dist                 0\n",
      "school_addr_district        0\n",
      "school_addr_town            0\n",
      "school_students           840\n",
      "st_name                     0\n",
      "st_dist                     0\n",
      "st_volume                   0\n",
      "unit_price               2333\n",
      "dtype: int64\n"
     ]
    }
   ],
   "source": [
    "print(df.isna().sum())"
   ]
  },
  {
   "cell_type": "markdown",
   "metadata": {},
   "source": [
    "- 네이버에서 근처에 학교가 없을 경우, 학교가 없다고 인식하여 결측치가 발생합니다. 이를 0으로 대체하겠습니다.\n",
    "- 거래 기록이 아예 없는 데이터는 단위 가격이 존재하지 않습니다. 이를 0으로 대체하겠습니다."
   ]
  },
  {
   "cell_type": "code",
   "execution_count": 9,
   "metadata": {
    "ExecuteTime": {
     "end_time": "2020-06-03T15:06:21.984967Z",
     "start_time": "2020-06-03T15:06:21.980966Z"
    }
   },
   "outputs": [],
   "source": [
    "df['school_students'] = df['school_students'].fillna(0)\n",
    "df['unit_price'] = df['unit_price'].fillna(0)"
   ]
  },
  {
   "cell_type": "markdown",
   "metadata": {},
   "source": [
    "### 정규화\n",
    "- StandardScaler로 정규화합니다."
   ]
  },
  {
   "cell_type": "code",
   "execution_count": 10,
   "metadata": {
    "ExecuteTime": {
     "end_time": "2020-06-03T15:06:21.989969Z",
     "start_time": "2020-06-03T15:06:21.985967Z"
    }
   },
   "outputs": [],
   "source": [
    "def standard_scaler_save(data, variable):\n",
    "    scaler = StandardScaler()\n",
    "    scaler.fit(data[variable].values.reshape(-1,1))\n",
    "    joblib.dump(scaler, f'./model/{variable}_scaler.pkl')\n",
    "\n",
    "def scaling(data, variable):\n",
    "    scaler = joblib.load(f'./model/{variable}_scaler.pkl')\n",
    "    output = scaler.transform(data[variable].values.reshape(-1,1))\n",
    "    return output\n",
    "\n",
    "def inverse_scaling(data, variable):\n",
    "    scaler = joblib.load(f'./model/{variable}_scaler.pkl')\n",
    "    output = scaler.inverse_transform(data[variable].values.reshape(-1,1))\n",
    "    return output "
   ]
  },
  {
   "cell_type": "code",
   "execution_count": 11,
   "metadata": {
    "ExecuteTime": {
     "end_time": "2020-06-03T15:06:22.005971Z",
     "start_time": "2020-06-03T15:06:21.990967Z"
    }
   },
   "outputs": [],
   "source": [
    "numericals = [\n",
    "    'school_students',\n",
    "    'st_dist',\n",
    "    'apartment_parking',\n",
    "    'unit_price'\n",
    "    ]\n",
    "\n",
    "for variable in numericals:\n",
    "    standard_scaler_save(df, variable)\n",
    "    df[variable] = scaling(df, variable)"
   ]
  },
  {
   "cell_type": "markdown",
   "metadata": {},
   "source": [
    "## 범주형 자료"
   ]
  },
  {
   "cell_type": "code",
   "execution_count": 12,
   "metadata": {
    "ExecuteTime": {
     "end_time": "2020-06-03T15:06:22.008973Z",
     "start_time": "2020-06-03T15:06:22.006972Z"
    }
   },
   "outputs": [],
   "source": [
    "labels = [\n",
    "    'school_name',\n",
    "    'apartment_addr_town',\n",
    "    'st_name'\n",
    "    ]\n",
    "\n",
    "categoricals = [\n",
    "    'district_id',\n",
    "    'apartment_build_year',\n",
    "    'school_name',\n",
    "    'apartment_addr_town',\n",
    "    'st_name'\n",
    "    ]"
   ]
  },
  {
   "cell_type": "code",
   "execution_count": 13,
   "metadata": {
    "ExecuteTime": {
     "end_time": "2020-06-03T15:06:22.015973Z",
     "start_time": "2020-06-03T15:06:22.009973Z"
    }
   },
   "outputs": [],
   "source": [
    "def label_encoder_save(data, var_name):\n",
    "    encoder = LabelEncoder()\n",
    "    encoder.fit(data[var_name])\n",
    "    joblib.dump(encoder, f'./model/{var_name}_encoder.pkl')\n",
    "\n",
    "def label_encoding(data, variable):\n",
    "    encoder = joblib.load(f'./model/{variable}_encoder.pkl')\n",
    "    output = encoder.transform(data[variable])\n",
    "    return output\n",
    "\n",
    "def label_decoding(data, variable):\n",
    "    encoder = joblib.load(f'./model/{variable}_encoder.pkl')\n",
    "    output = encoder.inverse_transform(data[variable])\n",
    "    return output"
   ]
  },
  {
   "cell_type": "code",
   "execution_count": 14,
   "metadata": {
    "ExecuteTime": {
     "end_time": "2020-06-03T15:06:22.032978Z",
     "start_time": "2020-06-03T15:06:22.016974Z"
    }
   },
   "outputs": [],
   "source": [
    "for variable in labels:\n",
    "    label_encoder_save(df, variable)\n",
    "    df[variable] = label_encoding(df, variable)"
   ]
  },
  {
   "cell_type": "markdown",
   "metadata": {},
   "source": [
    "# Modeling "
   ]
  },
  {
   "cell_type": "markdown",
   "metadata": {},
   "source": [
    "## K-Prototypes Clustering"
   ]
  },
  {
   "cell_type": "code",
   "execution_count": 15,
   "metadata": {
    "ExecuteTime": {
     "end_time": "2020-06-03T15:06:22.038979Z",
     "start_time": "2020-06-03T15:06:22.033978Z"
    }
   },
   "outputs": [
    {
     "name": "stdout",
     "output_type": "stream",
     "text": [
      "5\n"
     ]
    }
   ],
   "source": [
    "train = df[categoricals + numericals].copy()\n",
    "print(len(categoricals))"
   ]
  },
  {
   "cell_type": "code",
   "execution_count": 16,
   "metadata": {
    "ExecuteTime": {
     "end_time": "2020-06-03T15:06:22.046980Z",
     "start_time": "2020-06-03T15:06:22.039979Z"
    }
   },
   "outputs": [
    {
     "name": "stdout",
     "output_type": "stream",
     "text": [
      "<class 'pandas.core.frame.DataFrame'>\n",
      "Int64Index: 8016 entries, 0 to 8015\n",
      "Data columns (total 9 columns):\n",
      " #   Column                Non-Null Count  Dtype  \n",
      "---  ------                --------------  -----  \n",
      " 0   district_id           8016 non-null   int64  \n",
      " 1   apartment_build_year  8016 non-null   int64  \n",
      " 2   school_name           8016 non-null   int32  \n",
      " 3   apartment_addr_town   8016 non-null   int32  \n",
      " 4   st_name               8016 non-null   int32  \n",
      " 5   school_students       8016 non-null   float64\n",
      " 6   st_dist               8016 non-null   float64\n",
      " 7   apartment_parking     8016 non-null   float64\n",
      " 8   unit_price            8016 non-null   float64\n",
      "dtypes: float64(4), int32(3), int64(2)\n",
      "memory usage: 532.3 KB\n"
     ]
    }
   ],
   "source": [
    "train.info()"
   ]
  },
  {
   "cell_type": "code",
   "execution_count": 17,
   "metadata": {
    "ExecuteTime": {
     "end_time": "2020-06-03T15:11:28.499063Z",
     "start_time": "2020-06-03T15:06:22.047981Z"
    }
   },
   "outputs": [
    {
     "name": "stderr",
     "output_type": "stream",
     "text": [
      "100%|██████████████████████████████████████████████████████████████████████████████████| 20/20 [08:56<00:00, 26.82s/it]\n"
     ]
    }
   ],
   "source": [
    "pseudo_k = range(1,21)\n",
    "cost = []\n",
    "for i in tqdm(pseudo_k):\n",
    "    kproto = KPrototypes(n_clusters=i, verbose=0, init='Cao', random_state=0, n_jobs=-1)\n",
    "    kproto.fit_predict(train, categorical=list(range(len(categoricals))))\n",
    "    cost.append(kproto.cost_)\n",
    "cost_table = pd.DataFrame({'k':pseudo_k, 'cost':cost})"
   ]
  },
  {
   "cell_type": "code",
   "execution_count": 18,
   "metadata": {
    "ExecuteTime": {
     "end_time": "2020-06-03T15:11:28.635086Z",
     "start_time": "2020-06-03T15:11:28.500063Z"
    }
   },
   "outputs": [
    {
     "data": {
      "image/png": "[encoded data removed]",
      "text/plain": [
       "<Figure size 432x288 with 1 Axes>"
      ]
     },
     "metadata": {
      "needs_background": "light"
     },
     "output_type": "display_data"
    }
   ],
   "source": [
    "def cost_visualize(data, x, y):\n",
    "    sns.pointplot(data=data, x=x, y=y)\n",
    "    plt.title('Cost Visualization')\n",
    "    plt.show()\n",
    "cost_visualize(cost_table, 'k', 'cost')"
   ]
  },
  {
   "cell_type": "markdown",
   "metadata": {},
   "source": [
    "- 적당한 k를 찾기 위해 Elbow Method를 사용합니다. Cost가 줄어드는 비율이 확연하게 줄어드는 지점이 유의미한 k라고 가정합니다. 위의 Cost 시각화 그래프에서 기울기의 변동 비율이 0.1 이하로 떨어지며 클러스터 수가 작은 값을 적당한 k라고 정의하겠습니다."
   ]
  },
  {
   "cell_type": "code",
   "execution_count": 19,
   "metadata": {
    "ExecuteTime": {
     "end_time": "2020-06-03T15:11:28.642087Z",
     "start_time": "2020-06-03T15:11:28.636086Z"
    }
   },
   "outputs": [
    {
     "name": "stdout",
     "output_type": "stream",
     "text": [
      "가장 적당한 k는 11입니다.\n"
     ]
    }
   ],
   "source": [
    "cost_table['coef'] = abs(cost_table['cost'] - cost_table['cost'].shift(1))\n",
    "cost_table['ratio'] =  abs((cost_table['coef'].shift(1) - cost_table['coef'])/cost_table['coef'])\n",
    "optimal_k = cost_table.loc[cost_table['ratio'] <= 0.1]['k'].min()\n",
    "print(f'가장 적당한 k는 {optimal_k}입니다.')"
   ]
  },
  {
   "cell_type": "code",
   "execution_count": 20,
   "metadata": {
    "ExecuteTime": {
     "end_time": "2020-06-03T15:11:38.288269Z",
     "start_time": "2020-06-03T15:11:28.643087Z"
    }
   },
   "outputs": [],
   "source": [
    "kproto = KPrototypes(n_clusters=optimal_k, verbose=0, random_state=0, n_jobs=-1)\n",
    "train['cluster'] = kproto.fit_predict(train, categorical=list(range(len(categoricals))))"
   ]
  },
  {
   "cell_type": "markdown",
   "metadata": {},
   "source": [
    "## Saving as Pickle"
   ]
  },
  {
   "cell_type": "code",
   "execution_count": 21,
   "metadata": {
    "ExecuteTime": {
     "end_time": "2020-06-03T15:11:38.296264Z",
     "start_time": "2020-06-03T15:11:38.289270Z"
    }
   },
   "outputs": [],
   "source": [
    "train['apartment_id'] = df['apartment_id']\n",
    "output = train[['apartment_id','cluster']].sort_values('apartment_id').reset_index(drop=True)\n",
    "output.to_pickle('./data/clustered_apartment.pkl')"
   ]
  }
 ],
 "metadata": {
  "kernelspec": {
   "display_name": "Python 3",
   "language": "python",
   "name": "python3"
  },
  "language_info": {
   "codemirror_mode": {
    "name": "ipython",
    "version": 3
   },
   "file_extension": ".py",
   "mimetype": "text/x-python",
   "name": "python",
   "nbconvert_exporter": "python",
   "pygments_lexer": "ipython3",
   "version": "3.7.6"
  },
  "toc": {
   "base_numbering": 1,
   "nav_menu": {},
   "number_sections": true,
   "sideBar": true,
   "skip_h1_title": false,
   "title_cell": "Table of Contents",
   "title_sidebar": "Contents",
   "toc_cell": false,
   "toc_position": {
    "height": "calc(100% - 180px)",
    "left": "10px",
    "top": "150px",
    "width": "165px"
   },
   "toc_section_display": true,
   "toc_window_display": true
  },
  "varInspector": {
   "cols": {
    "lenName": 16,
    "lenType": 16,
    "lenVar": 40
   },
   "kernels_config": {
    "python": {
     "delete_cmd_postfix": "",
     "delete_cmd_prefix": "del ",
     "library": "var_list.py",
     "varRefreshCmd": "print(var_dic_list())"
    },
    "r": {
     "delete_cmd_postfix": ") ",
     "delete_cmd_prefix": "rm(",
     "library": "var_list.r",
     "varRefreshCmd": "cat(var_dic_list()) "
    }
   },
   "position": {
    "height": "348px",
    "left": "1550px",
    "right": "20px",
    "top": "120px",
    "width": "350px"
   },
   "types_to_exclude": [
    "module",
    "function",
    "builtin_function_or_method",
    "instance",
    "_Feature"
   ],
   "window_display": false
  }
 },
 "nbformat": 4,
 "nbformat_minor": 2
}
