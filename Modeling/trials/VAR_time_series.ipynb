{
 "cells": [
  {
   "cell_type": "code",
   "execution_count": 1,
   "metadata": {},
   "outputs": [],
   "source": [
    "import psycopg2\n",
    "import pandas as pd\n",
    "import numpy as np\n",
    "import matplotlib.pyplot as plt\n",
    "import seaborn as sns\n",
    "import json\n",
    "import datetime\n",
    "import re\n",
    "import warnings\n",
    "warnings.filterwarnings(\"ignore\")"
   ]
  },
  {
   "cell_type": "code",
   "execution_count": 7,
   "metadata": {},
   "outputs": [],
   "source": [
    "def call_df(table_name):\n",
    "    with open('config.json', 'r') as f:\n",
    "        config = json.load(f)\n",
    "        \n",
    "    conn = psycopg2.connect(user = config['USER'],\n",
    "                              password = config['PASSWORD'],\n",
    "                              host = config['HOST'],\n",
    "                              port = config['PORT'],\n",
    "                              database = config['DATABASE'])\n",
    "    \n",
    "    sql = f'SELECT * FROM {table_name}'\n",
    "    df = pd.read_sql_query(sql, conn)\n",
    "    conn.close()\n",
    "    return df"
   ]
  },
  {
   "cell_type": "code",
   "execution_count": 8,
   "metadata": {},
   "outputs": [],
   "source": [
    "district = call_df('crawling_db.district_table')\n",
    "apartment = call_df('crawling_db.apartment_table').drop(columns='table_id')\n",
    "school = call_df('crawling_db.school_table').drop(columns='table_id')\n",
    "subway = call_df('crawling_db.subway_table').drop(columns='table_id')\n",
    "price = call_df('crawling_db.price_table')"
   ]
  },
  {
   "cell_type": "code",
   "execution_count": 28,
   "metadata": {},
   "outputs": [],
   "source": [
    "df = (apartment.\n",
    "      merge(district, how='left', on='district_id').\n",
    "      merge(school, how='left', on='apartment_id').\n",
    "      merge(subway, how='left',on='apartment_id'))"
   ]
  },
  {
   "cell_type": "code",
   "execution_count": 29,
   "metadata": {},
   "outputs": [],
   "source": [
    "df['apartment_floor_min'] = pd.to_numeric(df['apartment_floor_min'])\n",
    "df['apartment_floor_max'] = pd.to_numeric(df['apartment_floor_max'])\n",
    "df['school_students'] = pd.to_numeric(df['school_students'])\n",
    "df['school_addr_town'] = df['school_addr_town'].apply(lambda x: re.split('\\d',x)[0])"
   ]
  },
  {
   "cell_type": "code",
   "execution_count": 30,
   "metadata": {},
   "outputs": [],
   "source": [
    "df = df[df['school_name']!=''].reset_index(drop=True).copy()"
   ]
  },
  {
   "cell_type": "code",
   "execution_count": 31,
   "metadata": {},
   "outputs": [],
   "source": [
    "from sklearn.preprocessing import StandardScaler\n",
    "def standard_scaler(data, var_name):\n",
    "    scaler = StandardScaler()\n",
    "    data[var_name] = scaler.fit_transform(data[var_name].values.reshape(-1,1))\n",
    "    return data"
   ]
  },
  {
   "cell_type": "code",
   "execution_count": 32,
   "metadata": {},
   "outputs": [],
   "source": [
    "var_num = ['apartment_floor_min',\n",
    "             'apartment_floor_max',\n",
    "             'apartment_parking',\n",
    "             'school_students',\n",
    "             'st_dist',\n",
    "             'st_volume']\n",
    "\n",
    "for var in var_num:\n",
    "    df = standard_scaler(df, var)"
   ]
  },
  {
   "cell_type": "code",
   "execution_count": 33,
   "metadata": {},
   "outputs": [],
   "source": [
    "var_cate = ['district_id',\n",
    "            'apartment_addr_town',\n",
    "            'apartment_builder',\n",
    "            'apartment_build_year',\n",
    "            'apartment_build_month',\n",
    "            'school_name',\n",
    "            'school_addr_district',\n",
    "            'school_addr_town',\n",
    "            'st_name']\n",
    "var_label = ['apartment_addr_town',\n",
    "             'apartment_builder',\n",
    "             'school_name',\n",
    "             'school_addr_district',\n",
    "             'school_addr_town',\n",
    "             'st_name']"
   ]
  },
  {
   "cell_type": "code",
   "execution_count": 34,
   "metadata": {},
   "outputs": [],
   "source": [
    "from sklearn.preprocessing import LabelEncoder\n",
    "def label_encoding(data, var_name):\n",
    "    encoder = LabelEncoder()\n",
    "    data[var_name] = encoder.fit_transform(data[var_name])\n",
    "    return data"
   ]
  },
  {
   "cell_type": "code",
   "execution_count": 35,
   "metadata": {},
   "outputs": [],
   "source": [
    "for var in var_label:\n",
    "    df = label_encoding(df, var)"
   ]
  },
  {
   "cell_type": "code",
   "execution_count": 37,
   "metadata": {},
   "outputs": [
    {
     "name": "stdout",
     "output_type": "stream",
     "text": [
      "9\n"
     ]
    }
   ],
   "source": [
    "train = df[var_cate + var_num]\n",
    "print(len(var_cate))"
   ]
  },
  {
   "cell_type": "code",
   "execution_count": 38,
   "metadata": {},
   "outputs": [
    {
     "data": {
      "text/html": [
       "<div>\n",
       "<style scoped>\n",
       "    .dataframe tbody tr th:only-of-type {\n",
       "        vertical-align: middle;\n",
       "    }\n",
       "\n",
       "    .dataframe tbody tr th {\n",
       "        vertical-align: top;\n",
       "    }\n",
       "\n",
       "    .dataframe thead th {\n",
       "        text-align: right;\n",
       "    }\n",
       "</style>\n",
       "<table border=\"1\" class=\"dataframe\">\n",
       "  <thead>\n",
       "    <tr style=\"text-align: right;\">\n",
       "      <th></th>\n",
       "      <th>district_id</th>\n",
       "      <th>apartment_addr_town</th>\n",
       "      <th>apartment_builder</th>\n",
       "      <th>apartment_build_year</th>\n",
       "      <th>apartment_build_month</th>\n",
       "      <th>school_name</th>\n",
       "      <th>school_addr_district</th>\n",
       "      <th>school_addr_town</th>\n",
       "      <th>st_name</th>\n",
       "      <th>apartment_floor_min</th>\n",
       "      <th>apartment_floor_max</th>\n",
       "      <th>apartment_parking</th>\n",
       "      <th>school_students</th>\n",
       "      <th>st_dist</th>\n",
       "      <th>st_volume</th>\n",
       "    </tr>\n",
       "  </thead>\n",
       "  <tbody>\n",
       "    <tr>\n",
       "      <td>0</td>\n",
       "      <td>13</td>\n",
       "      <td>142</td>\n",
       "      <td>1571</td>\n",
       "      <td>2004</td>\n",
       "      <td>12</td>\n",
       "      <td>234</td>\n",
       "      <td>12</td>\n",
       "      <td>67</td>\n",
       "      <td>135</td>\n",
       "      <td>0.140933</td>\n",
       "      <td>1.863569</td>\n",
       "      <td>0.331306</td>\n",
       "      <td>0.578211</td>\n",
       "      <td>-1.047446</td>\n",
       "      <td>-0.477447</td>\n",
       "    </tr>\n",
       "    <tr>\n",
       "      <td>1</td>\n",
       "      <td>1</td>\n",
       "      <td>8</td>\n",
       "      <td>1798</td>\n",
       "      <td>2020</td>\n",
       "      <td>9</td>\n",
       "      <td>55</td>\n",
       "      <td>0</td>\n",
       "      <td>9</td>\n",
       "      <td>95</td>\n",
       "      <td>-0.443879</td>\n",
       "      <td>3.319099</td>\n",
       "      <td>0.875301</td>\n",
       "      <td>-0.788767</td>\n",
       "      <td>0.908914</td>\n",
       "      <td>-0.477447</td>\n",
       "    </tr>\n",
       "    <tr>\n",
       "      <td>2</td>\n",
       "      <td>1</td>\n",
       "      <td>8</td>\n",
       "      <td>1886</td>\n",
       "      <td>2003</td>\n",
       "      <td>3</td>\n",
       "      <td>26</td>\n",
       "      <td>0</td>\n",
       "      <td>9</td>\n",
       "      <td>32</td>\n",
       "      <td>0.140933</td>\n",
       "      <td>-0.319726</td>\n",
       "      <td>1.698646</td>\n",
       "      <td>0.118170</td>\n",
       "      <td>-0.819653</td>\n",
       "      <td>-0.477447</td>\n",
       "    </tr>\n",
       "    <tr>\n",
       "      <td>3</td>\n",
       "      <td>1</td>\n",
       "      <td>8</td>\n",
       "      <td>1418</td>\n",
       "      <td>1982</td>\n",
       "      <td>11</td>\n",
       "      <td>25</td>\n",
       "      <td>0</td>\n",
       "      <td>145</td>\n",
       "      <td>32</td>\n",
       "      <td>-0.833754</td>\n",
       "      <td>-1.047491</td>\n",
       "      <td>-0.918413</td>\n",
       "      <td>-1.737766</td>\n",
       "      <td>0.529064</td>\n",
       "      <td>-0.477447</td>\n",
       "    </tr>\n",
       "    <tr>\n",
       "      <td>4</td>\n",
       "      <td>1</td>\n",
       "      <td>8</td>\n",
       "      <td>1418</td>\n",
       "      <td>1982</td>\n",
       "      <td>11</td>\n",
       "      <td>345</td>\n",
       "      <td>0</td>\n",
       "      <td>9</td>\n",
       "      <td>13</td>\n",
       "      <td>-0.833754</td>\n",
       "      <td>-1.047491</td>\n",
       "      <td>-1.050736</td>\n",
       "      <td>-0.886033</td>\n",
       "      <td>-0.362050</td>\n",
       "      <td>-0.477447</td>\n",
       "    </tr>\n",
       "  </tbody>\n",
       "</table>\n",
       "</div>"
      ],
      "text/plain": [
       "   district_id  apartment_addr_town  apartment_builder  apartment_build_year  \\\n",
       "0           13                  142               1571                  2004   \n",
       "1            1                    8               1798                  2020   \n",
       "2            1                    8               1886                  2003   \n",
       "3            1                    8               1418                  1982   \n",
       "4            1                    8               1418                  1982   \n",
       "\n",
       "   apartment_build_month  school_name  school_addr_district  school_addr_town  \\\n",
       "0                     12          234                    12                67   \n",
       "1                      9           55                     0                 9   \n",
       "2                      3           26                     0                 9   \n",
       "3                     11           25                     0               145   \n",
       "4                     11          345                     0                 9   \n",
       "\n",
       "   st_name  apartment_floor_min  apartment_floor_max  apartment_parking  \\\n",
       "0      135             0.140933             1.863569           0.331306   \n",
       "1       95            -0.443879             3.319099           0.875301   \n",
       "2       32             0.140933            -0.319726           1.698646   \n",
       "3       32            -0.833754            -1.047491          -0.918413   \n",
       "4       13            -0.833754            -1.047491          -1.050736   \n",
       "\n",
       "   school_students   st_dist  st_volume  \n",
       "0         0.578211 -1.047446  -0.477447  \n",
       "1        -0.788767  0.908914  -0.477447  \n",
       "2         0.118170 -0.819653  -0.477447  \n",
       "3        -1.737766  0.529064  -0.477447  \n",
       "4        -0.886033 -0.362050  -0.477447  "
      ]
     },
     "execution_count": 38,
     "metadata": {},
     "output_type": "execute_result"
    }
   ],
   "source": [
    "train.head(5)"
   ]
  },
  {
   "cell_type": "code",
   "execution_count": 39,
   "metadata": {},
   "outputs": [],
   "source": [
    "#최적의 cluster\n",
    "\n",
    "from sklearn.cluster import KMeans\n",
    "from kmodes.kprototypes import KPrototypes\n",
    "\n",
    "kproto = KPrototypes(n_clusters=4, verbose=0, random_state=0)\n",
    "train['cluster'] = kproto.fit_predict(train, categorical=list(range(len(var_cate))))"
   ]
  },
  {
   "cell_type": "code",
   "execution_count": 41,
   "metadata": {},
   "outputs": [],
   "source": [
    "#우선 저장\n",
    "train.to_csv('clustered_data.csv')"
   ]
  },
  {
   "cell_type": "code",
   "execution_count": 44,
   "metadata": {},
   "outputs": [],
   "source": [
    "df['cluster'] = train['cluster']\n",
    "df = df[['apartment_id','apartment_name','cluster']]\n",
    "df = df.merge(price, how='left', on='apartment_id')"
   ]
  },
  {
   "cell_type": "code",
   "execution_count": 46,
   "metadata": {},
   "outputs": [],
   "source": [
    "# period => datetime 형태로 변환. 시각화에 용이.\n",
    "pd.plotting.register_matplotlib_converters() # datetime 형태를 시각화에 사용\n",
    "df['time_period'] = df['period'].apply(lambda x: pd.to_datetime(x, format='%Y.%m'))"
   ]
  },
  {
   "cell_type": "code",
   "execution_count": 48,
   "metadata": {},
   "outputs": [
    {
     "name": "stdout",
     "output_type": "stream",
     "text": [
      "<class 'pandas.core.frame.DataFrame'>\n",
      "Int64Index: 456582 entries, 0 to 458142\n",
      "Data columns (total 11 columns):\n",
      "apartment_id       456582 non-null int64\n",
      "apartment_name     456582 non-null object\n",
      "cluster            456582 non-null uint16\n",
      "price_id           456582 non-null float64\n",
      "area               456582 non-null object\n",
      "period             456582 non-null object\n",
      "year               456582 non-null float64\n",
      "month              456582 non-null float64\n",
      "amount             456582 non-null float64\n",
      "amount_original    456582 non-null object\n",
      "time_period        456582 non-null datetime64[ns]\n",
      "dtypes: datetime64[ns](1), float64(4), int64(1), object(4), uint16(1)\n",
      "memory usage: 39.2+ MB\n"
     ]
    }
   ],
   "source": [
    "temp = df.copy()\n",
    "temp = temp.dropna()\n",
    "temp.info()"
   ]
  },
  {
   "cell_type": "code",
   "execution_count": 49,
   "metadata": {},
   "outputs": [],
   "source": [
    "#필요한 데이터만 추출\n",
    "temp = temp.drop(['apartment_id','price_id','period','year','month','amount_original'],axis=1)"
   ]
  },
  {
   "cell_type": "code",
   "execution_count": 50,
   "metadata": {},
   "outputs": [],
   "source": [
    "# area => 숫자가 아닌 무언가가 처음 나오는 것 기준으로 앞의 내용\n",
    "import re\n",
    "temp['area'] = temp['area'].apply(lambda x: int(re.split('\\D',x)[0]))"
   ]
  },
  {
   "cell_type": "code",
   "execution_count": 53,
   "metadata": {},
   "outputs": [
    {
     "name": "stdout",
     "output_type": "stream",
     "text": [
      "아파트 이름을 입력해주세요: 상수두산위브\n"
     ]
    }
   ],
   "source": [
    "#사용자가 원하는 아파트 입력\n",
    "your_apart = input('아파트 이름을 입력해주세요: ')"
   ]
  },
  {
   "cell_type": "code",
   "execution_count": 54,
   "metadata": {},
   "outputs": [
    {
     "name": "stdout",
     "output_type": "stream",
     "text": [
      "면적을 입력해 주세요(m2 단위): 104\n"
     ]
    }
   ],
   "source": [
    "#사용자가 원하는 면적 입력\n",
    "your_area = int(input('면적을 입력해 주세요(m2 단위): '))"
   ]
  },
  {
   "cell_type": "code",
   "execution_count": 90,
   "metadata": {},
   "outputs": [],
   "source": [
    "#해당 아파트와 면적이 해당하는 cluster 추출하고, 그 cluster 해당하는 모든 아파트 가격들을 모아 새로운 변수를 생성\n",
    "group_name = temp[(temp['apartment_name']==your_apart) & (temp['area'] == your_area)].cluster[1]\n",
    "temp_for_var = temp[temp['cluster']== group_name]"
   ]
  },
  {
   "cell_type": "code",
   "execution_count": 91,
   "metadata": {},
   "outputs": [
    {
     "data": {
      "text/html": [
       "<div>\n",
       "<style scoped>\n",
       "    .dataframe tbody tr th:only-of-type {\n",
       "        vertical-align: middle;\n",
       "    }\n",
       "\n",
       "    .dataframe tbody tr th {\n",
       "        vertical-align: top;\n",
       "    }\n",
       "\n",
       "    .dataframe thead th {\n",
       "        text-align: right;\n",
       "    }\n",
       "</style>\n",
       "<table border=\"1\" class=\"dataframe\">\n",
       "  <thead>\n",
       "    <tr style=\"text-align: right;\">\n",
       "      <th></th>\n",
       "      <th>time_period</th>\n",
       "      <th>amount</th>\n",
       "    </tr>\n",
       "  </thead>\n",
       "  <tbody>\n",
       "    <tr>\n",
       "      <td>26549</td>\n",
       "      <td>2006-01-01</td>\n",
       "      <td>7.450000e+08</td>\n",
       "    </tr>\n",
       "    <tr>\n",
       "      <td>325144</td>\n",
       "      <td>2006-01-01</td>\n",
       "      <td>3.800000e+08</td>\n",
       "    </tr>\n",
       "    <tr>\n",
       "      <td>16090</td>\n",
       "      <td>2006-01-01</td>\n",
       "      <td>1.150000e+09</td>\n",
       "    </tr>\n",
       "    <tr>\n",
       "      <td>36461</td>\n",
       "      <td>2006-01-01</td>\n",
       "      <td>4.480000e+08</td>\n",
       "    </tr>\n",
       "    <tr>\n",
       "      <td>305097</td>\n",
       "      <td>2006-01-01</td>\n",
       "      <td>2.640000e+08</td>\n",
       "    </tr>\n",
       "    <tr>\n",
       "      <td>...</td>\n",
       "      <td>...</td>\n",
       "      <td>...</td>\n",
       "    </tr>\n",
       "    <tr>\n",
       "      <td>256081</td>\n",
       "      <td>2020-04-01</td>\n",
       "      <td>7.400000e+08</td>\n",
       "    </tr>\n",
       "    <tr>\n",
       "      <td>333676</td>\n",
       "      <td>2020-04-01</td>\n",
       "      <td>2.300000e+08</td>\n",
       "    </tr>\n",
       "    <tr>\n",
       "      <td>333757</td>\n",
       "      <td>2020-04-01</td>\n",
       "      <td>4.300000e+08</td>\n",
       "    </tr>\n",
       "    <tr>\n",
       "      <td>142929</td>\n",
       "      <td>2020-04-01</td>\n",
       "      <td>7.200000e+08</td>\n",
       "    </tr>\n",
       "    <tr>\n",
       "      <td>190748</td>\n",
       "      <td>2020-04-01</td>\n",
       "      <td>1.730000e+08</td>\n",
       "    </tr>\n",
       "  </tbody>\n",
       "</table>\n",
       "<p>208961 rows × 2 columns</p>\n",
       "</div>"
      ],
      "text/plain": [
       "       time_period        amount\n",
       "26549   2006-01-01  7.450000e+08\n",
       "325144  2006-01-01  3.800000e+08\n",
       "16090   2006-01-01  1.150000e+09\n",
       "36461   2006-01-01  4.480000e+08\n",
       "305097  2006-01-01  2.640000e+08\n",
       "...            ...           ...\n",
       "256081  2020-04-01  7.400000e+08\n",
       "333676  2020-04-01  2.300000e+08\n",
       "333757  2020-04-01  4.300000e+08\n",
       "142929  2020-04-01  7.200000e+08\n",
       "190748  2020-04-01  1.730000e+08\n",
       "\n",
       "[208961 rows x 2 columns]"
      ]
     },
     "execution_count": 91,
     "metadata": {},
     "output_type": "execute_result"
    }
   ],
   "source": [
    "#이 데이터로 이제 시계열 분석을 진행해야 한다. 필요없는 자료들은 역시 제거한다\n",
    "temp_for_var = temp_for_var.drop(['apartment_name','cluster','area'],axis=1)\n",
    "temp_for_var = temp_for_var[['time_period','amount']]\n",
    "temp_for_var.sort_values(by='time_period',ascending=True)"
   ]
  },
  {
   "cell_type": "code",
   "execution_count": 92,
   "metadata": {},
   "outputs": [],
   "source": [
    "grouped = temp_for_var.groupby(temp_for_var['time_period'])"
   ]
  },
  {
   "cell_type": "code",
   "execution_count": 187,
   "metadata": {},
   "outputs": [],
   "source": [
    "a = grouped.min()\n",
    "a.columns = ['real_min']\n",
    "b = grouped.median()\n",
    "b.columns = ['real_median']\n",
    "c = grouped.max()\n",
    "c.columns = ['real_max']"
   ]
  },
  {
   "cell_type": "code",
   "execution_count": 188,
   "metadata": {
    "scrolled": true
   },
   "outputs": [],
   "source": [
    "var_data = pd.merge(a,b,left_index=True,right_index=True,how='left')\n",
    "var_data = pd.merge(var_data,c,left_index=True,right_index=True,how='left')"
   ]
  },
  {
   "cell_type": "code",
   "execution_count": 189,
   "metadata": {},
   "outputs": [],
   "source": [
    "train = var_data[0:len(var_data)-4]\n",
    "test = var_data[len(var_data)-4:len(var_data)]"
   ]
  },
  {
   "cell_type": "code",
   "execution_count": 190,
   "metadata": {},
   "outputs": [],
   "source": [
    "from statsmodels.tsa.vector_ar.var_model import VAR\n",
    "\n",
    "model = VAR(endog=train)\n",
    "model_fit = model.fit()"
   ]
  },
  {
   "cell_type": "code",
   "execution_count": 191,
   "metadata": {},
   "outputs": [
    {
     "data": {
      "text/html": [
       "<div>\n",
       "<style scoped>\n",
       "    .dataframe tbody tr th:only-of-type {\n",
       "        vertical-align: middle;\n",
       "    }\n",
       "\n",
       "    .dataframe tbody tr th {\n",
       "        vertical-align: top;\n",
       "    }\n",
       "\n",
       "    .dataframe thead th {\n",
       "        text-align: right;\n",
       "    }\n",
       "</style>\n",
       "<table border=\"1\" class=\"dataframe\">\n",
       "  <thead>\n",
       "    <tr style=\"text-align: right;\">\n",
       "      <th></th>\n",
       "      <th>test_min</th>\n",
       "      <th>test_median</th>\n",
       "      <th>test_max</th>\n",
       "    </tr>\n",
       "    <tr>\n",
       "      <th>time_period</th>\n",
       "      <th></th>\n",
       "      <th></th>\n",
       "      <th></th>\n",
       "    </tr>\n",
       "  </thead>\n",
       "  <tbody>\n",
       "    <tr>\n",
       "      <td>2020-01-01</td>\n",
       "      <td>1.150970e+08</td>\n",
       "      <td>7.422955e+08</td>\n",
       "      <td>4.901008e+09</td>\n",
       "    </tr>\n",
       "    <tr>\n",
       "      <td>2020-02-01</td>\n",
       "      <td>1.137791e+08</td>\n",
       "      <td>7.483123e+08</td>\n",
       "      <td>5.027668e+09</td>\n",
       "    </tr>\n",
       "    <tr>\n",
       "      <td>2020-03-01</td>\n",
       "      <td>1.131438e+08</td>\n",
       "      <td>7.542051e+08</td>\n",
       "      <td>5.071377e+09</td>\n",
       "    </tr>\n",
       "    <tr>\n",
       "      <td>2020-04-01</td>\n",
       "      <td>1.131042e+08</td>\n",
       "      <td>7.601116e+08</td>\n",
       "      <td>5.100613e+09</td>\n",
       "    </tr>\n",
       "  </tbody>\n",
       "</table>\n",
       "</div>"
      ],
      "text/plain": [
       "                 test_min   test_median      test_max\n",
       "time_period                                          \n",
       "2020-01-01   1.150970e+08  7.422955e+08  4.901008e+09\n",
       "2020-02-01   1.137791e+08  7.483123e+08  5.027668e+09\n",
       "2020-03-01   1.131438e+08  7.542051e+08  5.071377e+09\n",
       "2020-04-01   1.131042e+08  7.601116e+08  5.100613e+09"
      ]
     },
     "execution_count": 191,
     "metadata": {},
     "output_type": "execute_result"
    }
   ],
   "source": [
    "yhat = model_fit.forecast(model_fit.y, steps=4)\n",
    "var = pd.DataFrame(yhat)\n",
    "var.columns = ['test_min','test_median','test_max']\n",
    "var.index = test.index\n",
    "var"
   ]
  },
  {
   "cell_type": "code",
   "execution_count": 192,
   "metadata": {},
   "outputs": [
    {
     "data": {
      "text/html": [
       "<div>\n",
       "<style scoped>\n",
       "    .dataframe tbody tr th:only-of-type {\n",
       "        vertical-align: middle;\n",
       "    }\n",
       "\n",
       "    .dataframe tbody tr th {\n",
       "        vertical-align: top;\n",
       "    }\n",
       "\n",
       "    .dataframe thead th {\n",
       "        text-align: right;\n",
       "    }\n",
       "</style>\n",
       "<table border=\"1\" class=\"dataframe\">\n",
       "  <thead>\n",
       "    <tr style=\"text-align: right;\">\n",
       "      <th></th>\n",
       "      <th>real_min</th>\n",
       "      <th>real_median</th>\n",
       "      <th>real_max</th>\n",
       "      <th>test_min</th>\n",
       "      <th>test_median</th>\n",
       "      <th>test_max</th>\n",
       "    </tr>\n",
       "    <tr>\n",
       "      <th>time_period</th>\n",
       "      <th></th>\n",
       "      <th></th>\n",
       "      <th></th>\n",
       "      <th></th>\n",
       "      <th></th>\n",
       "      <th></th>\n",
       "    </tr>\n",
       "  </thead>\n",
       "  <tbody>\n",
       "    <tr>\n",
       "      <td>2020-01-01</td>\n",
       "      <td>101000000.0</td>\n",
       "      <td>670000000.0</td>\n",
       "      <td>5.450000e+09</td>\n",
       "      <td>1.150970e+08</td>\n",
       "      <td>7.422955e+08</td>\n",
       "      <td>4.901008e+09</td>\n",
       "    </tr>\n",
       "    <tr>\n",
       "      <td>2020-02-01</td>\n",
       "      <td>90000000.0</td>\n",
       "      <td>700000000.0</td>\n",
       "      <td>5.700000e+09</td>\n",
       "      <td>1.137791e+08</td>\n",
       "      <td>7.483123e+08</td>\n",
       "      <td>5.027668e+09</td>\n",
       "    </tr>\n",
       "    <tr>\n",
       "      <td>2020-03-01</td>\n",
       "      <td>95000000.0</td>\n",
       "      <td>690000000.0</td>\n",
       "      <td>4.800000e+09</td>\n",
       "      <td>1.131438e+08</td>\n",
       "      <td>7.542051e+08</td>\n",
       "      <td>5.071377e+09</td>\n",
       "    </tr>\n",
       "    <tr>\n",
       "      <td>2020-04-01</td>\n",
       "      <td>100000000.0</td>\n",
       "      <td>551500000.0</td>\n",
       "      <td>5.050000e+09</td>\n",
       "      <td>1.131042e+08</td>\n",
       "      <td>7.601116e+08</td>\n",
       "      <td>5.100613e+09</td>\n",
       "    </tr>\n",
       "  </tbody>\n",
       "</table>\n",
       "</div>"
      ],
      "text/plain": [
       "                real_min  real_median      real_max      test_min  \\\n",
       "time_period                                                         \n",
       "2020-01-01   101000000.0  670000000.0  5.450000e+09  1.150970e+08   \n",
       "2020-02-01    90000000.0  700000000.0  5.700000e+09  1.137791e+08   \n",
       "2020-03-01    95000000.0  690000000.0  4.800000e+09  1.131438e+08   \n",
       "2020-04-01   100000000.0  551500000.0  5.050000e+09  1.131042e+08   \n",
       "\n",
       "              test_median      test_max  \n",
       "time_period                              \n",
       "2020-01-01   7.422955e+08  4.901008e+09  \n",
       "2020-02-01   7.483123e+08  5.027668e+09  \n",
       "2020-03-01   7.542051e+08  5.071377e+09  \n",
       "2020-04-01   7.601116e+08  5.100613e+09  "
      ]
     },
     "execution_count": 192,
     "metadata": {},
     "output_type": "execute_result"
    }
   ],
   "source": [
    "#결과는 조금 속상하군요\n",
    "result = pd.concat([test,var],axis=1)\n",
    "result"
   ]
  }
 ],
 "metadata": {
  "kernelspec": {
   "display_name": "Python 3",
   "language": "python",
   "name": "python3"
  },
  "language_info": {
   "codemirror_mode": {
    "name": "ipython",
    "version": 3
   },
   "file_extension": ".py",
   "mimetype": "text/x-python",
   "name": "python",
   "nbconvert_exporter": "python",
   "pygments_lexer": "ipython3",
   "version": "3.7.4"
  }
 },
 "nbformat": 4,
 "nbformat_minor": 2
}
