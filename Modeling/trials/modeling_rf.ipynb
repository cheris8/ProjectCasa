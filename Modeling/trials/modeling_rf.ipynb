{
 "cells": [
  {
   "cell_type": "code",
   "execution_count": 0,
   "metadata": {
    "colab": {},
    "colab_type": "code",
    "id": "UlNv-RU8l6K_"
   },
   "outputs": [],
   "source": [
    "import psycopg2\n",
    "import pandas as pd\n",
    "import json\n",
    "import numpy as np\n",
    "import matplotlib.pyplot as plt\n",
    "import seaborn as sns"
   ]
  },
  {
   "cell_type": "code",
   "execution_count": 0,
   "metadata": {
    "colab": {},
    "colab_type": "code",
    "id": "HZC7l7Bfl6LJ"
   },
   "outputs": [],
   "source": [
    "def call_df(table_name):\n",
    "    with open('config.json', 'r') as f:\n",
    "        config = json.load(f)\n",
    "        \n",
    "    conn = psycopg2.connect(user = config['USER'],\n",
    "                              password = config['PASSWORD'],\n",
    "                              host = config['HOST'],\n",
    "                              port = config['PORT'],\n",
    "                              database = config['DATABASE'])\n",
    "    \n",
    "    sql = f'SELECT * FROM {table_name}'\n",
    "    df = pd.read_sql_query(sql, conn)\n",
    "    conn.close()\n",
    "    return df"
   ]
  },
  {
   "cell_type": "code",
   "execution_count": 0,
   "metadata": {
    "colab": {},
    "colab_type": "code",
    "id": "Uy5pmwX_l6LN"
   },
   "outputs": [],
   "source": [
    "district = call_df('crawling_db.district_table')\n",
    "apartment = call_df('crawling_db.apartment_table').drop(columns='table_id')\n",
    "school = call_df('crawling_db.school_table').drop(columns='table_id')\n",
    "price = call_df('crawling_db.price_table')\n",
    "subway = call_df('crawling_db.subway_table').drop(columns='table_id')"
   ]
  },
  {
   "cell_type": "code",
   "execution_count": 0,
   "metadata": {
    "colab": {},
    "colab_type": "code",
    "id": "Z0-lw_4Il6LR"
   },
   "outputs": [],
   "source": [
    "df = (price.merge(apartment, how='left', on='apartment_id').\n",
    "      merge(district, how='left', on='district_id').\n",
    "      merge(school, how='left', on='apartment_id').\n",
    "      merge(subway, how='left', on='apartment_id'))"
   ]
  },
  {
   "cell_type": "code",
   "execution_count": 0,
   "metadata": {
    "colab": {},
    "colab_type": "code",
    "id": "mYGrqCIgl6LY"
   },
   "outputs": [],
   "source": [
    "import re\n",
    "df['area'] = df['area'].apply(lambda x: int(re.split('\\D',x)[0]))"
   ]
  },
  {
   "cell_type": "code",
   "execution_count": 0,
   "metadata": {
    "colab": {},
    "colab_type": "code",
    "id": "KMxjk8sDl6Lg"
   },
   "outputs": [],
   "source": [
    "from sklearn.preprocessing import LabelEncoder\n",
    "label_encoder = LabelEncoder()\n",
    "\n",
    "label_encoder.fit(df.apartment_addr_town)\n",
    "apartment_town_label = label_encoder.transform(df.apartment_addr_town)\n",
    "townlabel_df = pd.DataFrame([apartment_town_label,df['apartment_addr_town']])"
   ]
  },
  {
   "cell_type": "code",
   "execution_count": 0,
   "metadata": {
    "colab": {},
    "colab_type": "code",
    "id": "BcqfJsNQl6Lr"
   },
   "outputs": [],
   "source": [
    "label_encoder.fit(df.apartment_name)\n",
    "apartment_name_label = label_encoder.transform(df.apartment_name)\n",
    "apartment_label_df = pd.DataFrame([apartment_name_label,df['apartment_name']])"
   ]
  },
  {
   "cell_type": "code",
   "execution_count": 0,
   "metadata": {
    "colab": {},
    "colab_type": "code",
    "id": "Gs7p94xjl6Lv"
   },
   "outputs": [],
   "source": [
    "townlabel_df = np.transpose(townlabel_df)\n",
    "apartment_label_df = np.transpose(apartment_label_df)"
   ]
  },
  {
   "cell_type": "code",
   "execution_count": 58,
   "metadata": {
    "colab": {
     "base_uri": "https://localhost:8080/",
     "height": 202
    },
    "colab_type": "code",
    "executionInfo": {
     "elapsed": 1147,
     "status": "ok",
     "timestamp": 1588493057931,
     "user": {
      "displayName": "조유림",
      "photoUrl": "",
      "userId": "08560563219995702049"
     },
     "user_tz": -540
    },
    "id": "o0lUCy9vl6Lz",
    "outputId": "83ae8c4f-84ec-4e0d-928f-84ce2df8d568"
   },
   "outputs": [
    {
     "data": {
      "text/html": [
       "<div>\n",
       "<style scoped>\n",
       "    .dataframe tbody tr th:only-of-type {\n",
       "        vertical-align: middle;\n",
       "    }\n",
       "\n",
       "    .dataframe tbody tr th {\n",
       "        vertical-align: top;\n",
       "    }\n",
       "\n",
       "    .dataframe thead th {\n",
       "        text-align: right;\n",
       "    }\n",
       "</style>\n",
       "<table border=\"1\" class=\"dataframe\">\n",
       "  <thead>\n",
       "    <tr style=\"text-align: right;\">\n",
       "      <th></th>\n",
       "      <th>label</th>\n",
       "      <th>town_name</th>\n",
       "    </tr>\n",
       "  </thead>\n",
       "  <tbody>\n",
       "    <tr>\n",
       "      <th>0</th>\n",
       "      <td>8</td>\n",
       "      <td>개포동</td>\n",
       "    </tr>\n",
       "    <tr>\n",
       "      <th>3775</th>\n",
       "      <td>44</td>\n",
       "      <td>논현동</td>\n",
       "    </tr>\n",
       "    <tr>\n",
       "      <th>5636</th>\n",
       "      <td>58</td>\n",
       "      <td>대치동</td>\n",
       "    </tr>\n",
       "    <tr>\n",
       "      <th>9423</th>\n",
       "      <td>61</td>\n",
       "      <td>도곡동</td>\n",
       "    </tr>\n",
       "    <tr>\n",
       "      <th>13157</th>\n",
       "      <td>133</td>\n",
       "      <td>삼성동</td>\n",
       "    </tr>\n",
       "  </tbody>\n",
       "</table>\n",
       "</div>"
      ],
      "text/plain": [
       "      label town_name\n",
       "0         8       개포동\n",
       "3775     44       논현동\n",
       "5636     58       대치동\n",
       "9423     61       도곡동\n",
       "13157   133       삼성동"
      ]
     },
     "execution_count": 58,
     "metadata": {
      "tags": []
     },
     "output_type": "execute_result"
    }
   ],
   "source": [
    "#행정동 별 모델을 만들었기 때문에, label dataframe 미리 생성\n",
    "townlabel_df = townlabel_df.drop_duplicates()\n",
    "townlabel_df.columns = ['label','town_name']\n",
    "townlabel_df.head()"
   ]
  },
  {
   "cell_type": "code",
   "execution_count": 59,
   "metadata": {
    "colab": {
     "base_uri": "https://localhost:8080/",
     "height": 202
    },
    "colab_type": "code",
    "executionInfo": {
     "elapsed": 1519,
     "status": "ok",
     "timestamp": 1588493061572,
     "user": {
      "displayName": "조유림",
      "photoUrl": "",
      "userId": "08560563219995702049"
     },
     "user_tz": -540
    },
    "id": "hrYN6Hy2l6L7",
    "outputId": "771eb6cc-e734-4e7f-a919-6a0f6c8ec481"
   },
   "outputs": [
    {
     "data": {
      "text/html": [
       "<div>\n",
       "<style scoped>\n",
       "    .dataframe tbody tr th:only-of-type {\n",
       "        vertical-align: middle;\n",
       "    }\n",
       "\n",
       "    .dataframe tbody tr th {\n",
       "        vertical-align: top;\n",
       "    }\n",
       "\n",
       "    .dataframe thead th {\n",
       "        text-align: right;\n",
       "    }\n",
       "</style>\n",
       "<table border=\"1\" class=\"dataframe\">\n",
       "  <thead>\n",
       "    <tr style=\"text-align: right;\">\n",
       "      <th></th>\n",
       "      <th>label</th>\n",
       "      <th>apartment_name</th>\n",
       "    </tr>\n",
       "  </thead>\n",
       "  <tbody>\n",
       "    <tr>\n",
       "      <th>0</th>\n",
       "      <td>41</td>\n",
       "      <td>LG개포자이</td>\n",
       "    </tr>\n",
       "    <tr>\n",
       "      <th>99</th>\n",
       "      <td>229</td>\n",
       "      <td>개포래미안포레스트</td>\n",
       "    </tr>\n",
       "    <tr>\n",
       "      <th>112</th>\n",
       "      <td>231</td>\n",
       "      <td>개포상지리츠빌</td>\n",
       "    </tr>\n",
       "    <tr>\n",
       "      <th>119</th>\n",
       "      <td>235</td>\n",
       "      <td>개포주공1단지</td>\n",
       "    </tr>\n",
       "    <tr>\n",
       "      <th>721</th>\n",
       "      <td>236</td>\n",
       "      <td>개포주공4단지</td>\n",
       "    </tr>\n",
       "  </tbody>\n",
       "</table>\n",
       "</div>"
      ],
      "text/plain": [
       "    label apartment_name\n",
       "0      41         LG개포자이\n",
       "99    229      개포래미안포레스트\n",
       "112   231        개포상지리츠빌\n",
       "119   235        개포주공1단지\n",
       "721   236        개포주공4단지"
      ]
     },
     "execution_count": 59,
     "metadata": {
      "tags": []
     },
     "output_type": "execute_result"
    }
   ],
   "source": [
    "apartment_label_df = apartment_label_df.drop_duplicates()\n",
    "apartment_label_df.columns = ['label','apartment_name']\n",
    "apartment_label_df.head()"
   ]
  },
  {
   "cell_type": "code",
   "execution_count": 0,
   "metadata": {
    "colab": {},
    "colab_type": "code",
    "id": "CKuWIJ2Fl6L_"
   },
   "outputs": [],
   "source": [
    "df['school_students']=pd.to_numeric(df['school_students'])\n",
    "\n",
    "#범주형 자료 label하기 \n",
    "\n",
    "df.apartment_addr_town = apartment_town_label\n",
    "df.apartment_name = apartment_name_label\n",
    "\n",
    "label_encoder.fit(df.apartment_builder)\n",
    "df.apartment_builder = label_encoder.transform(df.apartment_builder)\n",
    "\n",
    "label_encoder.fit(df.st_name)\n",
    "df.st_name = label_encoder.transform(df.st_name)\n"
   ]
  },
  {
   "cell_type": "code",
   "execution_count": 62,
   "metadata": {
    "colab": {
     "base_uri": "https://localhost:8080/",
     "height": 589
    },
    "colab_type": "code",
    "executionInfo": {
     "elapsed": 1378,
     "status": "ok",
     "timestamp": 1588493128227,
     "user": {
      "displayName": "조유림",
      "photoUrl": "",
      "userId": "08560563219995702049"
     },
     "user_tz": -540
    },
    "id": "cFGX6t67l6MD",
    "outputId": "767a0842-f051-477a-fdfd-9930aa2fd25d"
   },
   "outputs": [
    {
     "name": "stdout",
     "output_type": "stream",
     "text": [
      "<class 'pandas.core.frame.DataFrame'>\n",
      "Int64Index: 457904 entries, 0 to 457903\n",
      "Data columns (total 26 columns):\n",
      " #   Column                 Non-Null Count   Dtype  \n",
      "---  ------                 --------------   -----  \n",
      " 0   price_id               457904 non-null  int64  \n",
      " 1   apartment_id           457904 non-null  int64  \n",
      " 2   area                   457904 non-null  int64  \n",
      " 3   period                 457904 non-null  object \n",
      " 4   year                   457904 non-null  int64  \n",
      " 5   month                  457904 non-null  int64  \n",
      " 6   amount                 457904 non-null  int64  \n",
      " 7   amount_original        457904 non-null  object \n",
      " 8   district_id            457904 non-null  int64  \n",
      " 9   apartment_addr_town    457904 non-null  int64  \n",
      " 10  apartment_builder      457904 non-null  int64  \n",
      " 11  apartment_build_year   457904 non-null  int64  \n",
      " 12  apartment_build_month  457904 non-null  int64  \n",
      " 13  apartment_floor_min    457904 non-null  object \n",
      " 14  apartment_floor_max    457904 non-null  object \n",
      " 15  apartment_parking      457904 non-null  float64\n",
      " 16  apartment_name         457904 non-null  int64  \n",
      " 17  district_name          457904 non-null  object \n",
      " 18  school_name            457904 non-null  object \n",
      " 19  school_dist            457904 non-null  int64  \n",
      " 20  school_addr_district   457904 non-null  int64  \n",
      " 21  school_addr_town       457904 non-null  object \n",
      " 22  school_students        456582 non-null  float64\n",
      " 23  st_name                457904 non-null  int64  \n",
      " 24  st_dist                457904 non-null  float64\n",
      " 25  st_volume              457904 non-null  int64  \n",
      "dtypes: float64(3), int64(16), object(7)\n",
      "memory usage: 94.3+ MB\n"
     ]
    }
   ],
   "source": [
    "df.info()"
   ]
  },
  {
   "cell_type": "code",
   "execution_count": 63,
   "metadata": {
    "colab": {
     "base_uri": "https://localhost:8080/",
     "height": 222
    },
    "colab_type": "code",
    "executionInfo": {
     "elapsed": 1497,
     "status": "ok",
     "timestamp": 1588493138112,
     "user": {
      "displayName": "조유림",
      "photoUrl": "",
      "userId": "08560563219995702049"
     },
     "user_tz": -540
    },
    "id": "F7tgGVnHl6MJ",
    "outputId": "e12347b3-29a0-4979-8993-0b38e047b102"
   },
   "outputs": [
    {
     "data": {
      "text/html": [
       "<div>\n",
       "<style scoped>\n",
       "    .dataframe tbody tr th:only-of-type {\n",
       "        vertical-align: middle;\n",
       "    }\n",
       "\n",
       "    .dataframe tbody tr th {\n",
       "        vertical-align: top;\n",
       "    }\n",
       "\n",
       "    .dataframe thead th {\n",
       "        text-align: right;\n",
       "    }\n",
       "</style>\n",
       "<table border=\"1\" class=\"dataframe\">\n",
       "  <thead>\n",
       "    <tr style=\"text-align: right;\">\n",
       "      <th></th>\n",
       "      <th>area</th>\n",
       "      <th>year</th>\n",
       "      <th>month</th>\n",
       "      <th>amount</th>\n",
       "      <th>district_id</th>\n",
       "      <th>apartment_addr_town</th>\n",
       "      <th>apartment_builder</th>\n",
       "      <th>apartment_build_year</th>\n",
       "      <th>apartment_build_month</th>\n",
       "      <th>apartment_parking</th>\n",
       "      <th>apartment_name</th>\n",
       "      <th>school_students</th>\n",
       "      <th>st_name</th>\n",
       "      <th>st_dist</th>\n",
       "      <th>st_volume</th>\n",
       "    </tr>\n",
       "  </thead>\n",
       "  <tbody>\n",
       "    <tr>\n",
       "      <th>0</th>\n",
       "      <td>160</td>\n",
       "      <td>2020</td>\n",
       "      <td>2</td>\n",
       "      <td>2060000000</td>\n",
       "      <td>1</td>\n",
       "      <td>8</td>\n",
       "      <td>779</td>\n",
       "      <td>2004</td>\n",
       "      <td>6</td>\n",
       "      <td>2.36</td>\n",
       "      <td>41</td>\n",
       "      <td>316.0</td>\n",
       "      <td>277</td>\n",
       "      <td>0.002592</td>\n",
       "      <td>1</td>\n",
       "    </tr>\n",
       "    <tr>\n",
       "      <th>1</th>\n",
       "      <td>160</td>\n",
       "      <td>2020</td>\n",
       "      <td>1</td>\n",
       "      <td>2030000000</td>\n",
       "      <td>1</td>\n",
       "      <td>8</td>\n",
       "      <td>779</td>\n",
       "      <td>2004</td>\n",
       "      <td>6</td>\n",
       "      <td>2.36</td>\n",
       "      <td>41</td>\n",
       "      <td>316.0</td>\n",
       "      <td>277</td>\n",
       "      <td>0.002592</td>\n",
       "      <td>1</td>\n",
       "    </tr>\n",
       "    <tr>\n",
       "      <th>2</th>\n",
       "      <td>160</td>\n",
       "      <td>2019</td>\n",
       "      <td>11</td>\n",
       "      <td>1950000000</td>\n",
       "      <td>1</td>\n",
       "      <td>8</td>\n",
       "      <td>779</td>\n",
       "      <td>2004</td>\n",
       "      <td>6</td>\n",
       "      <td>2.36</td>\n",
       "      <td>41</td>\n",
       "      <td>316.0</td>\n",
       "      <td>277</td>\n",
       "      <td>0.002592</td>\n",
       "      <td>1</td>\n",
       "    </tr>\n",
       "    <tr>\n",
       "      <th>3</th>\n",
       "      <td>160</td>\n",
       "      <td>2019</td>\n",
       "      <td>10</td>\n",
       "      <td>1939999999</td>\n",
       "      <td>1</td>\n",
       "      <td>8</td>\n",
       "      <td>779</td>\n",
       "      <td>2004</td>\n",
       "      <td>6</td>\n",
       "      <td>2.36</td>\n",
       "      <td>41</td>\n",
       "      <td>316.0</td>\n",
       "      <td>277</td>\n",
       "      <td>0.002592</td>\n",
       "      <td>1</td>\n",
       "    </tr>\n",
       "    <tr>\n",
       "      <th>4</th>\n",
       "      <td>160</td>\n",
       "      <td>2019</td>\n",
       "      <td>7</td>\n",
       "      <td>1739999999</td>\n",
       "      <td>1</td>\n",
       "      <td>8</td>\n",
       "      <td>779</td>\n",
       "      <td>2004</td>\n",
       "      <td>6</td>\n",
       "      <td>2.36</td>\n",
       "      <td>41</td>\n",
       "      <td>316.0</td>\n",
       "      <td>277</td>\n",
       "      <td>0.002592</td>\n",
       "      <td>1</td>\n",
       "    </tr>\n",
       "  </tbody>\n",
       "</table>\n",
       "</div>"
      ],
      "text/plain": [
       "   area  year  month      amount  ...  school_students  st_name   st_dist  st_volume\n",
       "0   160  2020      2  2060000000  ...            316.0      277  0.002592          1\n",
       "1   160  2020      1  2030000000  ...            316.0      277  0.002592          1\n",
       "2   160  2019     11  1950000000  ...            316.0      277  0.002592          1\n",
       "3   160  2019     10  1939999999  ...            316.0      277  0.002592          1\n",
       "4   160  2019      7  1739999999  ...            316.0      277  0.002592          1\n",
       "\n",
       "[5 rows x 15 columns]"
      ]
     },
     "execution_count": 63,
     "metadata": {
      "tags": []
     },
     "output_type": "execute_result"
    }
   ],
   "source": [
    "df = df.drop(['period','district_name','apartment_id','price_id','amount_original'],axis=1)\n",
    "df = df.drop(['apartment_floor_min','apartment_floor_max'],axis=1)\n",
    "df = df.drop(['school_name','school_dist','school_addr_district','school_addr_town'],axis=1)\n",
    "df.head()"
   ]
  },
  {
   "cell_type": "code",
   "execution_count": 66,
   "metadata": {
    "colab": {
     "base_uri": "https://localhost:8080/",
     "height": 233
    },
    "colab_type": "code",
    "executionInfo": {
     "elapsed": 1432,
     "status": "ok",
     "timestamp": 1588493208834,
     "user": {
      "displayName": "조유림",
      "photoUrl": "",
      "userId": "08560563219995702049"
     },
     "user_tz": -540
    },
    "id": "9GS7Y__ql6MM",
    "outputId": "34f20a77-a735-45cc-c3ca-95eb6b350f2a"
   },
   "outputs": [
    {
     "data": {
      "text/html": [
       "<div>\n",
       "<style scoped>\n",
       "    .dataframe tbody tr th:only-of-type {\n",
       "        vertical-align: middle;\n",
       "    }\n",
       "\n",
       "    .dataframe tbody tr th {\n",
       "        vertical-align: top;\n",
       "    }\n",
       "\n",
       "    .dataframe thead th {\n",
       "        text-align: right;\n",
       "    }\n",
       "</style>\n",
       "<table border=\"1\" class=\"dataframe\">\n",
       "  <thead>\n",
       "    <tr style=\"text-align: right;\">\n",
       "      <th></th>\n",
       "      <th></th>\n",
       "      <th>amount</th>\n",
       "      <th>trade_n</th>\n",
       "    </tr>\n",
       "    <tr>\n",
       "      <th>apartment_name</th>\n",
       "      <th>year</th>\n",
       "      <th></th>\n",
       "      <th></th>\n",
       "    </tr>\n",
       "  </thead>\n",
       "  <tbody>\n",
       "    <tr>\n",
       "      <th>4857</th>\n",
       "      <th>2017</th>\n",
       "      <td>710000000</td>\n",
       "      <td>1</td>\n",
       "    </tr>\n",
       "    <tr>\n",
       "      <th rowspan=\"4\" valign=\"top\">4858</th>\n",
       "      <th>2009</th>\n",
       "      <td>4459999997</td>\n",
       "      <td>5</td>\n",
       "    </tr>\n",
       "    <tr>\n",
       "      <th>2010</th>\n",
       "      <td>1740000000</td>\n",
       "      <td>2</td>\n",
       "    </tr>\n",
       "    <tr>\n",
       "      <th>2012</th>\n",
       "      <td>800000000</td>\n",
       "      <td>1</td>\n",
       "    </tr>\n",
       "    <tr>\n",
       "      <th>2018</th>\n",
       "      <td>869999999</td>\n",
       "      <td>1</td>\n",
       "    </tr>\n",
       "  </tbody>\n",
       "</table>\n",
       "</div>"
      ],
      "text/plain": [
       "                         amount  trade_n\n",
       "apartment_name year                     \n",
       "4857           2017   710000000        1\n",
       "4858           2009  4459999997        5\n",
       "               2010  1740000000        2\n",
       "               2012   800000000        1\n",
       "               2018   869999999        1"
      ]
     },
     "execution_count": 66,
     "metadata": {
      "tags": []
     },
     "output_type": "execute_result"
    }
   ],
   "source": [
    "#파생변수 생성\n",
    "# 아파트 연도별 거래 총액, 거래수\n",
    "district = df.groupby(['apartment_name','year']).sum()['amount'] #변동성 계산을 위해 우선 sum의 값으로 도출\n",
    "count = df.groupby(['apartment_name','year']).count()['amount']\n",
    "df2 = pd.DataFrame(district)\n",
    "df2['trade_n'] = count\n",
    "df2.tail()"
   ]
  },
  {
   "cell_type": "code",
   "execution_count": 65,
   "metadata": {
    "colab": {
     "base_uri": "https://localhost:8080/",
     "height": 233
    },
    "colab_type": "code",
    "executionInfo": {
     "elapsed": 1040,
     "status": "ok",
     "timestamp": 1588493152032,
     "user": {
      "displayName": "조유림",
      "photoUrl": "",
      "userId": "08560563219995702049"
     },
     "user_tz": -540
    },
    "id": "kTrjRgWPl6MP",
    "outputId": "6b32a3d2-1ddf-4802-fb1b-81c77a8737c6"
   },
   "outputs": [
    {
     "data": {
      "text/html": [
       "<div>\n",
       "<style scoped>\n",
       "    .dataframe tbody tr th:only-of-type {\n",
       "        vertical-align: middle;\n",
       "    }\n",
       "\n",
       "    .dataframe tbody tr th {\n",
       "        vertical-align: top;\n",
       "    }\n",
       "\n",
       "    .dataframe thead th {\n",
       "        text-align: right;\n",
       "    }\n",
       "</style>\n",
       "<table border=\"1\" class=\"dataframe\">\n",
       "  <thead>\n",
       "    <tr style=\"text-align: right;\">\n",
       "      <th></th>\n",
       "      <th>amount</th>\n",
       "      <th>trade_n</th>\n",
       "    </tr>\n",
       "    <tr>\n",
       "      <th>apartment_name</th>\n",
       "      <th></th>\n",
       "      <th></th>\n",
       "    </tr>\n",
       "  </thead>\n",
       "  <tbody>\n",
       "    <tr>\n",
       "      <th>0</th>\n",
       "      <td>1.710227e+08</td>\n",
       "      <td>22</td>\n",
       "    </tr>\n",
       "    <tr>\n",
       "      <th>1</th>\n",
       "      <td>2.990500e+08</td>\n",
       "      <td>4</td>\n",
       "    </tr>\n",
       "    <tr>\n",
       "      <th>2</th>\n",
       "      <td>2.861333e+08</td>\n",
       "      <td>6</td>\n",
       "    </tr>\n",
       "    <tr>\n",
       "      <th>3</th>\n",
       "      <td>4.027145e+08</td>\n",
       "      <td>78</td>\n",
       "    </tr>\n",
       "    <tr>\n",
       "      <th>4</th>\n",
       "      <td>9.908333e+08</td>\n",
       "      <td>12</td>\n",
       "    </tr>\n",
       "  </tbody>\n",
       "</table>\n",
       "</div>"
      ],
      "text/plain": [
       "                      amount  trade_n\n",
       "apartment_name                       \n",
       "0               1.710227e+08       22\n",
       "1               2.990500e+08        4\n",
       "2               2.861333e+08        6\n",
       "3               4.027145e+08       78\n",
       "4               9.908333e+08       12"
      ]
     },
     "execution_count": 65,
     "metadata": {
      "tags": []
     },
     "output_type": "execute_result"
    }
   ],
   "source": [
    "#아파트 별 거래액 평균, 거래수\n",
    "district = df.groupby(['apartment_name']).mean()['amount'] #knn에 사용하기 위해 mean값 사용\n",
    "count = df.groupby(['apartment_name']).count()['amount']\n",
    "df3 = pd.DataFrame(district)\n",
    "df3['trade_n'] = count #거래량\n",
    "df3.head()"
   ]
  },
  {
   "cell_type": "code",
   "execution_count": 75,
   "metadata": {
    "colab": {
     "base_uri": "https://localhost:8080/",
     "height": 104
    },
    "colab_type": "code",
    "executionInfo": {
     "elapsed": 19091,
     "status": "ok",
     "timestamp": 1588493420641,
     "user": {
      "displayName": "조유림",
      "photoUrl": "",
      "userId": "08560563219995702049"
     },
     "user_tz": -540
    },
    "id": "gLiShRVkl6MS",
    "outputId": "edaa9e4d-e28d-4b4e-f35d-970444513948"
   },
   "outputs": [
    {
     "name": "stderr",
     "output_type": "stream",
     "text": [
      "/usr/local/lib/python3.6/dist-packages/pandas/core/indexing.py:671: SettingWithCopyWarning: \n",
      "A value is trying to be set on a copy of a slice from a DataFrame\n",
      "\n",
      "See the caveats in the documentation: https://pandas.pydata.org/pandas-docs/stable/user_guide/indexing.html#returning-a-view-versus-a-copy\n",
      "  self._setitem_with_indexer(indexer, value)\n"
     ]
    }
   ],
   "source": [
    "# 파생변수1 : amount 변동비율 \n",
    "# 변동비율 계산 시 2020년 자료는 제외\n",
    "ini = 0\n",
    "df3['amount_volatility']=0\n",
    "for i in range(4859):\n",
    "      df_apt = df2.loc[i]\n",
    "      num = df2.loc[i]['amount'].count()\n",
    "      if num == 1 : df3['amount_volatility'].iloc[i]=1\n",
    "      else:\n",
    "        for j in range(num-1):\n",
    "            dif = df_apt.iloc[j+1]['amount']-df_apt.iloc[j]['amount']\n",
    "            ini = abs(dif) + ini\n",
    "        vol = ini/(num-1)\n",
    "        mean = df_apt['amount'].mean()\n",
    "        df3['amount_volatility'].iloc[i]=mean/vol"
   ]
  },
  {
   "cell_type": "code",
   "execution_count": 91,
   "metadata": {
    "colab": {
     "base_uri": "https://localhost:8080/",
     "height": 104
    },
    "colab_type": "code",
    "executionInfo": {
     "elapsed": 17789,
     "status": "ok",
     "timestamp": 1588494199785,
     "user": {
      "displayName": "조유림",
      "photoUrl": "",
      "userId": "08560563219995702049"
     },
     "user_tz": -540
    },
    "id": "ZpXo8OA3lsW2",
    "outputId": "61e91fe3-7d61-4897-924d-14c925bfc5b1"
   },
   "outputs": [
    {
     "name": "stderr",
     "output_type": "stream",
     "text": [
      "/usr/local/lib/python3.6/dist-packages/pandas/core/indexing.py:671: SettingWithCopyWarning: \n",
      "A value is trying to be set on a copy of a slice from a DataFrame\n",
      "\n",
      "See the caveats in the documentation: https://pandas.pydata.org/pandas-docs/stable/user_guide/indexing.html#returning-a-view-versus-a-copy\n",
      "  self._setitem_with_indexer(indexer, value)\n"
     ]
    }
   ],
   "source": [
    "# 파생변수 2: 거래수 변동비율 계산 \n",
    "# 변동비율 계산 시 2020년 자료는 제외\n",
    "ini = 0\n",
    "df3['trade_n_volatility']=0\n",
    "for i in range(4859):\n",
    "      df_apt = df2.loc[i]\n",
    "      num = df2.loc[i]['trade_n'].count()\n",
    "      if num == 1 : df3['trade_n_volatility'].iloc[i]=1\n",
    "      else:\n",
    "        for j in range(num-1):\n",
    "            dif = df_apt.iloc[j+1]['trade_n']-df_apt.iloc[j]['trade_n']\n",
    "            ini = abs(dif) + ini\n",
    "        vol = ini/(num-1)\n",
    "        mean = df_apt['trade_n'].mean()\n",
    "        df3['trade_n_volatility'].iloc[i]=mean/vol"
   ]
  },
  {
   "cell_type": "code",
   "execution_count": 79,
   "metadata": {
    "colab": {
     "base_uri": "https://localhost:8080/",
     "height": 233
    },
    "colab_type": "code",
    "executionInfo": {
     "elapsed": 1431,
     "status": "ok",
     "timestamp": 1588493585490,
     "user": {
      "displayName": "조유림",
      "photoUrl": "",
      "userId": "08560563219995702049"
     },
     "user_tz": -540
    },
    "id": "jGCo19Xtl6Md",
    "outputId": "e2b3b83a-c6e2-45ff-d545-3e6335e3d409"
   },
   "outputs": [
    {
     "data": {
      "text/html": [
       "<div>\n",
       "<style scoped>\n",
       "    .dataframe tbody tr th:only-of-type {\n",
       "        vertical-align: middle;\n",
       "    }\n",
       "\n",
       "    .dataframe tbody tr th {\n",
       "        vertical-align: top;\n",
       "    }\n",
       "\n",
       "    .dataframe thead th {\n",
       "        text-align: right;\n",
       "    }\n",
       "</style>\n",
       "<table border=\"1\" class=\"dataframe\">\n",
       "  <thead>\n",
       "    <tr style=\"text-align: right;\">\n",
       "      <th></th>\n",
       "      <th>amount</th>\n",
       "      <th>trade_n</th>\n",
       "      <th>amount_volatility</th>\n",
       "      <th>trade_n_volatility</th>\n",
       "    </tr>\n",
       "    <tr>\n",
       "      <th>apartment_name</th>\n",
       "      <th></th>\n",
       "      <th></th>\n",
       "      <th></th>\n",
       "      <th></th>\n",
       "    </tr>\n",
       "  </thead>\n",
       "  <tbody>\n",
       "    <tr>\n",
       "      <th>0</th>\n",
       "      <td>1.710227e+08</td>\n",
       "      <td>22</td>\n",
       "      <td>1.771630</td>\n",
       "      <td>2.200000</td>\n",
       "    </tr>\n",
       "    <tr>\n",
       "      <th>1</th>\n",
       "      <td>2.990500e+08</td>\n",
       "      <td>4</td>\n",
       "      <td>0.345763</td>\n",
       "      <td>0.266667</td>\n",
       "    </tr>\n",
       "    <tr>\n",
       "      <th>2</th>\n",
       "      <td>2.861333e+08</td>\n",
       "      <td>6</td>\n",
       "      <td>0.250321</td>\n",
       "      <td>0.214286</td>\n",
       "    </tr>\n",
       "    <tr>\n",
       "      <th>3</th>\n",
       "      <td>4.027145e+08</td>\n",
       "      <td>78</td>\n",
       "      <td>1.276946</td>\n",
       "      <td>1.090909</td>\n",
       "    </tr>\n",
       "    <tr>\n",
       "      <th>4</th>\n",
       "      <td>9.908333e+08</td>\n",
       "      <td>12</td>\n",
       "      <td>0.388043</td>\n",
       "      <td>0.154286</td>\n",
       "    </tr>\n",
       "  </tbody>\n",
       "</table>\n",
       "</div>"
      ],
      "text/plain": [
       "                      amount  trade_n  amount_volatility  trade_n_volatility\n",
       "apartment_name                                                              \n",
       "0               1.710227e+08       22           1.771630            2.200000\n",
       "1               2.990500e+08        4           0.345763            0.266667\n",
       "2               2.861333e+08        6           0.250321            0.214286\n",
       "3               4.027145e+08       78           1.276946            1.090909\n",
       "4               9.908333e+08       12           0.388043            0.154286"
      ]
     },
     "execution_count": 79,
     "metadata": {
      "tags": []
     },
     "output_type": "execute_result"
    }
   ],
   "source": [
    "df3.head()"
   ]
  },
  {
   "cell_type": "code",
   "execution_count": 138,
   "metadata": {
    "colab": {
     "base_uri": "https://localhost:8080/",
     "height": 202
    },
    "colab_type": "code",
    "executionInfo": {
     "elapsed": 1415,
     "status": "ok",
     "timestamp": 1588496031898,
     "user": {
      "displayName": "조유림",
      "photoUrl": "",
      "userId": "08560563219995702049"
     },
     "user_tz": -540
    },
    "id": "azOWBIyll6Mi",
    "outputId": "64de7fbb-2f71-4cc9-8cd0-819509f3991b"
   },
   "outputs": [
    {
     "data": {
      "text/html": [
       "<div>\n",
       "<style scoped>\n",
       "    .dataframe tbody tr th:only-of-type {\n",
       "        vertical-align: middle;\n",
       "    }\n",
       "\n",
       "    .dataframe tbody tr th {\n",
       "        vertical-align: top;\n",
       "    }\n",
       "\n",
       "    .dataframe thead th {\n",
       "        text-align: right;\n",
       "    }\n",
       "</style>\n",
       "<table border=\"1\" class=\"dataframe\">\n",
       "  <thead>\n",
       "    <tr style=\"text-align: right;\">\n",
       "      <th></th>\n",
       "      <th>year</th>\n",
       "      <th>Nominal_GDP</th>\n",
       "      <th>RealGDP_growth_rate</th>\n",
       "      <th>key_interest_rate</th>\n",
       "      <th>price_index</th>\n",
       "    </tr>\n",
       "  </thead>\n",
       "  <tbody>\n",
       "    <tr>\n",
       "      <th>1</th>\n",
       "      <td>2006</td>\n",
       "      <td>1005602</td>\n",
       "      <td>5.3</td>\n",
       "      <td>4.5</td>\n",
       "      <td>0.4</td>\n",
       "    </tr>\n",
       "    <tr>\n",
       "      <th>2</th>\n",
       "      <td>2007</td>\n",
       "      <td>1089660</td>\n",
       "      <td>5.8</td>\n",
       "      <td>5.0</td>\n",
       "      <td>1.8</td>\n",
       "    </tr>\n",
       "    <tr>\n",
       "      <th>3</th>\n",
       "      <td>2008</td>\n",
       "      <td>1154217</td>\n",
       "      <td>3.0</td>\n",
       "      <td>3.0</td>\n",
       "      <td>2.3</td>\n",
       "    </tr>\n",
       "    <tr>\n",
       "      <th>4</th>\n",
       "      <td>2009</td>\n",
       "      <td>1205348</td>\n",
       "      <td>0.8</td>\n",
       "      <td>2.0</td>\n",
       "      <td>1.6</td>\n",
       "    </tr>\n",
       "    <tr>\n",
       "      <th>5</th>\n",
       "      <td>2010</td>\n",
       "      <td>1322611</td>\n",
       "      <td>6.8</td>\n",
       "      <td>2.5</td>\n",
       "      <td>1.9</td>\n",
       "    </tr>\n",
       "  </tbody>\n",
       "</table>\n",
       "</div>"
      ],
      "text/plain": [
       "   year  Nominal_GDP  RealGDP_growth_rate  key_interest_rate  price_index\n",
       "1  2006      1005602                  5.3                4.5          0.4\n",
       "2  2007      1089660                  5.8                5.0          1.8\n",
       "3  2008      1154217                  3.0                3.0          2.3\n",
       "4  2009      1205348                  0.8                2.0          1.6\n",
       "5  2010      1322611                  6.8                2.5          1.9"
      ]
     },
     "execution_count": 138,
     "metadata": {
      "tags": []
     },
     "output_type": "execute_result"
    }
   ],
   "source": [
    "#거시경제 변수 추가\n",
    "economy = pd.read_csv(\"economic_indicators.csv\")\n",
    "economy.head()"
   ]
  },
  {
   "cell_type": "code",
   "execution_count": 0,
   "metadata": {
    "colab": {},
    "colab_type": "code",
    "id": "Fp4bRftEl6Mo"
   },
   "outputs": [],
   "source": [
    "#경제지표, 변동비율 데이터프레임 merge\n",
    "new_df = pd.merge(df,economy,on='year',how='left')\n",
    "new_df = pd.merge(new_df,df3[['amount_volatility','trade_n_volatility']],on='apartment_name',how='left')\n",
    "#2020년 경제지표는 불확실해서 우선 2020년을 제외하고 모델링\n",
    "new_df = new_df[new_df['year']<2020]\n",
    "new_df = new_df.dropna()"
   ]
  },
  {
   "cell_type": "code",
   "execution_count": 221,
   "metadata": {
    "colab": {
     "base_uri": "https://localhost:8080/",
     "height": 222
    },
    "colab_type": "code",
    "executionInfo": {
     "elapsed": 571,
     "status": "ok",
     "timestamp": 1588498114872,
     "user": {
      "displayName": "조유림",
      "photoUrl": "",
      "userId": "08560563219995702049"
     },
     "user_tz": -540
    },
    "id": "qbYOy1fjl6Mq",
    "outputId": "04b15c36-9b5e-4792-c275-c7ce52cef6a3"
   },
   "outputs": [
    {
     "data": {
      "text/html": [
       "<div>\n",
       "<style scoped>\n",
       "    .dataframe tbody tr th:only-of-type {\n",
       "        vertical-align: middle;\n",
       "    }\n",
       "\n",
       "    .dataframe tbody tr th {\n",
       "        vertical-align: top;\n",
       "    }\n",
       "\n",
       "    .dataframe thead th {\n",
       "        text-align: right;\n",
       "    }\n",
       "</style>\n",
       "<table border=\"1\" class=\"dataframe\">\n",
       "  <thead>\n",
       "    <tr style=\"text-align: right;\">\n",
       "      <th></th>\n",
       "      <th>area</th>\n",
       "      <th>year</th>\n",
       "      <th>month</th>\n",
       "      <th>amount</th>\n",
       "      <th>district_id</th>\n",
       "      <th>apartment_addr_town</th>\n",
       "      <th>apartment_builder</th>\n",
       "      <th>apartment_build_year</th>\n",
       "      <th>apartment_build_month</th>\n",
       "      <th>apartment_parking</th>\n",
       "      <th>apartment_name</th>\n",
       "      <th>school_students</th>\n",
       "      <th>st_name</th>\n",
       "      <th>st_dist</th>\n",
       "      <th>st_volume</th>\n",
       "      <th>Nominal_GDP</th>\n",
       "      <th>RealGDP_growth_rate</th>\n",
       "      <th>key_interest_rate</th>\n",
       "      <th>price_index</th>\n",
       "      <th>amount_volatility</th>\n",
       "      <th>trade_n_volatility</th>\n",
       "    </tr>\n",
       "  </thead>\n",
       "  <tbody>\n",
       "    <tr>\n",
       "      <th>2</th>\n",
       "      <td>160</td>\n",
       "      <td>2019</td>\n",
       "      <td>11</td>\n",
       "      <td>1950000000</td>\n",
       "      <td>1</td>\n",
       "      <td>8</td>\n",
       "      <td>779</td>\n",
       "      <td>2004</td>\n",
       "      <td>6</td>\n",
       "      <td>2.36</td>\n",
       "      <td>41</td>\n",
       "      <td>316.0</td>\n",
       "      <td>277</td>\n",
       "      <td>0.002592</td>\n",
       "      <td>1</td>\n",
       "      <td>1913964</td>\n",
       "      <td>2.0</td>\n",
       "      <td>1.25</td>\n",
       "      <td>-0.1</td>\n",
       "      <td>0.240517</td>\n",
       "      <td>0.078107</td>\n",
       "    </tr>\n",
       "    <tr>\n",
       "      <th>3</th>\n",
       "      <td>160</td>\n",
       "      <td>2019</td>\n",
       "      <td>10</td>\n",
       "      <td>1939999999</td>\n",
       "      <td>1</td>\n",
       "      <td>8</td>\n",
       "      <td>779</td>\n",
       "      <td>2004</td>\n",
       "      <td>6</td>\n",
       "      <td>2.36</td>\n",
       "      <td>41</td>\n",
       "      <td>316.0</td>\n",
       "      <td>277</td>\n",
       "      <td>0.002592</td>\n",
       "      <td>1</td>\n",
       "      <td>1913964</td>\n",
       "      <td>2.0</td>\n",
       "      <td>1.25</td>\n",
       "      <td>-0.1</td>\n",
       "      <td>0.240517</td>\n",
       "      <td>0.078107</td>\n",
       "    </tr>\n",
       "    <tr>\n",
       "      <th>4</th>\n",
       "      <td>160</td>\n",
       "      <td>2019</td>\n",
       "      <td>7</td>\n",
       "      <td>1739999999</td>\n",
       "      <td>1</td>\n",
       "      <td>8</td>\n",
       "      <td>779</td>\n",
       "      <td>2004</td>\n",
       "      <td>6</td>\n",
       "      <td>2.36</td>\n",
       "      <td>41</td>\n",
       "      <td>316.0</td>\n",
       "      <td>277</td>\n",
       "      <td>0.002592</td>\n",
       "      <td>1</td>\n",
       "      <td>1913964</td>\n",
       "      <td>2.0</td>\n",
       "      <td>1.25</td>\n",
       "      <td>-0.1</td>\n",
       "      <td>0.240517</td>\n",
       "      <td>0.078107</td>\n",
       "    </tr>\n",
       "    <tr>\n",
       "      <th>5</th>\n",
       "      <td>160</td>\n",
       "      <td>2018</td>\n",
       "      <td>8</td>\n",
       "      <td>1789999999</td>\n",
       "      <td>1</td>\n",
       "      <td>8</td>\n",
       "      <td>779</td>\n",
       "      <td>2004</td>\n",
       "      <td>6</td>\n",
       "      <td>2.36</td>\n",
       "      <td>41</td>\n",
       "      <td>316.0</td>\n",
       "      <td>277</td>\n",
       "      <td>0.002592</td>\n",
       "      <td>1</td>\n",
       "      <td>1893497</td>\n",
       "      <td>2.7</td>\n",
       "      <td>1.75</td>\n",
       "      <td>0.6</td>\n",
       "      <td>0.240517</td>\n",
       "      <td>0.078107</td>\n",
       "    </tr>\n",
       "    <tr>\n",
       "      <th>6</th>\n",
       "      <td>160</td>\n",
       "      <td>2018</td>\n",
       "      <td>6</td>\n",
       "      <td>1620000000</td>\n",
       "      <td>1</td>\n",
       "      <td>8</td>\n",
       "      <td>779</td>\n",
       "      <td>2004</td>\n",
       "      <td>6</td>\n",
       "      <td>2.36</td>\n",
       "      <td>41</td>\n",
       "      <td>316.0</td>\n",
       "      <td>277</td>\n",
       "      <td>0.002592</td>\n",
       "      <td>1</td>\n",
       "      <td>1893497</td>\n",
       "      <td>2.7</td>\n",
       "      <td>1.75</td>\n",
       "      <td>0.6</td>\n",
       "      <td>0.240517</td>\n",
       "      <td>0.078107</td>\n",
       "    </tr>\n",
       "  </tbody>\n",
       "</table>\n",
       "</div>"
      ],
      "text/plain": [
       "   area  year  month  ...  price_index  amount_volatility  trade_n_volatility\n",
       "2   160  2019     11  ...         -0.1           0.240517            0.078107\n",
       "3   160  2019     10  ...         -0.1           0.240517            0.078107\n",
       "4   160  2019      7  ...         -0.1           0.240517            0.078107\n",
       "5   160  2018      8  ...          0.6           0.240517            0.078107\n",
       "6   160  2018      6  ...          0.6           0.240517            0.078107\n",
       "\n",
       "[5 rows x 21 columns]"
      ]
     },
     "execution_count": 221,
     "metadata": {
      "tags": []
     },
     "output_type": "execute_result"
    }
   ],
   "source": [
    "new_df.head()"
   ]
  },
  {
   "cell_type": "code",
   "execution_count": 222,
   "metadata": {
    "colab": {
     "base_uri": "https://localhost:8080/",
     "height": 503
    },
    "colab_type": "code",
    "executionInfo": {
     "elapsed": 1404,
     "status": "ok",
     "timestamp": 1588498118070,
     "user": {
      "displayName": "조유림",
      "photoUrl": "",
      "userId": "08560563219995702049"
     },
     "user_tz": -540
    },
    "id": "28m0I3wBl6Mt",
    "outputId": "a1e9265e-94f8-43a5-e1b9-d34b2ce83cd3"
   },
   "outputs": [
    {
     "name": "stdout",
     "output_type": "stream",
     "text": [
      "<class 'pandas.core.frame.DataFrame'>\n",
      "Int64Index: 447831 entries, 2 to 457903\n",
      "Data columns (total 21 columns):\n",
      " #   Column                 Non-Null Count   Dtype  \n",
      "---  ------                 --------------   -----  \n",
      " 0   area                   447831 non-null  int64  \n",
      " 1   year                   447831 non-null  int64  \n",
      " 2   month                  447831 non-null  int64  \n",
      " 3   amount                 447831 non-null  int64  \n",
      " 4   district_id            447831 non-null  int64  \n",
      " 5   apartment_addr_town    447831 non-null  int64  \n",
      " 6   apartment_builder      447831 non-null  int64  \n",
      " 7   apartment_build_year   447831 non-null  int64  \n",
      " 8   apartment_build_month  447831 non-null  int64  \n",
      " 9   apartment_parking      447831 non-null  float64\n",
      " 10  apartment_name         447831 non-null  int64  \n",
      " 11  school_students        447831 non-null  float64\n",
      " 12  st_name                447831 non-null  int64  \n",
      " 13  st_dist                447831 non-null  float64\n",
      " 14  st_volume              447831 non-null  int64  \n",
      " 15  Nominal_GDP            447831 non-null  int64  \n",
      " 16  RealGDP_growth_rate    447831 non-null  float64\n",
      " 17  key_interest_rate      447831 non-null  float64\n",
      " 18  price_index            447831 non-null  float64\n",
      " 19  amount_volatility      447831 non-null  float64\n",
      " 20  trade_n_volatility     447831 non-null  float64\n",
      "dtypes: float64(8), int64(13)\n",
      "memory usage: 75.2 MB\n"
     ]
    }
   ],
   "source": [
    "new_df.info()"
   ]
  },
  {
   "cell_type": "markdown",
   "metadata": {
    "colab_type": "text",
    "id": "fONFNkHBl6Mv"
   },
   "source": [
    "# Gradient Boosting Regressor"
   ]
  },
  {
   "cell_type": "code",
   "execution_count": 190,
   "metadata": {
    "colab": {
     "base_uri": "https://localhost:8080/",
     "height": 222
    },
    "colab_type": "code",
    "executionInfo": {
     "elapsed": 999,
     "status": "ok",
     "timestamp": 1588497377426,
     "user": {
      "displayName": "조유림",
      "photoUrl": "",
      "userId": "08560563219995702049"
     },
     "user_tz": -540
    },
    "id": "3-L9IwUzl6Mw",
    "outputId": "5af2ae08-b328-4222-beac-79f7dfa40a75"
   },
   "outputs": [
    {
     "data": {
      "text/html": [
       "<div>\n",
       "<style scoped>\n",
       "    .dataframe tbody tr th:only-of-type {\n",
       "        vertical-align: middle;\n",
       "    }\n",
       "\n",
       "    .dataframe tbody tr th {\n",
       "        vertical-align: top;\n",
       "    }\n",
       "\n",
       "    .dataframe thead th {\n",
       "        text-align: right;\n",
       "    }\n",
       "</style>\n",
       "<table border=\"1\" class=\"dataframe\">\n",
       "  <thead>\n",
       "    <tr style=\"text-align: right;\">\n",
       "      <th></th>\n",
       "      <th>area</th>\n",
       "      <th>year</th>\n",
       "      <th>month</th>\n",
       "      <th>amount</th>\n",
       "      <th>apartment_builder</th>\n",
       "      <th>apartment_build_year</th>\n",
       "      <th>apartment_build_month</th>\n",
       "      <th>apartment_parking</th>\n",
       "      <th>apartment_name</th>\n",
       "      <th>school_students</th>\n",
       "      <th>st_name</th>\n",
       "      <th>st_dist</th>\n",
       "      <th>st_volume</th>\n",
       "      <th>Nominal_GDP</th>\n",
       "      <th>RealGDP_growth_rate</th>\n",
       "      <th>key_interest_rate</th>\n",
       "      <th>price_index</th>\n",
       "      <th>amount_volatility</th>\n",
       "      <th>trade_n_volatility</th>\n",
       "    </tr>\n",
       "  </thead>\n",
       "  <tbody>\n",
       "    <tr>\n",
       "      <th>103397</th>\n",
       "      <td>84</td>\n",
       "      <td>2019</td>\n",
       "      <td>8</td>\n",
       "      <td>280000000</td>\n",
       "      <td>2506</td>\n",
       "      <td>1998</td>\n",
       "      <td>2</td>\n",
       "      <td>1.0</td>\n",
       "      <td>4781</td>\n",
       "      <td>333.0</td>\n",
       "      <td>49</td>\n",
       "      <td>0.008934</td>\n",
       "      <td>1</td>\n",
       "      <td>1913964</td>\n",
       "      <td>2.0</td>\n",
       "      <td>1.25</td>\n",
       "      <td>-0.1</td>\n",
       "      <td>0.000199</td>\n",
       "      <td>0.000446</td>\n",
       "    </tr>\n",
       "    <tr>\n",
       "      <th>103398</th>\n",
       "      <td>84</td>\n",
       "      <td>2018</td>\n",
       "      <td>6</td>\n",
       "      <td>264000000</td>\n",
       "      <td>2506</td>\n",
       "      <td>1998</td>\n",
       "      <td>2</td>\n",
       "      <td>1.0</td>\n",
       "      <td>4781</td>\n",
       "      <td>333.0</td>\n",
       "      <td>49</td>\n",
       "      <td>0.008934</td>\n",
       "      <td>1</td>\n",
       "      <td>1893497</td>\n",
       "      <td>2.7</td>\n",
       "      <td>1.75</td>\n",
       "      <td>0.6</td>\n",
       "      <td>0.000199</td>\n",
       "      <td>0.000446</td>\n",
       "    </tr>\n",
       "    <tr>\n",
       "      <th>103399</th>\n",
       "      <td>84</td>\n",
       "      <td>2018</td>\n",
       "      <td>4</td>\n",
       "      <td>295000000</td>\n",
       "      <td>2506</td>\n",
       "      <td>1998</td>\n",
       "      <td>2</td>\n",
       "      <td>1.0</td>\n",
       "      <td>4781</td>\n",
       "      <td>333.0</td>\n",
       "      <td>49</td>\n",
       "      <td>0.008934</td>\n",
       "      <td>1</td>\n",
       "      <td>1893497</td>\n",
       "      <td>2.7</td>\n",
       "      <td>1.75</td>\n",
       "      <td>0.6</td>\n",
       "      <td>0.000199</td>\n",
       "      <td>0.000446</td>\n",
       "    </tr>\n",
       "    <tr>\n",
       "      <th>103400</th>\n",
       "      <td>84</td>\n",
       "      <td>2018</td>\n",
       "      <td>3</td>\n",
       "      <td>295000000</td>\n",
       "      <td>2506</td>\n",
       "      <td>1998</td>\n",
       "      <td>2</td>\n",
       "      <td>1.0</td>\n",
       "      <td>4781</td>\n",
       "      <td>333.0</td>\n",
       "      <td>49</td>\n",
       "      <td>0.008934</td>\n",
       "      <td>1</td>\n",
       "      <td>1893497</td>\n",
       "      <td>2.7</td>\n",
       "      <td>1.75</td>\n",
       "      <td>0.6</td>\n",
       "      <td>0.000199</td>\n",
       "      <td>0.000446</td>\n",
       "    </tr>\n",
       "    <tr>\n",
       "      <th>103401</th>\n",
       "      <td>84</td>\n",
       "      <td>2018</td>\n",
       "      <td>2</td>\n",
       "      <td>270000000</td>\n",
       "      <td>2506</td>\n",
       "      <td>1998</td>\n",
       "      <td>2</td>\n",
       "      <td>1.0</td>\n",
       "      <td>4781</td>\n",
       "      <td>333.0</td>\n",
       "      <td>49</td>\n",
       "      <td>0.008934</td>\n",
       "      <td>1</td>\n",
       "      <td>1893497</td>\n",
       "      <td>2.7</td>\n",
       "      <td>1.75</td>\n",
       "      <td>0.6</td>\n",
       "      <td>0.000199</td>\n",
       "      <td>0.000446</td>\n",
       "    </tr>\n",
       "  </tbody>\n",
       "</table>\n",
       "</div>"
      ],
      "text/plain": [
       "        area  year  month  ...  price_index  amount_volatility  trade_n_volatility\n",
       "103397    84  2019      8  ...         -0.1           0.000199            0.000446\n",
       "103398    84  2018      6  ...          0.6           0.000199            0.000446\n",
       "103399    84  2018      4  ...          0.6           0.000199            0.000446\n",
       "103400    84  2018      3  ...          0.6           0.000199            0.000446\n",
       "103401    84  2018      2  ...          0.6           0.000199            0.000446\n",
       "\n",
       "[5 rows x 19 columns]"
      ]
     },
     "execution_count": 190,
     "metadata": {
      "tags": []
     },
     "output_type": "execute_result"
    }
   ],
   "source": [
    "#행정동 별 모델링\n",
    "df_apartment = new_df[new_df['apartment_addr_town']==1]\n",
    "df_apartment.head()\n",
    "df_apartment = df_apartment.drop(['district_id','apartment_addr_town'],axis=1)"
   ]
  },
  {
   "cell_type": "code",
   "execution_count": 0,
   "metadata": {
    "colab": {},
    "colab_type": "code",
    "id": "Xc7KTMyxl6Mz"
   },
   "outputs": [],
   "source": [
    "#from sklearn.preprocessing import StandardScaler\n",
    "#scaler = StandardScaler()\n",
    "#scaler.fit(df_apartment)"
   ]
  },
  {
   "cell_type": "code",
   "execution_count": 0,
   "metadata": {
    "colab": {},
    "colab_type": "code",
    "id": "bjYcJut8l6M6"
   },
   "outputs": [],
   "source": [
    "from sklearn.model_selection import train_test_split\n",
    "\n",
    "x = df_apartment.drop('amount',axis=1)\n",
    "y = df_apartment['amount']\n",
    "x_train,x_test,y_train,y_test = train_test_split(x,y,test_size=0.3)"
   ]
  },
  {
   "cell_type": "code",
   "execution_count": 232,
   "metadata": {
    "colab": {
     "base_uri": "https://localhost:8080/",
     "height": 130
    },
    "colab_type": "code",
    "executionInfo": {
     "elapsed": 1395,
     "status": "ok",
     "timestamp": 1588498264008,
     "user": {
      "displayName": "조유림",
      "photoUrl": "",
      "userId": "08560563219995702049"
     },
     "user_tz": -540
    },
    "id": "ahAmRNP7l6M-",
    "outputId": "f78de109-f460-439f-b8d0-07b25d831264"
   },
   "outputs": [
    {
     "data": {
      "text/html": [
       "<div>\n",
       "<style scoped>\n",
       "    .dataframe tbody tr th:only-of-type {\n",
       "        vertical-align: middle;\n",
       "    }\n",
       "\n",
       "    .dataframe tbody tr th {\n",
       "        vertical-align: top;\n",
       "    }\n",
       "\n",
       "    .dataframe thead th {\n",
       "        text-align: right;\n",
       "    }\n",
       "</style>\n",
       "<table border=\"1\" class=\"dataframe\">\n",
       "  <thead>\n",
       "    <tr style=\"text-align: right;\">\n",
       "      <th></th>\n",
       "      <th>0</th>\n",
       "      <th>1</th>\n",
       "      <th>2</th>\n",
       "      <th>3</th>\n",
       "      <th>4</th>\n",
       "      <th>5</th>\n",
       "      <th>6</th>\n",
       "      <th>7</th>\n",
       "      <th>8</th>\n",
       "      <th>9</th>\n",
       "      <th>10</th>\n",
       "      <th>11</th>\n",
       "      <th>12</th>\n",
       "      <th>13</th>\n",
       "      <th>14</th>\n",
       "      <th>15</th>\n",
       "      <th>16</th>\n",
       "      <th>17</th>\n",
       "      <th>18</th>\n",
       "      <th>19</th>\n",
       "      <th>20</th>\n",
       "      <th>21</th>\n",
       "    </tr>\n",
       "  </thead>\n",
       "  <tbody>\n",
       "    <tr>\n",
       "      <th>0</th>\n",
       "      <td>2.261363e+08</td>\n",
       "      <td>2.347107e+08</td>\n",
       "      <td>2.285945e+08</td>\n",
       "      <td>2.347107e+08</td>\n",
       "      <td>2.285945e+08</td>\n",
       "      <td>2.261363e+08</td>\n",
       "      <td>2.209761e+08</td>\n",
       "      <td>2.347107e+08</td>\n",
       "      <td>2.347107e+08</td>\n",
       "      <td>2.347107e+08</td>\n",
       "      <td>2.444121e+08</td>\n",
       "      <td>2.285945e+08</td>\n",
       "      <td>2.285945e+08</td>\n",
       "      <td>2.142126e+08</td>\n",
       "      <td>2.444121e+08</td>\n",
       "      <td>2.285945e+08</td>\n",
       "      <td>2.347107e+08</td>\n",
       "      <td>2.559784e+08</td>\n",
       "      <td>2.347107e+08</td>\n",
       "      <td>2.444121e+08</td>\n",
       "      <td>2.261363e+08</td>\n",
       "      <td>2.347107e+08</td>\n",
       "    </tr>\n",
       "    <tr>\n",
       "      <th>1</th>\n",
       "      <td>1.700000e+08</td>\n",
       "      <td>2.950000e+08</td>\n",
       "      <td>2.000000e+08</td>\n",
       "      <td>2.710000e+08</td>\n",
       "      <td>2.000000e+08</td>\n",
       "      <td>2.200000e+08</td>\n",
       "      <td>2.000000e+08</td>\n",
       "      <td>2.550000e+08</td>\n",
       "      <td>2.500000e+08</td>\n",
       "      <td>2.650000e+08</td>\n",
       "      <td>2.640000e+08</td>\n",
       "      <td>2.000000e+08</td>\n",
       "      <td>1.890000e+08</td>\n",
       "      <td>1.445000e+08</td>\n",
       "      <td>2.950000e+08</td>\n",
       "      <td>1.920000e+08</td>\n",
       "      <td>2.570000e+08</td>\n",
       "      <td>3.400000e+08</td>\n",
       "      <td>2.900000e+08</td>\n",
       "      <td>2.950000e+08</td>\n",
       "      <td>2.180000e+08</td>\n",
       "      <td>2.660000e+08</td>\n",
       "    </tr>\n",
       "  </tbody>\n",
       "</table>\n",
       "</div>"
      ],
      "text/plain": [
       "             0             1   ...            20            21\n",
       "0  2.261363e+08  2.347107e+08  ...  2.261363e+08  2.347107e+08\n",
       "1  1.700000e+08  2.950000e+08  ...  2.180000e+08  2.660000e+08\n",
       "\n",
       "[2 rows x 22 columns]"
      ]
     },
     "execution_count": 232,
     "metadata": {
      "tags": []
     },
     "output_type": "execute_result"
    }
   ],
   "source": [
    "from sklearn.ensemble import GradientBoostingRegressor\n",
    "\n",
    "gbrt = GradientBoostingRegressor(max_depth=2,n_estimators=3,learning_rate=0.1,random_state=42)\n",
    "gbrt.fit(x_train,y_train)\n",
    "y_predict = gbrt.predict(x_test)\n",
    "pd.DataFrame([y_predict,y_test])"
   ]
  },
  {
   "cell_type": "markdown",
   "metadata": {
    "colab_type": "text",
    "id": "t-lqjNznl6NB"
   },
   "source": [
    "# Random Forest"
   ]
  },
  {
   "cell_type": "code",
   "execution_count": 0,
   "metadata": {
    "colab": {},
    "colab_type": "code",
    "id": "3PWBFmntl6NB"
   },
   "outputs": [],
   "source": [
    "from sklearn.ensemble import RandomForestClassifier\n",
    "from sklearn import metrics\n",
    "from sklearn.model_selection import GridSearchCV"
   ]
  },
  {
   "cell_type": "code",
   "execution_count": 197,
   "metadata": {
    "colab": {
     "base_uri": "https://localhost:8080/",
     "height": 130
    },
    "colab_type": "code",
    "executionInfo": {
     "elapsed": 1102,
     "status": "ok",
     "timestamp": 1588497411318,
     "user": {
      "displayName": "조유림",
      "photoUrl": "",
      "userId": "08560563219995702049"
     },
     "user_tz": -540
    },
    "id": "UcFORtOBl6ND",
    "outputId": "dd4dc54e-9e23-418d-f5a3-293029fc1785"
   },
   "outputs": [
    {
     "data": {
      "text/html": [
       "<div>\n",
       "<style scoped>\n",
       "    .dataframe tbody tr th:only-of-type {\n",
       "        vertical-align: middle;\n",
       "    }\n",
       "\n",
       "    .dataframe tbody tr th {\n",
       "        vertical-align: top;\n",
       "    }\n",
       "\n",
       "    .dataframe thead th {\n",
       "        text-align: right;\n",
       "    }\n",
       "</style>\n",
       "<table border=\"1\" class=\"dataframe\">\n",
       "  <thead>\n",
       "    <tr style=\"text-align: right;\">\n",
       "      <th></th>\n",
       "      <th>0</th>\n",
       "      <th>1</th>\n",
       "      <th>2</th>\n",
       "      <th>3</th>\n",
       "      <th>4</th>\n",
       "      <th>5</th>\n",
       "      <th>6</th>\n",
       "      <th>7</th>\n",
       "      <th>8</th>\n",
       "      <th>9</th>\n",
       "      <th>10</th>\n",
       "      <th>11</th>\n",
       "      <th>12</th>\n",
       "      <th>13</th>\n",
       "      <th>14</th>\n",
       "      <th>15</th>\n",
       "      <th>16</th>\n",
       "      <th>17</th>\n",
       "      <th>18</th>\n",
       "      <th>19</th>\n",
       "      <th>20</th>\n",
       "      <th>21</th>\n",
       "    </tr>\n",
       "  </thead>\n",
       "  <tbody>\n",
       "    <tr>\n",
       "      <th>0</th>\n",
       "      <td>195000000</td>\n",
       "      <td>256999999</td>\n",
       "      <td>199000000</td>\n",
       "      <td>270000000</td>\n",
       "      <td>215000000</td>\n",
       "      <td>190000000</td>\n",
       "      <td>183000000</td>\n",
       "      <td>270000000</td>\n",
       "      <td>270000000</td>\n",
       "      <td>270000000</td>\n",
       "      <td>270000000</td>\n",
       "      <td>199000000</td>\n",
       "      <td>256000000</td>\n",
       "      <td>130000000</td>\n",
       "      <td>270000000</td>\n",
       "      <td>210300000</td>\n",
       "      <td>215000000</td>\n",
       "      <td>341000000</td>\n",
       "      <td>275000000</td>\n",
       "      <td>270000000</td>\n",
       "      <td>190000000</td>\n",
       "      <td>280000000</td>\n",
       "    </tr>\n",
       "    <tr>\n",
       "      <th>1</th>\n",
       "      <td>170000000</td>\n",
       "      <td>295000000</td>\n",
       "      <td>200000000</td>\n",
       "      <td>271000000</td>\n",
       "      <td>200000000</td>\n",
       "      <td>220000000</td>\n",
       "      <td>200000000</td>\n",
       "      <td>254999999</td>\n",
       "      <td>250000000</td>\n",
       "      <td>265000000</td>\n",
       "      <td>264000000</td>\n",
       "      <td>200000000</td>\n",
       "      <td>189000000</td>\n",
       "      <td>144500000</td>\n",
       "      <td>295000000</td>\n",
       "      <td>192000000</td>\n",
       "      <td>256999999</td>\n",
       "      <td>340000000</td>\n",
       "      <td>290000000</td>\n",
       "      <td>295000000</td>\n",
       "      <td>218000000</td>\n",
       "      <td>266000000</td>\n",
       "    </tr>\n",
       "  </tbody>\n",
       "</table>\n",
       "</div>"
      ],
      "text/plain": [
       "          0          1          2   ...         19         20         21\n",
       "0  195000000  256999999  199000000  ...  270000000  190000000  280000000\n",
       "1  170000000  295000000  200000000  ...  295000000  218000000  266000000\n",
       "\n",
       "[2 rows x 22 columns]"
      ]
     },
     "execution_count": 197,
     "metadata": {
      "tags": []
     },
     "output_type": "execute_result"
    }
   ],
   "source": [
    "forest = RandomForestClassifier(n_estimators=100)\n",
    "forest.fit(x_train,y_train)\n",
    "y_predict = forest.predict(x_test)\n",
    "pd.DataFrame([y_predict,y_test])"
   ]
  },
  {
   "cell_type": "markdown",
   "metadata": {
    "colab_type": "text",
    "id": "gP5-gsUyl6NH"
   },
   "source": [
    "# Example"
   ]
  },
  {
   "cell_type": "markdown",
   "metadata": {
    "colab_type": "text",
    "id": "x9p69_qYwLjY"
   },
   "source": [
    "2020년도를 예측하기 위해서는 거시경제지수에 대한 예측값이 필요(추후에 경제학자들이 예측한 수치를 사용하면 될듯..)\n",
    "\n",
    "편의상 2019년 6월 가리봉동 구로두산위브 53면적 가격과 실제값을 비교해본다고 하자"
   ]
  },
  {
   "cell_type": "code",
   "execution_count": 154,
   "metadata": {
    "colab": {
     "base_uri": "https://localhost:8080/",
     "height": 202
    },
    "colab_type": "code",
    "executionInfo": {
     "elapsed": 1452,
     "status": "ok",
     "timestamp": 1588496423894,
     "user": {
      "displayName": "조유림",
      "photoUrl": "",
      "userId": "08560563219995702049"
     },
     "user_tz": -540
    },
    "id": "OvNZlUNdl6NM",
    "outputId": "4ee2bcbf-93a3-4c3c-b4dd-7235149232d5"
   },
   "outputs": [
    {
     "data": {
      "text/html": [
       "<div>\n",
       "<style scoped>\n",
       "    .dataframe tbody tr th:only-of-type {\n",
       "        vertical-align: middle;\n",
       "    }\n",
       "\n",
       "    .dataframe tbody tr th {\n",
       "        vertical-align: top;\n",
       "    }\n",
       "\n",
       "    .dataframe thead th {\n",
       "        text-align: right;\n",
       "    }\n",
       "</style>\n",
       "<table border=\"1\" class=\"dataframe\">\n",
       "  <thead>\n",
       "    <tr style=\"text-align: right;\">\n",
       "      <th></th>\n",
       "      <th>label</th>\n",
       "      <th>apartment_name</th>\n",
       "    </tr>\n",
       "  </thead>\n",
       "  <tbody>\n",
       "    <tr>\n",
       "      <th>0</th>\n",
       "      <td>41</td>\n",
       "      <td>LG개포자이</td>\n",
       "    </tr>\n",
       "    <tr>\n",
       "      <th>99</th>\n",
       "      <td>229</td>\n",
       "      <td>개포래미안포레스트</td>\n",
       "    </tr>\n",
       "    <tr>\n",
       "      <th>112</th>\n",
       "      <td>231</td>\n",
       "      <td>개포상지리츠빌</td>\n",
       "    </tr>\n",
       "    <tr>\n",
       "      <th>119</th>\n",
       "      <td>235</td>\n",
       "      <td>개포주공1단지</td>\n",
       "    </tr>\n",
       "    <tr>\n",
       "      <th>721</th>\n",
       "      <td>236</td>\n",
       "      <td>개포주공4단지</td>\n",
       "    </tr>\n",
       "  </tbody>\n",
       "</table>\n",
       "</div>"
      ],
      "text/plain": [
       "    label apartment_name\n",
       "0      41         LG개포자이\n",
       "99    229      개포래미안포레스트\n",
       "112   231        개포상지리츠빌\n",
       "119   235        개포주공1단지\n",
       "721   236        개포주공4단지"
      ]
     },
     "execution_count": 154,
     "metadata": {
      "tags": []
     },
     "output_type": "execute_result"
    }
   ],
   "source": [
    "apartment_label_df.head()"
   ]
  },
  {
   "cell_type": "code",
   "execution_count": 152,
   "metadata": {
    "colab": {
     "base_uri": "https://localhost:8080/",
     "height": 202
    },
    "colab_type": "code",
    "executionInfo": {
     "elapsed": 1442,
     "status": "ok",
     "timestamp": 1588496188141,
     "user": {
      "displayName": "조유림",
      "photoUrl": "",
      "userId": "08560563219995702049"
     },
     "user_tz": -540
    },
    "id": "E9E5iJwBwALM",
    "outputId": "97d4cc3e-2740-4317-8cf5-7f66fc3f3a91"
   },
   "outputs": [
    {
     "data": {
      "text/html": [
       "<div>\n",
       "<style scoped>\n",
       "    .dataframe tbody tr th:only-of-type {\n",
       "        vertical-align: middle;\n",
       "    }\n",
       "\n",
       "    .dataframe tbody tr th {\n",
       "        vertical-align: top;\n",
       "    }\n",
       "\n",
       "    .dataframe thead th {\n",
       "        text-align: right;\n",
       "    }\n",
       "</style>\n",
       "<table border=\"1\" class=\"dataframe\">\n",
       "  <thead>\n",
       "    <tr style=\"text-align: right;\">\n",
       "      <th></th>\n",
       "      <th>label</th>\n",
       "      <th>town_name</th>\n",
       "    </tr>\n",
       "  </thead>\n",
       "  <tbody>\n",
       "    <tr>\n",
       "      <th>0</th>\n",
       "      <td>8</td>\n",
       "      <td>개포동</td>\n",
       "    </tr>\n",
       "    <tr>\n",
       "      <th>3775</th>\n",
       "      <td>44</td>\n",
       "      <td>논현동</td>\n",
       "    </tr>\n",
       "    <tr>\n",
       "      <th>5636</th>\n",
       "      <td>58</td>\n",
       "      <td>대치동</td>\n",
       "    </tr>\n",
       "    <tr>\n",
       "      <th>9423</th>\n",
       "      <td>61</td>\n",
       "      <td>도곡동</td>\n",
       "    </tr>\n",
       "    <tr>\n",
       "      <th>13157</th>\n",
       "      <td>133</td>\n",
       "      <td>삼성동</td>\n",
       "    </tr>\n",
       "  </tbody>\n",
       "</table>\n",
       "</div>"
      ],
      "text/plain": [
       "      label town_name\n",
       "0         8       개포동\n",
       "3775     44       논현동\n",
       "5636     58       대치동\n",
       "9423     61       도곡동\n",
       "13157   133       삼성동"
      ]
     },
     "execution_count": 152,
     "metadata": {
      "tags": []
     },
     "output_type": "execute_result"
    }
   ],
   "source": [
    "townlabel_df.head()"
   ]
  },
  {
   "cell_type": "code",
   "execution_count": 201,
   "metadata": {
    "colab": {
     "base_uri": "https://localhost:8080/",
     "height": 79
    },
    "colab_type": "code",
    "executionInfo": {
     "elapsed": 1417,
     "status": "ok",
     "timestamp": 1588497597757,
     "user": {
      "displayName": "조유림",
      "photoUrl": "",
      "userId": "08560563219995702049"
     },
     "user_tz": -540
    },
    "id": "XVJktbhu039m",
    "outputId": "5122a989-b974-427a-ee1a-97603ac39639"
   },
   "outputs": [
    {
     "data": {
      "text/html": [
       "<div>\n",
       "<style scoped>\n",
       "    .dataframe tbody tr th:only-of-type {\n",
       "        vertical-align: middle;\n",
       "    }\n",
       "\n",
       "    .dataframe tbody tr th {\n",
       "        vertical-align: top;\n",
       "    }\n",
       "\n",
       "    .dataframe thead th {\n",
       "        text-align: right;\n",
       "    }\n",
       "</style>\n",
       "<table border=\"1\" class=\"dataframe\">\n",
       "  <thead>\n",
       "    <tr style=\"text-align: right;\">\n",
       "      <th></th>\n",
       "      <th>label</th>\n",
       "      <th>town_name</th>\n",
       "    </tr>\n",
       "  </thead>\n",
       "  <tbody>\n",
       "    <tr>\n",
       "      <th>103396</th>\n",
       "      <td>1</td>\n",
       "      <td>가리봉동</td>\n",
       "    </tr>\n",
       "  </tbody>\n",
       "</table>\n",
       "</div>"
      ],
      "text/plain": [
       "       label town_name\n",
       "103396     1      가리봉동"
      ]
     },
     "execution_count": 201,
     "metadata": {
      "tags": []
     },
     "output_type": "execute_result"
    }
   ],
   "source": [
    "townlabel_df[townlabel_df['town_name']=='가리봉동']"
   ]
  },
  {
   "cell_type": "code",
   "execution_count": 199,
   "metadata": {
    "colab": {
     "base_uri": "https://localhost:8080/",
     "height": 79
    },
    "colab_type": "code",
    "executionInfo": {
     "elapsed": 1449,
     "status": "ok",
     "timestamp": 1588497507724,
     "user": {
      "displayName": "조유림",
      "photoUrl": "",
      "userId": "08560563219995702049"
     },
     "user_tz": -540
    },
    "id": "__uuxuQywFST",
    "outputId": "264ba706-3b1c-456a-f19c-9c6451dcf696"
   },
   "outputs": [
    {
     "data": {
      "text/html": [
       "<div>\n",
       "<style scoped>\n",
       "    .dataframe tbody tr th:only-of-type {\n",
       "        vertical-align: middle;\n",
       "    }\n",
       "\n",
       "    .dataframe tbody tr th {\n",
       "        vertical-align: top;\n",
       "    }\n",
       "\n",
       "    .dataframe thead th {\n",
       "        text-align: right;\n",
       "    }\n",
       "</style>\n",
       "<table border=\"1\" class=\"dataframe\">\n",
       "  <thead>\n",
       "    <tr style=\"text-align: right;\">\n",
       "      <th></th>\n",
       "      <th>label</th>\n",
       "      <th>apartment_name</th>\n",
       "    </tr>\n",
       "  </thead>\n",
       "  <tbody>\n",
       "    <tr>\n",
       "      <th>113425</th>\n",
       "      <td>448</td>\n",
       "      <td>구로두산위브</td>\n",
       "    </tr>\n",
       "  </tbody>\n",
       "</table>\n",
       "</div>"
      ],
      "text/plain": [
       "       label apartment_name\n",
       "113425   448         구로두산위브"
      ]
     },
     "execution_count": 199,
     "metadata": {
      "tags": []
     },
     "output_type": "execute_result"
    }
   ],
   "source": [
    "apartment_label_df[apartment_label_df['apartment_name']=='구로두산위브']"
   ]
  },
  {
   "cell_type": "code",
   "execution_count": 225,
   "metadata": {
    "colab": {
     "base_uri": "https://localhost:8080/",
     "height": 99
    },
    "colab_type": "code",
    "executionInfo": {
     "elapsed": 996,
     "status": "ok",
     "timestamp": 1588498148260,
     "user": {
      "displayName": "조유림",
      "photoUrl": "",
      "userId": "08560563219995702049"
     },
     "user_tz": -540
    },
    "id": "E8v-5nAnyzVO",
    "outputId": "d3db0f3a-b83f-455b-b4a6-5a5707c81b61"
   },
   "outputs": [
    {
     "data": {
      "text/html": [
       "<div>\n",
       "<style scoped>\n",
       "    .dataframe tbody tr th:only-of-type {\n",
       "        vertical-align: middle;\n",
       "    }\n",
       "\n",
       "    .dataframe tbody tr th {\n",
       "        vertical-align: top;\n",
       "    }\n",
       "\n",
       "    .dataframe thead th {\n",
       "        text-align: right;\n",
       "    }\n",
       "</style>\n",
       "<table border=\"1\" class=\"dataframe\">\n",
       "  <thead>\n",
       "    <tr style=\"text-align: right;\">\n",
       "      <th></th>\n",
       "      <th>area</th>\n",
       "      <th>year</th>\n",
       "      <th>month</th>\n",
       "      <th>amount</th>\n",
       "      <th>apartment_builder</th>\n",
       "      <th>apartment_build_year</th>\n",
       "      <th>apartment_build_month</th>\n",
       "      <th>apartment_parking</th>\n",
       "      <th>apartment_name</th>\n",
       "      <th>school_students</th>\n",
       "      <th>st_name</th>\n",
       "      <th>st_dist</th>\n",
       "      <th>st_volume</th>\n",
       "      <th>Nominal_GDP</th>\n",
       "      <th>RealGDP_growth_rate</th>\n",
       "      <th>key_interest_rate</th>\n",
       "      <th>price_index</th>\n",
       "      <th>amount_volatility</th>\n",
       "      <th>trade_n_volatility</th>\n",
       "    </tr>\n",
       "  </thead>\n",
       "  <tbody>\n",
       "    <tr>\n",
       "      <th>113434</th>\n",
       "      <td>53</td>\n",
       "      <td>2019</td>\n",
       "      <td>6</td>\n",
       "      <td>332000000</td>\n",
       "      <td>1215</td>\n",
       "      <td>2006</td>\n",
       "      <td>7</td>\n",
       "      <td>0.87</td>\n",
       "      <td>448</td>\n",
       "      <td>567.0</td>\n",
       "      <td>49</td>\n",
       "      <td>0.001102</td>\n",
       "      <td>1</td>\n",
       "      <td>1913964</td>\n",
       "      <td>2.0</td>\n",
       "      <td>1.25</td>\n",
       "      <td>-0.1</td>\n",
       "      <td>0.010001</td>\n",
       "      <td>0.017542</td>\n",
       "    </tr>\n",
       "  </tbody>\n",
       "</table>\n",
       "</div>"
      ],
      "text/plain": [
       "        area  year  month  ...  price_index  amount_volatility  trade_n_volatility\n",
       "113434    53  2019      6  ...         -0.1           0.010001            0.017542\n",
       "\n",
       "[1 rows x 19 columns]"
      ]
     },
     "execution_count": 225,
     "metadata": {
      "tags": []
     },
     "output_type": "execute_result"
    }
   ],
   "source": [
    "# 2019년 면적53 6월\n",
    "ex = new_df[(new_df['apartment_name']==448)&(new_df['area']==53)&(new_df['year']==2019)&(new_df['month']==6)]\n",
    "ex = ex.drop(['district_id','apartment_addr_town'],axis=1)\n",
    "ex"
   ]
  },
  {
   "cell_type": "code",
   "execution_count": 229,
   "metadata": {
    "colab": {
     "base_uri": "https://localhost:8080/",
     "height": 110
    },
    "colab_type": "code",
    "executionInfo": {
     "elapsed": 1460,
     "status": "ok",
     "timestamp": 1588498222956,
     "user": {
      "displayName": "조유림",
      "photoUrl": "",
      "userId": "08560563219995702049"
     },
     "user_tz": -540
    },
    "id": "yeenhJMQ0FRm",
    "outputId": "8f14abbe-4863-4691-b261-0cb10c4aa5e2"
   },
   "outputs": [
    {
     "data": {
      "text/html": [
       "<div>\n",
       "<style scoped>\n",
       "    .dataframe tbody tr th:only-of-type {\n",
       "        vertical-align: middle;\n",
       "    }\n",
       "\n",
       "    .dataframe tbody tr th {\n",
       "        vertical-align: top;\n",
       "    }\n",
       "\n",
       "    .dataframe thead th {\n",
       "        text-align: right;\n",
       "    }\n",
       "</style>\n",
       "<table border=\"1\" class=\"dataframe\">\n",
       "  <thead>\n",
       "    <tr style=\"text-align: right;\">\n",
       "      <th></th>\n",
       "      <th>0</th>\n",
       "    </tr>\n",
       "  </thead>\n",
       "  <tbody>\n",
       "    <tr>\n",
       "      <th>0</th>\n",
       "      <td>280000000</td>\n",
       "    </tr>\n",
       "    <tr>\n",
       "      <th>1</th>\n",
       "      <td>332000000</td>\n",
       "    </tr>\n",
       "  </tbody>\n",
       "</table>\n",
       "</div>"
      ],
      "text/plain": [
       "           0\n",
       "0  280000000\n",
       "1  332000000"
      ]
     },
     "execution_count": 229,
     "metadata": {
      "tags": []
     },
     "output_type": "execute_result"
    }
   ],
   "source": [
    "x = ex.drop('amount',axis=1)\n",
    "y_real = ex['amount']\n",
    "y_predict = forest.predict(x)\n",
    "pd.DataFrame([y_predict,y_real])"
   ]
  }
 ],
 "metadata": {
  "accelerator": "GPU",
  "colab": {
   "machine_shape": "hm",
   "name": "modeling_revised.ipynb",
   "provenance": []
  },
  "kernelspec": {
   "display_name": "Python 3",
   "language": "python",
   "name": "python3"
  },
  "language_info": {
   "codemirror_mode": {
    "name": "ipython",
    "version": 3
   },
   "file_extension": ".py",
   "mimetype": "text/x-python",
   "name": "python",
   "nbconvert_exporter": "python",
   "pygments_lexer": "ipython3",
   "version": "3.8.1"
  }
 },
 "nbformat": 4,
 "nbformat_minor": 1
}
