{
 "cells": [
  {
   "cell_type": "markdown",
   "metadata": {},
   "source": [
    "# Data Importing"
   ]
  },
  {
   "cell_type": "code",
   "execution_count": 1,
   "metadata": {},
   "outputs": [],
   "source": [
    "import psycopg2\n",
    "import pandas as pd\n",
    "import json"
   ]
  },
  {
   "cell_type": "code",
   "execution_count": 2,
   "metadata": {},
   "outputs": [],
   "source": [
    "def call_df(table_name):\n",
    "    with open('config.json', 'r') as f:\n",
    "        config = json.load(f)\n",
    "        \n",
    "    conn = psycopg2.connect(user = config['USER'],\n",
    "                              password = config['PASSWORD'],\n",
    "                              host = config['HOST'],\n",
    "                              port = config['PORT'],\n",
    "                              database = config['DATABASE'])\n",
    "    \n",
    "    sql = f'SELECT * FROM {table_name}'\n",
    "    df = pd.read_sql_query(sql, conn)\n",
    "    conn.close()\n",
    "    return df"
   ]
  },
  {
   "cell_type": "code",
   "execution_count": 3,
   "metadata": {},
   "outputs": [],
   "source": [
    "district = call_df('crawling_db.district_table')\n",
    "apartment = call_df('crawling_db.apartment_table').drop(columns='table_id')\n",
    "school = call_df('crawling_db.school_table').drop(columns='table_id')\n",
    "price = call_df('crawling_db.price_table')\n",
    "subway = call_df('crawling_db.subway_table').drop(columns='table_id')"
   ]
  },
  {
   "cell_type": "code",
   "execution_count": 4,
   "metadata": {},
   "outputs": [],
   "source": [
    "df = (price.merge(apartment, how='left', on='apartment_id').\n",
    "      merge(district, how='left', on='district_id').\n",
    "      merge(school, how='left', on='apartment_id').\n",
    "      merge(subway, how='left', on='apartment_id'))"
   ]
  },
  {
   "cell_type": "markdown",
   "metadata": {},
   "source": [
    "# EDA"
   ]
  },
  {
   "cell_type": "markdown",
   "metadata": {},
   "source": [
    "## 라이브러리"
   ]
  },
  {
   "cell_type": "code",
   "execution_count": 5,
   "metadata": {},
   "outputs": [],
   "source": [
    "import matplotlib.pyplot as plt\n",
    "import seaborn as sns\n",
    "import matplotlib.font_manager as fm\n",
    "\n",
    "path = 'C:/Windows/Fonts/malgun.ttf'\n",
    "font_name = fm.FontProperties(fname=path, size=50).get_name()\n",
    "plt.rc('font', family=font_name)\n",
    "\n",
    "%matplotlib inline"
   ]
  },
  {
   "cell_type": "markdown",
   "metadata": {},
   "source": [
    "---\n",
    "## 아파트 ID\n",
    "### 아파트 ID의 개수\n",
    "- 아파트 ID는 몇 개인가? 즉, 몇 종류의 아파트가 있을까?"
   ]
  },
  {
   "cell_type": "code",
   "execution_count": 6,
   "metadata": {},
   "outputs": [
    {
     "name": "stdout",
     "output_type": "stream",
     "text": [
      "서울특별시에는 5683 종류의 아파트(ID)가 있다.\n"
     ]
    }
   ],
   "source": [
    "n_apt = len(df['apartment_id'].unique())\n",
    "print(f'서울특별시에는 {n_apt} 종류의 아파트(ID)가 있다.')"
   ]
  },
  {
   "cell_type": "markdown",
   "metadata": {},
   "source": [
    "### 아파트 ID별 거래량\n",
    "- 그동안 아파트 ID별 몇 건의 거래가 있었을까?"
   ]
  },
  {
   "cell_type": "code",
   "execution_count": 7,
   "metadata": {},
   "outputs": [
    {
     "data": {
      "image/png": "[encoded data removed]",
      "text/plain": [
       "<Figure size 432x288 with 1 Axes>"
      ]
     },
     "metadata": {
      "needs_background": "light"
     },
     "output_type": "display_data"
    },
    {
     "name": "stdout",
     "output_type": "stream",
     "text": [
      "총 거래량이 200번 이하인 아파트 ID가 전체에서 89%의 비율을 차지\n"
     ]
    }
   ],
   "source": [
    "apt_count = df['apartment_id'].value_counts().to_frame('count') # 아파트 ID별 거래량(count) \n",
    "graph_1 = sns.distplot(apt_count) # 그래프\n",
    "graph_1.axvline(200, color='red') # 수직선\n",
    "plt.title('아파트 ID별 거래량의 분포')\n",
    "plt.xlabel('거래량'); plt.ylabel('비율')\n",
    "plt.show()\n",
    "print(f\"총 거래량이 200번 이하인 아파트 ID가 전체에서 {round(len(apt_count[apt_count['count']<=200])/n_apt*100)}%의 비율을 차지\")"
   ]
  },
  {
   "cell_type": "markdown",
   "metadata": {},
   "source": [
    "### 아파트 ID별 거래월별 분포\n",
    "- 아파트 매매 거래는 주거의 목적을 내포하고 있기 때문에 거래일자의 분포가 촘촘하지 않을 수 있다. 실제로 그런지 확인하기 위해 EDA를 실행한다."
   ]
  },
  {
   "cell_type": "markdown",
   "metadata": {},
   "source": [
    "#### 총 거래월 수\n",
    "- 자료의 최소 시간 단위는 '월(month)'로 구성되어 있다."
   ]
  },
  {
   "cell_type": "code",
   "execution_count": 8,
   "metadata": {},
   "outputs": [
    {
     "name": "stdout",
     "output_type": "stream",
     "text": [
      "2006.01부터 2020.04까지 총 172의 개월로 분포한다.\n"
     ]
    }
   ],
   "source": [
    "n_period = len(df['period'].unique())\n",
    "print(f\"{df['period'].min()}부터 {df['period'].max()}까지 총 {n_period}의 개월로 분포한다.\")"
   ]
  },
  {
   "cell_type": "markdown",
   "metadata": {},
   "source": [
    "#### 거래 없는 달의 분포\n",
    "- 아파트 ID별로 거래가 아예 없는 월이 있을 것으로 생각된다. 이를 확인해보도록 한다."
   ]
  },
  {
   "cell_type": "code",
   "execution_count": 9,
   "metadata": {},
   "outputs": [],
   "source": [
    "apt_per = (df[['apartment_id','period']].drop_duplicates(). # 아파트 ID별로 몇 개의 기간이 있는가\n",
    "           groupby('apartment_id')['period'].count().to_frame('count').reset_index() # 있는 기간은 총 몇 개인가\n",
    "          )\n",
    "apt_per['count'] = 172 - apt_per['count'] # 총 개월 수에서 빼주면 결측값"
   ]
  },
  {
   "cell_type": "code",
   "execution_count": 10,
   "metadata": {},
   "outputs": [
    {
     "data": {
      "image/png": "[encoded data removed]",
      "text/plain": [
       "<Figure size 432x288 with 1 Axes>"
      ]
     },
     "metadata": {
      "needs_background": "light"
     },
     "output_type": "display_data"
    }
   ],
   "source": [
    "graph_2 = sns.distplot(apt_per['count']) # 그래프\n",
    "graph_2.axvline(0, color='red') # 최소\n",
    "graph_2.axvline(172, color='red') # 최대\n",
    "plt.title('아파트 ID별 거래 없는 달의 분포')\n",
    "plt.xlabel('결측치'); plt.ylabel('비율')\n",
    "plt.show()"
   ]
  },
  {
   "cell_type": "markdown",
   "metadata": {},
   "source": [
    "- 아파트 ID별로 거래가 아예 없는 달이 매우 많습니다. 따라서 사용자가 어떤 아파트 매매가의 예측값을 알고 싶더라도, 샘플이 거의 없어 예측이 불가능할 수 있습니다. 따라서 저희는 클러스터링 기법을 통해 샘플의 수를 인위적으로 늘리고자 합니다."
   ]
  }
 ],
 "metadata": {
  "kernelspec": {
   "display_name": "Python 3",
   "language": "python",
   "name": "python3"
  },
  "language_info": {
   "codemirror_mode": {
    "name": "ipython",
    "version": 3
   },
   "file_extension": ".py",
   "mimetype": "text/x-python",
   "name": "python",
   "nbconvert_exporter": "python",
   "pygments_lexer": "ipython3",
   "version": "3.7.4"
  },
  "toc": {
   "base_numbering": 1,
   "nav_menu": {},
   "number_sections": true,
   "sideBar": true,
   "skip_h1_title": false,
   "title_cell": "Table of Contents",
   "title_sidebar": "Contents",
   "toc_cell": false,
   "toc_position": {
    "height": "calc(100% - 180px)",
    "left": "10px",
    "top": "150px",
    "width": "307.188px"
   },
   "toc_section_display": true,
   "toc_window_display": true
  },
  "varInspector": {
   "cols": {
    "lenName": 16,
    "lenType": 16,
    "lenVar": 40
   },
   "kernels_config": {
    "python": {
     "delete_cmd_postfix": "",
     "delete_cmd_prefix": "del ",
     "library": "var_list.py",
     "varRefreshCmd": "print(var_dic_list())"
    },
    "r": {
     "delete_cmd_postfix": ") ",
     "delete_cmd_prefix": "rm(",
     "library": "var_list.r",
     "varRefreshCmd": "cat(var_dic_list()) "
    }
   },
   "types_to_exclude": [
    "module",
    "function",
    "builtin_function_or_method",
    "instance",
    "_Feature"
   ],
   "window_display": false
  }
 },
 "nbformat": 4,
 "nbformat_minor": 2
}
