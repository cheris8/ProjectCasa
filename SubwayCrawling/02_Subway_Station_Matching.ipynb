{
 "cells": [
  {
   "cell_type": "code",
   "execution_count": null,
   "metadata": {},
   "outputs": [],
   "source": [
    "import pandas as pd"
   ]
  },
  {
   "cell_type": "code",
   "execution_count": null,
   "metadata": {},
   "outputs": [],
   "source": [
    "st_info = pd.read_csv('./data/subway_location_info.csv')\n",
    "apt_url = pd.read_csv('./data/apartment_url.csv', engine='python')"
   ]
  },
  {
   "cell_type": "code",
   "execution_count": null,
   "metadata": {},
   "outputs": [],
   "source": [
    "class spliter:\n",
    "    def apt_id(x):\n",
    "        return int(x.split('/')[-1].split('?ms=')[0])\n",
    "    def apt_lat(x):\n",
    "        return float(x.split('/')[-1].split('?ms=')[1].split(',')[0])\n",
    "    def apt_lng(x):\n",
    "        return float(x.split('/')[-1].split('?ms=')[1].split(',')[1])"
   ]
  },
  {
   "cell_type": "code",
   "execution_count": null,
   "metadata": {},
   "outputs": [],
   "source": [
    "apt_id = apt_url['url'].apply(lambda x: spliter.apt_id(x))\n",
    "apt_lat = apt_url['url'].apply(lambda x: spliter.apt_lat(x))\n",
    "apt_lng = apt_url['url'].apply(lambda x: spliter.apt_lng(x))"
   ]
  },
  {
   "cell_type": "code",
   "execution_count": null,
   "metadata": {},
   "outputs": [],
   "source": [
    "apt_info = pd.DataFrame({'apartment_id':apt_id,\n",
    "                         'apartment_lat':apt_lat,\n",
    "                         'apartment_lng':apt_lng}).sort_values('apartment_id').reset_index(drop=True)"
   ]
  },
  {
   "cell_type": "code",
   "execution_count": null,
   "metadata": {},
   "outputs": [],
   "source": [
    "import math\n",
    "class euclid:\n",
    "    def st_name(lat, lng, df):\n",
    "        df['st_dist'] = (df['st_lat']-lat)**2 + (df['st_lng']-lng)**2\n",
    "        df['st_dist'] = df['st_dist'].apply(lambda x: math.sqrt(x))\n",
    "        st_name = df.sort_values('st_dist').reset_index(drop=True).loc[0,'st_name']\n",
    "        return st_name\n",
    "    def st_dist(lat, lng, df):\n",
    "        df['st_dist'] = (df['st_lat']-lat)**2 + (df['st_lng']-lng)**2\n",
    "        df['st_dist'] = df['st_dist'].apply(lambda x: math.sqrt(x))\n",
    "        st_dist = df.sort_values('st_dist').reset_index(drop=True).loc[0,'st_dist']\n",
    "        return st_dist\n",
    "    def st_count(lat, lng, df):\n",
    "        df['st_dist'] = (df['st_lat']-lat)**2 + (df['st_lng']-lng)**2\n",
    "        df['st_dist'] = df['st_dist'].apply(lambda x: math.sqrt(x))\n",
    "        st_count = df.sort_values('st_dist').reset_index(drop=True).loc[0,'st_count']\n",
    "        return st_count"
   ]
  },
  {
   "cell_type": "code",
   "execution_count": null,
   "metadata": {},
   "outputs": [],
   "source": [
    "apt_info['st_name'] = apt_info.apply(lambda x: euclid.st_name(x['apartment_lat'], x['apartment_lng'], st_info), axis=1)\n",
    "apt_info['st_dist'] = apt_info.apply(lambda x: euclid.st_dist(x['apartment_lat'], x['apartment_lng'], st_info), axis=1)\n",
    "apt_info['st_volume'] = apt_info.apply(lambda x: euclid.st_count(x['apartment_lat'], x['apartment_lng'], st_info), axis=1)"
   ]
  },
  {
   "cell_type": "code",
   "execution_count": null,
   "metadata": {},
   "outputs": [],
   "source": [
    "apt_info = apt_info.drop(columns=['apartment_lat','apartment_lng'])\n",
    "apt_info.to_csv('./data/subway_table.csv', index=False)"
   ]
  }
 ],
 "metadata": {
  "kernelspec": {
   "display_name": "Python 3",
   "language": "python",
   "name": "python3"
  },
  "language_info": {
   "codemirror_mode": {
    "name": "ipython",
    "version": 3
   },
   "file_extension": ".py",
   "mimetype": "text/x-python",
   "name": "python",
   "nbconvert_exporter": "python",
   "pygments_lexer": "ipython3",
   "version": "3.7.6"
  },
  "toc": {
   "base_numbering": 1,
   "nav_menu": {},
   "number_sections": true,
   "sideBar": true,
   "skip_h1_title": false,
   "title_cell": "Table of Contents",
   "title_sidebar": "Contents",
   "toc_cell": false,
   "toc_position": {},
   "toc_section_display": true,
   "toc_window_display": false
  },
  "varInspector": {
   "cols": {
    "lenName": 16,
    "lenType": 16,
    "lenVar": 40
   },
   "kernels_config": {
    "python": {
     "delete_cmd_postfix": "",
     "delete_cmd_prefix": "del ",
     "library": "var_list.py",
     "varRefreshCmd": "print(var_dic_list())"
    },
    "r": {
     "delete_cmd_postfix": ") ",
     "delete_cmd_prefix": "rm(",
     "library": "var_list.r",
     "varRefreshCmd": "cat(var_dic_list()) "
    }
   },
   "types_to_exclude": [
    "module",
    "function",
    "builtin_function_or_method",
    "instance",
    "_Feature"
   ],
   "window_display": false
  }
 },
 "nbformat": 4,
 "nbformat_minor": 4
}
