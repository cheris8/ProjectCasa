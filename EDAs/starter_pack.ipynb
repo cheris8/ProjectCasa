{
 "cells": [
  {
   "cell_type": "code",
   "execution_count": 47,
   "metadata": {},
   "outputs": [],
   "source": [
    "import psycopg2\n",
    "import pandas as pd\n",
    "import json"
   ]
  },
  {
   "cell_type": "code",
   "execution_count": 45,
   "metadata": {},
   "outputs": [],
   "source": [
    "def call_df(table_name):\n",
    "    with open('config.json', 'r') as f:\n",
    "        config = json.load(f)\n",
    "        \n",
    "    conn = psycopg2.connect(user = config['USER'],\n",
    "                              password = config['PASSWORD'],\n",
    "                              host = config['HOST'],\n",
    "                              port = config['PORT'],\n",
    "                              database = config['DATABASE'])\n",
    "    \n",
    "    sql = f'SELECT * FROM {table_name}'\n",
    "    df = pd.read_sql_query(sql, conn)\n",
    "    conn.close()\n",
    "    return df"
   ]
  },
  {
   "cell_type": "code",
   "execution_count": 64,
   "metadata": {},
   "outputs": [],
   "source": [
    "district = call_df('crawling_db.district_table')\n",
    "apartment = call_df('crawling_db.apartment_table').drop(columns='table_id')\n",
    "school = call_df('crawling_db.school_table').drop(columns='table_id')\n",
    "price = call_df('crawling_db.price_table')"
   ]
  },
  {
   "cell_type": "code",
   "execution_count": 65,
   "metadata": {},
   "outputs": [],
   "source": [
    "df = (price.merge(apartment, how='left', on='apartment_id').\n",
    "      merge(district, how='left', on='district_id').\n",
    "      merge(school, how='left', on='apartment_id'))"
   ]
  },
  {
   "cell_type": "code",
   "execution_count": 68,
   "metadata": {},
   "outputs": [
    {
     "name": "stdout",
     "output_type": "stream",
     "text": [
      "<class 'pandas.core.frame.DataFrame'>\n",
      "Int64Index: 272741 entries, 0 to 272740\n",
      "Data columns (total 22 columns):\n",
      " #   Column                 Non-Null Count   Dtype  \n",
      "---  ------                 --------------   -----  \n",
      " 0   price_id               272741 non-null  int64  \n",
      " 1   apartment_id           272741 non-null  int64  \n",
      " 2   area                   272741 non-null  object \n",
      " 3   period                 272741 non-null  object \n",
      " 4   year                   272741 non-null  int64  \n",
      " 5   month                  272741 non-null  int64  \n",
      " 6   amount                 272741 non-null  int64  \n",
      " 7   amount_original        272741 non-null  object \n",
      " 8   district_id            272741 non-null  int64  \n",
      " 9   apartment_addr_town    272741 non-null  object \n",
      " 10  apartment_builder      272741 non-null  object \n",
      " 11  apartment_build_year   272741 non-null  int64  \n",
      " 12  apartment_build_month  272741 non-null  int64  \n",
      " 13  apartment_floor_min    272741 non-null  object \n",
      " 14  apartment_floor_max    272741 non-null  object \n",
      " 15  apartment_parking      272741 non-null  float64\n",
      " 16  district_name          272741 non-null  object \n",
      " 17  school_name            272741 non-null  object \n",
      " 18  school_dist            272741 non-null  int64  \n",
      " 19  school_addr_district   272741 non-null  int64  \n",
      " 20  school_addr_town       272741 non-null  object \n",
      " 21  school_students        272741 non-null  object \n",
      "dtypes: float64(1), int64(10), object(11)\n",
      "memory usage: 47.9+ MB\n"
     ]
    }
   ],
   "source": [
    "df.info()"
   ]
  }
 ],
 "metadata": {
  "kernelspec": {
   "display_name": "Python 3",
   "language": "python",
   "name": "python3"
  },
  "language_info": {
   "codemirror_mode": {
    "name": "ipython",
    "version": 3
   },
   "file_extension": ".py",
   "mimetype": "text/x-python",
   "name": "python",
   "nbconvert_exporter": "python",
   "pygments_lexer": "ipython3",
   "version": "3.7.6"
  },
  "toc": {
   "base_numbering": 1,
   "nav_menu": {},
   "number_sections": true,
   "sideBar": true,
   "skip_h1_title": false,
   "title_cell": "Table of Contents",
   "title_sidebar": "Contents",
   "toc_cell": false,
   "toc_position": {
    "height": "calc(100% - 180px)",
    "left": "10px",
    "top": "150px",
    "width": "307.188px"
   },
   "toc_section_display": true,
   "toc_window_display": false
  },
  "varInspector": {
   "cols": {
    "lenName": 16,
    "lenType": 16,
    "lenVar": 40
   },
   "kernels_config": {
    "python": {
     "delete_cmd_postfix": "",
     "delete_cmd_prefix": "del ",
     "library": "var_list.py",
     "varRefreshCmd": "print(var_dic_list())"
    },
    "r": {
     "delete_cmd_postfix": ") ",
     "delete_cmd_prefix": "rm(",
     "library": "var_list.r",
     "varRefreshCmd": "cat(var_dic_list()) "
    }
   },
   "types_to_exclude": [
    "module",
    "function",
    "builtin_function_or_method",
    "instance",
    "_Feature"
   ],
   "window_display": false
  }
 },
 "nbformat": 4,
 "nbformat_minor": 2
}
